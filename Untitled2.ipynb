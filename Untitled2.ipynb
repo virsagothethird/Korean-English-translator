{
 "cells": [
  {
   "cell_type": "code",
   "execution_count": 132,
   "metadata": {},
   "outputs": [
    {
     "name": "stdout",
     "output_type": "stream",
     "text": [
      "The autoreload extension is already loaded. To reload it, use:\n",
      "  %reload_ext autoreload\n"
     ]
    }
   ],
   "source": [
    "%load_ext autoreload\n",
    "%autoreload 2"
   ]
  },
  {
   "cell_type": "code",
   "execution_count": 133,
   "metadata": {},
   "outputs": [],
   "source": [
    "import pandas as pd\n",
    "import numpy as np\n",
    "from langdetect import detect\n",
    "import re\n",
    "import os\n",
    "import matplotlib.ticker as ticker\n",
    "import matplotlib.pyplot as plt\n",
    "import datetime\n",
    "\n",
    "\n",
    "from sklearn.model_selection import train_test_split\n",
    "\n",
    "import tensorflow as tf\n",
    "from tensorflow import keras\n",
    "from tensorflow.keras.preprocessing.text import Tokenizer\n",
    "from tensorflow.keras.preprocessing.sequence import pad_sequences\n",
    "from tensorflow.keras.models import Model, Sequential, load_model\n",
    "from tensorflow.keras.layers import Input, LSTM, Dense, GRU, Embedding, Layer, RepeatVector, TimeDistributed\n",
    "from tensorflow.keras.losses import SparseCategoricalCrossentropy, CategoricalCrossentropy\n",
    "from tensorflow.keras.optimizers import Adam\n",
    "from tensorflow.keras.utils import plot_model, to_categorical\n",
    "from tensorflow.keras.callbacks import ModelCheckpoint, TensorBoard\n",
    "import pydot\n",
    "\n",
    "from src.helpme2 import clean_text,start_end_tagger,max_length,tokenize,preprocess,preprocess_sentence"
   ]
  },
  {
   "cell_type": "code",
   "execution_count": 134,
   "metadata": {},
   "outputs": [],
   "source": [
    "df_all = pd.read_csv('data/final_df_fix.txt',sep='\\t')"
   ]
  },
  {
   "cell_type": "code",
   "execution_count": 135,
   "metadata": {},
   "outputs": [],
   "source": [
    "df_spa = pd.read_csv('data/spa.txt',sep='\\t',names=['eng','spa','drop_me'])"
   ]
  },
  {
   "cell_type": "code",
   "execution_count": 136,
   "metadata": {},
   "outputs": [
    {
     "data": {
      "text/html": [
       "<div>\n",
       "<style scoped>\n",
       "    .dataframe tbody tr th:only-of-type {\n",
       "        vertical-align: middle;\n",
       "    }\n",
       "\n",
       "    .dataframe tbody tr th {\n",
       "        vertical-align: top;\n",
       "    }\n",
       "\n",
       "    .dataframe thead th {\n",
       "        text-align: right;\n",
       "    }\n",
       "</style>\n",
       "<table border=\"1\" class=\"dataframe\">\n",
       "  <thead>\n",
       "    <tr style=\"text-align: right;\">\n",
       "      <th></th>\n",
       "      <th>eng</th>\n",
       "      <th>spa</th>\n",
       "      <th>drop_me</th>\n",
       "    </tr>\n",
       "  </thead>\n",
       "  <tbody>\n",
       "    <tr>\n",
       "      <th>0</th>\n",
       "      <td>Go.</td>\n",
       "      <td>Ve.</td>\n",
       "      <td>CC-BY 2.0 (France) Attribution: tatoeba.org #2...</td>\n",
       "    </tr>\n",
       "    <tr>\n",
       "      <th>1</th>\n",
       "      <td>Go.</td>\n",
       "      <td>Vete.</td>\n",
       "      <td>CC-BY 2.0 (France) Attribution: tatoeba.org #2...</td>\n",
       "    </tr>\n",
       "    <tr>\n",
       "      <th>2</th>\n",
       "      <td>Go.</td>\n",
       "      <td>Vaya.</td>\n",
       "      <td>CC-BY 2.0 (France) Attribution: tatoeba.org #2...</td>\n",
       "    </tr>\n",
       "    <tr>\n",
       "      <th>3</th>\n",
       "      <td>Go.</td>\n",
       "      <td>Váyase.</td>\n",
       "      <td>CC-BY 2.0 (France) Attribution: tatoeba.org #2...</td>\n",
       "    </tr>\n",
       "    <tr>\n",
       "      <th>4</th>\n",
       "      <td>Hi.</td>\n",
       "      <td>Hola.</td>\n",
       "      <td>CC-BY 2.0 (France) Attribution: tatoeba.org #5...</td>\n",
       "    </tr>\n",
       "    <tr>\n",
       "      <th>...</th>\n",
       "      <td>...</td>\n",
       "      <td>...</td>\n",
       "      <td>...</td>\n",
       "    </tr>\n",
       "    <tr>\n",
       "      <th>123330</th>\n",
       "      <td>There are mothers and fathers who will lie awa...</td>\n",
       "      <td>Hay madres y padres que se quedan despiertos d...</td>\n",
       "      <td>CC-BY 2.0 (France) Attribution: tatoeba.org #3...</td>\n",
       "    </tr>\n",
       "    <tr>\n",
       "      <th>123331</th>\n",
       "      <td>A carbon footprint is the amount of carbon dio...</td>\n",
       "      <td>Una huella de carbono es la cantidad de contam...</td>\n",
       "      <td>CC-BY 2.0 (France) Attribution: tatoeba.org #1...</td>\n",
       "    </tr>\n",
       "    <tr>\n",
       "      <th>123332</th>\n",
       "      <td>Since there are usually multiple websites on a...</td>\n",
       "      <td>Como suele haber varias páginas web sobre cual...</td>\n",
       "      <td>CC-BY 2.0 (France) Attribution: tatoeba.org #9...</td>\n",
       "    </tr>\n",
       "    <tr>\n",
       "      <th>123333</th>\n",
       "      <td>If you want to sound like a native speaker, yo...</td>\n",
       "      <td>Si quieres sonar como un hablante nativo, debe...</td>\n",
       "      <td>CC-BY 2.0 (France) Attribution: tatoeba.org #9...</td>\n",
       "    </tr>\n",
       "    <tr>\n",
       "      <th>123334</th>\n",
       "      <td>It may be impossible to get a completely error...</td>\n",
       "      <td>Puede que sea imposible obtener un corpus comp...</td>\n",
       "      <td>CC-BY 2.0 (France) Attribution: tatoeba.org #2...</td>\n",
       "    </tr>\n",
       "  </tbody>\n",
       "</table>\n",
       "<p>123335 rows × 3 columns</p>\n",
       "</div>"
      ],
      "text/plain": [
       "                                                      eng  \\\n",
       "0                                                     Go.   \n",
       "1                                                     Go.   \n",
       "2                                                     Go.   \n",
       "3                                                     Go.   \n",
       "4                                                     Hi.   \n",
       "...                                                   ...   \n",
       "123330  There are mothers and fathers who will lie awa...   \n",
       "123331  A carbon footprint is the amount of carbon dio...   \n",
       "123332  Since there are usually multiple websites on a...   \n",
       "123333  If you want to sound like a native speaker, yo...   \n",
       "123334  It may be impossible to get a completely error...   \n",
       "\n",
       "                                                      spa  \\\n",
       "0                                                     Ve.   \n",
       "1                                                   Vete.   \n",
       "2                                                   Vaya.   \n",
       "3                                                 Váyase.   \n",
       "4                                                   Hola.   \n",
       "...                                                   ...   \n",
       "123330  Hay madres y padres que se quedan despiertos d...   \n",
       "123331  Una huella de carbono es la cantidad de contam...   \n",
       "123332  Como suele haber varias páginas web sobre cual...   \n",
       "123333  Si quieres sonar como un hablante nativo, debe...   \n",
       "123334  Puede que sea imposible obtener un corpus comp...   \n",
       "\n",
       "                                                  drop_me  \n",
       "0       CC-BY 2.0 (France) Attribution: tatoeba.org #2...  \n",
       "1       CC-BY 2.0 (France) Attribution: tatoeba.org #2...  \n",
       "2       CC-BY 2.0 (France) Attribution: tatoeba.org #2...  \n",
       "3       CC-BY 2.0 (France) Attribution: tatoeba.org #2...  \n",
       "4       CC-BY 2.0 (France) Attribution: tatoeba.org #5...  \n",
       "...                                                   ...  \n",
       "123330  CC-BY 2.0 (France) Attribution: tatoeba.org #3...  \n",
       "123331  CC-BY 2.0 (France) Attribution: tatoeba.org #1...  \n",
       "123332  CC-BY 2.0 (France) Attribution: tatoeba.org #9...  \n",
       "123333  CC-BY 2.0 (France) Attribution: tatoeba.org #9...  \n",
       "123334  CC-BY 2.0 (France) Attribution: tatoeba.org #2...  \n",
       "\n",
       "[123335 rows x 3 columns]"
      ]
     },
     "execution_count": 136,
     "metadata": {},
     "output_type": "execute_result"
    }
   ],
   "source": [
    "df_spa"
   ]
  },
  {
   "cell_type": "code",
   "execution_count": 153,
   "metadata": {},
   "outputs": [
    {
     "name": "stdout",
     "output_type": "stream",
     "text": [
      "English vocab size: 2293\n",
      "Korean vocab size: 4934\n",
      "Longest English Sentence: 16\n",
      "Longest Korean Sentence: 15\n"
     ]
    }
   ],
   "source": [
    "df_test = pd.read_csv('data/kor.txt', sep='\\t', names=['eng','kor','drop_me'])\n",
    "df_test = df_test.drop(columns='drop_me')\n",
    "\n",
    "df_test = df_test.drop([3317,3316])\n",
    "\n",
    "df_test = df_test[:-30]\n",
    "\n",
    "\n",
    "\n",
    "eng = preprocess(df_test['eng'])\n",
    "kor = preprocess(df_test['kor'])\n",
    "\n",
    "input_tensor, input_lang_tokenizer = tokenize(eng)\n",
    "target_tensor, target_lang_tokenizer = tokenize(kor)\n",
    "\n",
    "input_lang_tokenizer.word_index\n",
    "\n",
    "target_lang_tokenizer.word_index\n",
    "\n",
    "eng_test_vocab_size = len(input_lang_tokenizer.word_index)+1\n",
    "kor_test_vocab_size = len(target_lang_tokenizer.word_index)+1\n",
    "\n",
    "print(f'English vocab size: {eng_test_vocab_size}')\n",
    "print(f'Korean vocab size: {kor_test_vocab_size}')\n",
    "\n",
    "eng_test_max_length = len(input_tensor[0])\n",
    "kor_test_max_length = len(target_tensor[0])\n",
    "\n",
    "print(f'Longest English Sentence: {eng_test_max_length}')\n",
    "print(f'Longest Korean Sentence: {kor_test_max_length}')"
   ]
  },
  {
   "cell_type": "code",
   "execution_count": 138,
   "metadata": {},
   "outputs": [
    {
     "data": {
      "text/plain": [
       "3286"
      ]
     },
     "execution_count": 138,
     "metadata": {},
     "output_type": "execute_result"
    }
   ],
   "source": [
    "eng.shape[0]"
   ]
  },
  {
   "cell_type": "code",
   "execution_count": 139,
   "metadata": {},
   "outputs": [],
   "source": [
    "X_train, X_test, y_train, y_test = train_test_split(input_tensor,target_tensor, test_size=.15)"
   ]
  },
  {
   "cell_type": "code",
   "execution_count": 182,
   "metadata": {},
   "outputs": [
    {
     "name": "stdout",
     "output_type": "stream",
     "text": [
      "English vocab size: 12251\n",
      "Korean vocab size: 58663\n",
      "Longest English Sentence: 45\n",
      "Longest Korean Sentence: 15\n"
     ]
    }
   ],
   "source": [
    "# eng_all = df_all['eng'].apply(clean_text)\n",
    "\n",
    "# eng_all = eng_all.apply(start_end_tagger)\n",
    "\n",
    "# kor_all = df_all['kor'].apply(clean_text)\n",
    "# kor_all = kor_all.apply(start_end_tagger)\n",
    "\n",
    "eng_all = preprocess(df_all['eng'])\n",
    "kor_all = preprocess(df_all['kor'])\n",
    "\n",
    "eng_tensor, eng_tokenizer = tokenize(eng_all)\n",
    "kor_tensor, kor_tokenizer = tokenize(kor_all)\n",
    "\n",
    "eng_vocab_size = len(eng_tokenizer.word_index)+1\n",
    "kor_vocab_size = len(kor_tokenizer.word_index)+1\n",
    "\n",
    "print(f'English vocab size: {eng_vocab_size}')\n",
    "print(f'Korean vocab size: {kor_vocab_size}')\n",
    "\n",
    "eng_max_length = len(eng_tensor[0])\n",
    "kor_max_length = len(kor_tensor[0])\n",
    "\n",
    "print(f'Longest English Sentence: {eng_max_length}')\n",
    "print(f'Longest Korean Sentence: {kor_max_length}')"
   ]
  },
  {
   "cell_type": "code",
   "execution_count": 141,
   "metadata": {},
   "outputs": [
    {
     "name": "stdout",
     "output_type": "stream",
     "text": [
      "English vocab size: 13872\n",
      "Spanish vocab size: 26910\n",
      "Longest English Sentence: 49\n",
      "Longest Korean Sentence: 55\n"
     ]
    }
   ],
   "source": [
    "eng = preprocess(df_spa['eng'])\n",
    "spa = preprocess(df_spa['spa'])\n",
    "\n",
    "eng_tensor_spa, eng_tokenizer_spa = tokenize(eng)\n",
    "spa_tensor, spa_tokenizer = tokenize(spa)\n",
    "\n",
    "eng_vocab_size_spa = len(eng_tokenizer_spa.word_index)+1\n",
    "spa_vocab_size = len(spa_tokenizer.word_index)+1\n",
    "\n",
    "print(f'English vocab size: {eng_vocab_size_spa}')\n",
    "print(f'Spanish vocab size: {spa_vocab_size}')\n",
    "\n",
    "eng_max_length_spa = len(eng_tensor_spa[0])\n",
    "spa_max_length = len(spa_tensor[0])\n",
    "\n",
    "print(f'Longest English Sentence: {eng_max_length_spa}')\n",
    "print(f'Longest Korean Sentence: {spa_max_length}')"
   ]
  },
  {
   "cell_type": "code",
   "execution_count": 142,
   "metadata": {},
   "outputs": [],
   "source": [
    "def encode_sequences(tokenizer, length, lines):\n",
    "    # integer encode sequences\n",
    "    X = tokenizer.texts_to_sequences(lines)\n",
    "    # pad sequences with 0 values\n",
    "    X = pad_sequences(X, maxlen=length, padding='post')\n",
    "    return X"
   ]
  },
  {
   "cell_type": "code",
   "execution_count": 143,
   "metadata": {},
   "outputs": [],
   "source": [
    "def encode_output(sequences, vocab_size):\n",
    "    ylist = list()\n",
    "    for sequence in sequences:\n",
    "        encoded = to_categorical(sequence, num_classes=vocab_size)\n",
    "        ylist.append(encoded)\n",
    "    y = np.array(ylist)\n",
    "    y = y.reshape(sequences.shape[0], sequences.shape[1], vocab_size)\n",
    "    return y"
   ]
  },
  {
   "cell_type": "code",
   "execution_count": 144,
   "metadata": {},
   "outputs": [],
   "source": [
    "y_train_test = encode_output(y_train, kor_test_vocab_size)\n",
    "y_test_test = encode_output(y_test, kor_test_vocab_size)"
   ]
  },
  {
   "cell_type": "code",
   "execution_count": 131,
   "metadata": {},
   "outputs": [
    {
     "ename": "KeyError",
     "evalue": "'끔찍해라'",
     "output_type": "error",
     "traceback": [
      "\u001b[1;31m---------------------------------------------------------------------------\u001b[0m",
      "\u001b[1;31mKeyError\u001b[0m                                  Traceback (most recent call last)",
      "\u001b[1;32m<ipython-input-131-87933650b1cd>\u001b[0m in \u001b[0;36m<module>\u001b[1;34m\u001b[0m\n\u001b[1;32m----> 1\u001b[1;33m \u001b[0minput_lang_tokenizer\u001b[0m\u001b[1;33m.\u001b[0m\u001b[0mword_index\u001b[0m\u001b[1;33m[\u001b[0m\u001b[1;34m'끔찍해라'\u001b[0m\u001b[1;33m]\u001b[0m\u001b[1;33m\u001b[0m\u001b[1;33m\u001b[0m\u001b[0m\n\u001b[0m",
      "\u001b[1;31mKeyError\u001b[0m: '끔찍해라'"
     ]
    }
   ],
   "source": [
    "input_lang_tokenizer.word_index['끔찍해라']"
   ]
  },
  {
   "cell_type": "code",
   "execution_count": 164,
   "metadata": {},
   "outputs": [
    {
     "data": {
      "text/plain": [
       "(2793, 15, 4934)"
      ]
     },
     "execution_count": 164,
     "metadata": {},
     "output_type": "execute_result"
    }
   ],
   "source": [
    "y_train_test.shape"
   ]
  },
  {
   "cell_type": "code",
   "execution_count": 166,
   "metadata": {},
   "outputs": [],
   "source": [
    "# y_train_test = tf.one_hot(y_train.astype(np.int32), depth=kor_test_vocab_size)\n",
    "# y_test_test = tf.one_hot(y_test.astype(np.int32), depth=kor_test_vocab_size)"
   ]
  },
  {
   "cell_type": "code",
   "execution_count": 223,
   "metadata": {},
   "outputs": [],
   "source": [
    "# target_tensor_encoded = encode_output(target_tensor, kor_vocab_size)"
   ]
  },
  {
   "cell_type": "code",
   "execution_count": 26,
   "metadata": {},
   "outputs": [],
   "source": [
    "def define_model(src_vocab, tar_vocab, src_timesteps, tar_timesteps, n_units):\n",
    "    model = Sequential()\n",
    "    model.add(Embedding(src_vocab, n_units, input_length=src_timesteps, mask_zero=True))\n",
    "    model.add(LSTM(n_units))\n",
    "    model.add(RepeatVector(tar_timesteps))\n",
    "    model.add(LSTM(n_units, return_sequences=True))\n",
    "    model.add(TimeDistributed(Dense(tar_vocab, activation='softmax')))\n",
    "    return model\n",
    " "
   ]
  },
  {
   "cell_type": "code",
   "execution_count": 172,
   "metadata": {},
   "outputs": [
    {
     "name": "stdout",
     "output_type": "stream",
     "text": [
      "Model: \"sequential_1\"\n",
      "_________________________________________________________________\n",
      "Layer (type)                 Output Shape              Param #   \n",
      "=================================================================\n",
      "embedding_1 (Embedding)      (None, 16, 50)            114650    \n",
      "_________________________________________________________________\n",
      "lstm_2 (LSTM)                (None, 50)                20200     \n",
      "_________________________________________________________________\n",
      "repeat_vector_1 (RepeatVecto (None, 15, 50)            0         \n",
      "_________________________________________________________________\n",
      "lstm_3 (LSTM)                (None, 15, 50)            20200     \n",
      "_________________________________________________________________\n",
      "time_distributed_1 (TimeDist (None, 15, 4934)          251634    \n",
      "=================================================================\n",
      "Total params: 406,684\n",
      "Trainable params: 406,684\n",
      "Non-trainable params: 0\n",
      "_________________________________________________________________\n",
      "None\n"
     ]
    },
    {
     "data": {
      "image/png": "[encoded data removed]",
      "text/plain": [
       "<IPython.core.display.Image object>"
      ]
     },
     "execution_count": 172,
     "metadata": {},
     "output_type": "execute_result"
    }
   ],
   "source": [
    "# define model\n",
    "model = define_model(eng_test_vocab_size, kor_test_vocab_size, eng_test_max_length, kor_test_max_length, 50)\n",
    "model.compile(optimizer='adam', loss='categorical_crossentropy',metrics=['acc'])\n",
    "# summarize defined model\n",
    "print(model.summary())\n",
    "plot_model(model, to_file='model.png', show_shapes=True)"
   ]
  },
  {
   "cell_type": "code",
   "execution_count": 148,
   "metadata": {},
   "outputs": [],
   "source": [
    "log_dir=\"logs/fit/\"\n",
    "tensorboard_callback = TensorBoard(log_dir=log_dir, histogram_freq=1, profile_batch=1000000)"
   ]
  },
  {
   "cell_type": "code",
   "execution_count": 149,
   "metadata": {},
   "outputs": [],
   "source": [
    "filename = 'model_test.h5'\n",
    "checkpoint = ModelCheckpoint(filename, monitor='val_acc', verbose=1, save_best_only=True)\n"
   ]
  },
  {
   "cell_type": "code",
   "execution_count": 175,
   "metadata": {
    "scrolled": true
   },
   "outputs": [
    {
     "name": "stdout",
     "output_type": "stream",
     "text": [
      "Train on 2793 samples, validate on 493 samples\n",
      "Epoch 1/50\n",
      "\n",
      "Epoch 00001: val_acc improved from -inf to 0.60041, saving model to model_test.h5\n",
      "2793/2793 - 15s - loss: 4.8042 - acc: 0.5837 - val_loss: 3.1180 - val_acc: 0.6004\n",
      "Epoch 2/50\n",
      "\n",
      "Epoch 00002: val_acc did not improve from 0.60041\n",
      "2793/2793 - 3s - loss: 3.0977 - acc: 0.5913 - val_loss: 3.1215 - val_acc: 0.6004\n",
      "Epoch 3/50\n",
      "\n",
      "Epoch 00003: val_acc did not improve from 0.60041\n",
      "2793/2793 - 3s - loss: 2.9457 - acc: 0.5913 - val_loss: 2.8460 - val_acc: 0.6004\n",
      "Epoch 4/50\n",
      "\n",
      "Epoch 00004: val_acc improved from 0.60041 to 0.66707, saving model to model_test.h5\n",
      "2793/2793 - 3s - loss: 2.6424 - acc: 0.6523 - val_loss: 2.6182 - val_acc: 0.6671\n",
      "Epoch 5/50\n",
      "\n",
      "Epoch 00005: val_acc did not improve from 0.66707\n",
      "2793/2793 - 3s - loss: 2.4498 - acc: 0.6580 - val_loss: 2.4859 - val_acc: 0.6671\n",
      "Epoch 6/50\n",
      "\n",
      "Epoch 00006: val_acc improved from 0.66707 to 0.67762, saving model to model_test.h5\n",
      "2793/2793 - 3s - loss: 2.3285 - acc: 0.6671 - val_loss: 2.4329 - val_acc: 0.6776\n",
      "Epoch 7/50\n",
      "\n",
      "Epoch 00007: val_acc improved from 0.67762 to 0.69588, saving model to model_test.h5\n",
      "2793/2793 - 3s - loss: 2.2591 - acc: 0.6819 - val_loss: 2.4108 - val_acc: 0.6959\n",
      "Epoch 8/50\n",
      "\n",
      "Epoch 00008: val_acc improved from 0.69588 to 0.70264, saving model to model_test.h5\n",
      "2793/2793 - 3s - loss: 2.2128 - acc: 0.6950 - val_loss: 2.3854 - val_acc: 0.7026\n",
      "Epoch 9/50\n",
      "\n",
      "Epoch 00009: val_acc did not improve from 0.70264\n",
      "2793/2793 - 3s - loss: 2.1759 - acc: 0.7034 - val_loss: 2.3803 - val_acc: 0.7022\n",
      "Epoch 10/50\n",
      "\n",
      "Epoch 00010: val_acc did not improve from 0.70264\n",
      "2793/2793 - 3s - loss: 2.1420 - acc: 0.7087 - val_loss: 2.3800 - val_acc: 0.7016\n",
      "Epoch 11/50\n",
      "\n",
      "Epoch 00011: val_acc did not improve from 0.70264\n",
      "2793/2793 - 3s - loss: 2.1151 - acc: 0.7102 - val_loss: 2.3758 - val_acc: 0.6995\n",
      "Epoch 12/50\n",
      "\n",
      "Epoch 00012: val_acc did not improve from 0.70264\n",
      "2793/2793 - 3s - loss: 2.0969 - acc: 0.7104 - val_loss: 2.3703 - val_acc: 0.6991\n",
      "Epoch 13/50\n",
      "\n",
      "Epoch 00013: val_acc did not improve from 0.70264\n",
      "2793/2793 - 3s - loss: 2.0764 - acc: 0.7120 - val_loss: 2.3730 - val_acc: 0.6986\n",
      "Epoch 14/50\n",
      "\n",
      "Epoch 00014: val_acc improved from 0.70264 to 0.70358, saving model to model_test.h5\n",
      "2793/2793 - 3s - loss: 2.0603 - acc: 0.7136 - val_loss: 2.3912 - val_acc: 0.7036\n",
      "Epoch 15/50\n",
      "\n",
      "Epoch 00015: val_acc did not improve from 0.70358\n",
      "2793/2793 - 3s - loss: 2.0416 - acc: 0.7149 - val_loss: 2.3736 - val_acc: 0.7026\n",
      "Epoch 16/50\n",
      "\n",
      "Epoch 00016: val_acc did not improve from 0.70358\n",
      "2793/2793 - 3s - loss: 2.0223 - acc: 0.7174 - val_loss: 2.3834 - val_acc: 0.6994\n",
      "Epoch 17/50\n",
      "\n",
      "Epoch 00017: val_acc did not improve from 0.70358\n",
      "2793/2793 - 3s - loss: 2.0043 - acc: 0.7191 - val_loss: 2.3938 - val_acc: 0.7017\n",
      "Epoch 18/50\n",
      "\n",
      "Epoch 00018: val_acc did not improve from 0.70358\n",
      "2793/2793 - 3s - loss: 1.9889 - acc: 0.7205 - val_loss: 2.3997 - val_acc: 0.6967\n",
      "Epoch 19/50\n",
      "\n",
      "Epoch 00019: val_acc did not improve from 0.70358\n",
      "2793/2793 - 3s - loss: 1.9692 - acc: 0.7217 - val_loss: 2.3982 - val_acc: 0.6995\n",
      "Epoch 20/50\n",
      "\n",
      "Epoch 00020: val_acc did not improve from 0.70358\n",
      "2793/2793 - 3s - loss: 1.9545 - acc: 0.7220 - val_loss: 2.4163 - val_acc: 0.7014\n",
      "Epoch 21/50\n",
      "\n",
      "Epoch 00021: val_acc did not improve from 0.70358\n",
      "2793/2793 - 3s - loss: 1.9384 - acc: 0.7234 - val_loss: 2.4120 - val_acc: 0.6970\n",
      "Epoch 22/50\n",
      "\n",
      "Epoch 00022: val_acc did not improve from 0.70358\n",
      "2793/2793 - 3s - loss: 1.9209 - acc: 0.7241 - val_loss: 2.4345 - val_acc: 0.7011\n",
      "Epoch 23/50\n",
      "\n",
      "Epoch 00023: val_acc did not improve from 0.70358\n",
      "2793/2793 - 3s - loss: 1.9057 - acc: 0.7254 - val_loss: 2.4335 - val_acc: 0.6983\n",
      "Epoch 24/50\n",
      "\n",
      "Epoch 00024: val_acc did not improve from 0.70358\n",
      "2793/2793 - 3s - loss: 1.8883 - acc: 0.7263 - val_loss: 2.4513 - val_acc: 0.6951\n",
      "Epoch 25/50\n",
      "\n",
      "Epoch 00025: val_acc did not improve from 0.70358\n",
      "2793/2793 - 3s - loss: 1.8763 - acc: 0.7267 - val_loss: 2.4642 - val_acc: 0.7001\n",
      "Epoch 26/50\n",
      "\n",
      "Epoch 00026: val_acc did not improve from 0.70358\n",
      "2793/2793 - 3s - loss: 1.8669 - acc: 0.7259 - val_loss: 2.4873 - val_acc: 0.6993\n",
      "Epoch 27/50\n",
      "\n",
      "Epoch 00027: val_acc did not improve from 0.70358\n",
      "2793/2793 - 3s - loss: 1.8543 - acc: 0.7267 - val_loss: 2.4940 - val_acc: 0.6911\n",
      "Epoch 28/50\n",
      "\n",
      "Epoch 00028: val_acc did not improve from 0.70358\n",
      "2793/2793 - 3s - loss: 1.8402 - acc: 0.7280 - val_loss: 2.5086 - val_acc: 0.6959\n",
      "Epoch 29/50\n",
      "\n",
      "Epoch 00029: val_acc did not improve from 0.70358\n",
      "2793/2793 - 3s - loss: 1.8296 - acc: 0.7281 - val_loss: 2.5262 - val_acc: 0.6911\n",
      "Epoch 30/50\n",
      "\n",
      "Epoch 00030: val_acc did not improve from 0.70358\n",
      "2793/2793 - 3s - loss: 1.8146 - acc: 0.7305 - val_loss: 2.5583 - val_acc: 0.6872\n",
      "Epoch 31/50\n",
      "\n",
      "Epoch 00031: val_acc did not improve from 0.70358\n",
      "2793/2793 - 3s - loss: 1.8044 - acc: 0.7310 - val_loss: 2.5659 - val_acc: 0.6910\n",
      "Epoch 32/50\n",
      "\n",
      "Epoch 00032: val_acc did not improve from 0.70358\n",
      "2793/2793 - 3s - loss: 1.7915 - acc: 0.7317 - val_loss: 2.5770 - val_acc: 0.6879\n",
      "Epoch 33/50\n",
      "\n",
      "Epoch 00033: val_acc did not improve from 0.70358\n",
      "2793/2793 - 3s - loss: 1.7828 - acc: 0.7319 - val_loss: 2.5808 - val_acc: 0.6901\n",
      "Epoch 34/50\n",
      "\n",
      "Epoch 00034: val_acc did not improve from 0.70358\n",
      "2793/2793 - 3s - loss: 1.7715 - acc: 0.7319 - val_loss: 2.6217 - val_acc: 0.6840\n",
      "Epoch 35/50\n",
      "\n",
      "Epoch 00035: val_acc did not improve from 0.70358\n",
      "2793/2793 - 3s - loss: 1.7628 - acc: 0.7326 - val_loss: 2.6046 - val_acc: 0.6925\n",
      "Epoch 36/50\n",
      "\n",
      "Epoch 00036: val_acc did not improve from 0.70358\n",
      "2793/2793 - 3s - loss: 1.7495 - acc: 0.7340 - val_loss: 2.6352 - val_acc: 0.6872\n",
      "Epoch 37/50\n",
      "\n",
      "Epoch 00037: val_acc did not improve from 0.70358\n",
      "2793/2793 - 3s - loss: 1.7404 - acc: 0.7344 - val_loss: 2.6188 - val_acc: 0.6920\n",
      "Epoch 38/50\n",
      "\n",
      "Epoch 00038: val_acc did not improve from 0.70358\n",
      "2793/2793 - 3s - loss: 1.7349 - acc: 0.7346 - val_loss: 2.6567 - val_acc: 0.6875\n",
      "Epoch 39/50\n",
      "\n",
      "Epoch 00039: val_acc did not improve from 0.70358\n",
      "2793/2793 - 4s - loss: 1.7265 - acc: 0.7340 - val_loss: 2.6568 - val_acc: 0.6871\n",
      "Epoch 40/50\n",
      "\n",
      "Epoch 00040: val_acc did not improve from 0.70358\n",
      "2793/2793 - 4s - loss: 1.7166 - acc: 0.7349 - val_loss: 2.6617 - val_acc: 0.6907\n",
      "Epoch 41/50\n",
      "\n",
      "Epoch 00041: val_acc did not improve from 0.70358\n",
      "2793/2793 - 4s - loss: 1.7047 - acc: 0.7360 - val_loss: 2.6802 - val_acc: 0.6902\n",
      "Epoch 42/50\n",
      "\n",
      "Epoch 00042: val_acc did not improve from 0.70358\n",
      "2793/2793 - 4s - loss: 1.6968 - acc: 0.7362 - val_loss: 2.7008 - val_acc: 0.6872\n",
      "Epoch 43/50\n",
      "\n",
      "Epoch 00043: val_acc did not improve from 0.70358\n",
      "2793/2793 - 4s - loss: 1.6877 - acc: 0.7367 - val_loss: 2.6804 - val_acc: 0.6937\n",
      "Epoch 44/50\n",
      "\n",
      "Epoch 00044: val_acc did not improve from 0.70358\n",
      "2793/2793 - 4s - loss: 1.6768 - acc: 0.7377 - val_loss: 2.7033 - val_acc: 0.6898\n",
      "Epoch 45/50\n",
      "\n",
      "Epoch 00045: val_acc did not improve from 0.70358\n",
      "2793/2793 - 4s - loss: 1.6685 - acc: 0.7375 - val_loss: 2.7273 - val_acc: 0.6891\n",
      "Epoch 46/50\n",
      "\n",
      "Epoch 00046: val_acc did not improve from 0.70358\n",
      "2793/2793 - 5s - loss: 1.6631 - acc: 0.7372 - val_loss: 2.7108 - val_acc: 0.6949\n",
      "Epoch 47/50\n",
      "\n",
      "Epoch 00047: val_acc did not improve from 0.70358\n",
      "2793/2793 - 5s - loss: 1.6530 - acc: 0.7381 - val_loss: 2.7215 - val_acc: 0.6911\n",
      "Epoch 48/50\n",
      "\n",
      "Epoch 00048: val_acc did not improve from 0.70358\n",
      "2793/2793 - 5s - loss: 1.6507 - acc: 0.7368 - val_loss: 2.7457 - val_acc: 0.6890\n",
      "Epoch 49/50\n",
      "\n",
      "Epoch 00049: val_acc did not improve from 0.70358\n",
      "2793/2793 - 5s - loss: 1.6462 - acc: 0.7364 - val_loss: 2.7454 - val_acc: 0.6901\n",
      "Epoch 50/50\n",
      "\n",
      "Epoch 00050: val_acc did not improve from 0.70358\n",
      "2793/2793 - 5s - loss: 1.6353 - acc: 0.7380 - val_loss: 2.7701 - val_acc: 0.6868\n"
     ]
    },
    {
     "data": {
      "text/plain": [
       "<tensorflow.python.keras.callbacks.History at 0x1c599907908>"
      ]
     },
     "execution_count": 175,
     "metadata": {},
     "output_type": "execute_result"
    }
   ],
   "source": [
    "model.fit(X_train, y_train_test, epochs=50, batch_size=20, validation_data=(X_test, y_test_test), callbacks=[checkpoint,tensorboard_callback], verbose=2)"
   ]
  },
  {
   "cell_type": "code",
   "execution_count": 338,
   "metadata": {},
   "outputs": [],
   "source": [
    "model.save('model_sample.h5')"
   ]
  },
  {
   "cell_type": "code",
   "execution_count": 12,
   "metadata": {},
   "outputs": [],
   "source": [
    "# model1 = load_model('model_sample.h5')\n",
    "# model2 = load_model('model_test.h5')"
   ]
  },
  {
   "cell_type": "code",
   "execution_count": 28,
   "metadata": {},
   "outputs": [],
   "source": [
    "def word_for_id(integer, tokenizer):\n",
    "    for word, index in tokenizer.word_index.items():\n",
    "        if index == integer:\n",
    "            return word\n",
    "    return None"
   ]
  },
  {
   "cell_type": "code",
   "execution_count": 29,
   "metadata": {},
   "outputs": [],
   "source": [
    "def predict_sequence(model, tokenizer, source):\n",
    "    source = source.reshape((1, source.shape[0]))\n",
    "    prediction = model.predict(source, verbose=0)[0]\n",
    "    integers = [np.argmax(vector) for vector in prediction]\n",
    "    target = list()\n",
    "    for i in integers:\n",
    "        word = word_for_id(i, tokenizer)\n",
    "        if word == '<end>':\n",
    "            break\n",
    "        target.append(word)\n",
    "    return \" \".join(target)"
   ]
  },
  {
   "cell_type": "code",
   "execution_count": 21,
   "metadata": {},
   "outputs": [
    {
     "data": {
      "text/plain": [
       "array([  1,  18, 741, 219, 581,   2,   0,   0,   0,   0,   0,   0,   0,\n",
       "         0,   0,   0])"
      ]
     },
     "execution_count": 21,
     "metadata": {},
     "output_type": "execute_result"
    }
   ],
   "source": [
    "X_test[0]"
   ]
  },
  {
   "cell_type": "code",
   "execution_count": 90,
   "metadata": {},
   "outputs": [
    {
     "data": {
      "text/plain": [
       "(822, 16)"
      ]
     },
     "execution_count": 90,
     "metadata": {},
     "output_type": "execute_result"
    }
   ],
   "source": [
    "X_test.shape"
   ]
  },
  {
   "cell_type": "code",
   "execution_count": 57,
   "metadata": {},
   "outputs": [
    {
     "data": {
      "text/plain": [
       "'can'"
      ]
     },
     "execution_count": 57,
     "metadata": {},
     "output_type": "execute_result"
    }
   ],
   "source": [
    "input_lang_tokenizer.index_word[39]"
   ]
  },
  {
   "cell_type": "code",
   "execution_count": 30,
   "metadata": {},
   "outputs": [],
   "source": [
    "def decode_input(df,index,tokenizer):\n",
    "    \n",
    "    sentence =[]\n",
    "    for i in df[index]:\n",
    "        if tokenizer.index_word[i]=='<end>':\n",
    "            break\n",
    "\n",
    "        sentence.append(tokenizer.index_word[i])\n",
    "    return \" \".join(sentence)"
   ]
  },
  {
   "cell_type": "code",
   "execution_count": 31,
   "metadata": {},
   "outputs": [],
   "source": [
    "def translate(sentence,tokenizer,max_length):\n",
    "    sentence = preprocess_sentence(sentence)\n",
    "    \n",
    "    input_sentence = [tokenizer.word_index[i] for i in sentence.split(' ')]\n",
    "    input_sentence = pad_sequences([input_sentence],maxlen=max_length,padding='post')\n",
    "    # input_sentence_tensor = tf.convert_to_tensor(input_sentence)\n",
    "    return input_sentence[0]"
   ]
  },
  {
   "cell_type": "code",
   "execution_count": 190,
   "metadata": {},
   "outputs": [
    {
     "data": {
      "text/plain": [
       "'<start> where am i supposed to sleep'"
      ]
     },
     "execution_count": 190,
     "metadata": {},
     "output_type": "execute_result"
    }
   ],
   "source": [
    "decode_input(input_tensor,2000,input_lang_tokenizer)"
   ]
  },
  {
   "cell_type": "code",
   "execution_count": 146,
   "metadata": {},
   "outputs": [],
   "source": [
    "model1 = load_model('model_sample.h5')\n",
    "model2 = load_model('model_test.h5')"
   ]
  },
  {
   "cell_type": "code",
   "execution_count": 69,
   "metadata": {},
   "outputs": [
    {
     "data": {
      "image/png": "[encoded data removed]",
      "text/plain": [
       "<IPython.core.display.Image object>"
      ]
     },
     "execution_count": 69,
     "metadata": {},
     "output_type": "execute_result"
    }
   ],
   "source": [
    "plot_model(model1, to_file='model.png', show_shapes=True)"
   ]
  },
  {
   "cell_type": "code",
   "execution_count": 185,
   "metadata": {},
   "outputs": [
    {
     "data": {
      "text/plain": [
       "array([   1,   76,   17,    3, 1062,    6,  215,    2,    0,    0,    0,\n",
       "          0,    0,    0,    0,    0])"
      ]
     },
     "execution_count": 185,
     "metadata": {},
     "output_type": "execute_result"
    }
   ],
   "source": [
    "sentence1 = \"where am i supposed to sleep\"\n",
    "\n",
    "test_sentence = translate(sentence1, input_lang_tokenizer,eng_test_max_length)\n",
    "\n",
    "test_sentence"
   ]
  },
  {
   "cell_type": "code",
   "execution_count": 186,
   "metadata": {},
   "outputs": [
    {
     "data": {
      "text/plain": [
       "'<start> 내가 내가 싶은 말했지 있어'"
      ]
     },
     "execution_count": 186,
     "metadata": {},
     "output_type": "execute_result"
    }
   ],
   "source": [
    "predict_sequence(model1,target_lang_tokenizer,test_sentence)"
   ]
  },
  {
   "cell_type": "code",
   "execution_count": 187,
   "metadata": {},
   "outputs": [
    {
     "data": {
      "text/plain": [
       "'<start> 톰은 톰이'"
      ]
     },
     "execution_count": 187,
     "metadata": {},
     "output_type": "execute_result"
    }
   ],
   "source": [
    "predict_sequence(model2,target_lang_tokenizer,test_sentence)"
   ]
  },
  {
   "cell_type": "code",
   "execution_count": null,
   "metadata": {},
   "outputs": [],
   "source": []
  },
  {
   "cell_type": "code",
   "execution_count": 174,
   "metadata": {},
   "outputs": [],
   "source": [
    "aws_model = load_model('models/aws_models/model.h5')\n",
    "aws_model_best = load_model('models/aws_models/model_best.h5')"
   ]
  },
  {
   "cell_type": "code",
   "execution_count": 47,
   "metadata": {},
   "outputs": [],
   "source": [
    "spa_model = load_model('models/aws_models/model_spa.h5')\n",
    "spa_model_best = load_model('models/aws_models/spa_model_best.h5')"
   ]
  },
  {
   "cell_type": "code",
   "execution_count": 70,
   "metadata": {},
   "outputs": [
    {
     "data": {
      "image/png": "[encoded data removed]",
      "text/plain": [
       "<IPython.core.display.Image object>"
      ]
     },
     "execution_count": 70,
     "metadata": {},
     "output_type": "execute_result"
    }
   ],
   "source": [
    "plot_model(aws_model, to_file='aws_model.png', show_shapes=True)"
   ]
  },
  {
   "cell_type": "code",
   "execution_count": 188,
   "metadata": {},
   "outputs": [],
   "source": [
    "sentence2 = \"where am i supposed to sleep\"\n",
    "test_sentence1 = translate(sentence2, eng_tokenizer,eng_max_length)\n",
    "\n",
    "test_sentence2 = translate(sentence2,eng_tokenizer_spa,eng_max_length_spa)"
   ]
  },
  {
   "cell_type": "code",
   "execution_count": 189,
   "metadata": {},
   "outputs": [
    {
     "name": "stdout",
     "output_type": "stream",
     "text": [
      "Sentence: where am i supposed to sleep\n",
      "\n",
      "AWS Model Translation: <start> 너의 디딜 그 가\n",
      "\n",
      "AWS 'Best Model' Translation: <start> 내 내\n"
     ]
    }
   ],
   "source": [
    "print(f\"Sentence: {sentence2}\\n\\nAWS Model Translation: {predict_sequence(aws_model,kor_tokenizer,test_sentence1)}\")\n",
    "\n",
    "print(f\"\\nAWS 'Best Model' Translation: {predict_sequence(aws_model_best,kor_tokenizer,test_sentence1)}\")"
   ]
  },
  {
   "cell_type": "code",
   "execution_count": 173,
   "metadata": {},
   "outputs": [
    {
     "name": "stdout",
     "output_type": "stream",
     "text": [
      "Sentence: i want to get this over with\n",
      "\n",
      "AWS Spanish Model Translation: <start> quiero quiero algo esto\n",
      "\n",
      "AWS 'Best Model' Translation: <start> quiero quiero esto esto\n"
     ]
    }
   ],
   "source": [
    "print(f\"Sentence: {sentence2}\\n\\nAWS Spanish Model Translation: {predict_sequence(spa_model,spa_tokenizer,test_sentence2)}\")\n",
    "\n",
    "print(f\"\\nAWS 'Best Model' Translation: {predict_sequence(spa_model_best,spa_tokenizer,test_sentence2)}\")"
   ]
  },
  {
   "cell_type": "code",
   "execution_count": 157,
   "metadata": {},
   "outputs": [
    {
     "data": {
      "text/plain": [
       "(3286, 15)"
      ]
     },
     "execution_count": 157,
     "metadata": {},
     "output_type": "execute_result"
    }
   ],
   "source": [
    "target_tensor.shape"
   ]
  },
  {
   "cell_type": "code",
   "execution_count": 161,
   "metadata": {},
   "outputs": [],
   "source": [
    "def train_batches(input_set, target_set, tar_vocab_size, model, epochs, loops, checkpoint_object, tensorboard_object):\n",
    "    for loop in range(loops):\n",
    "        j=0\n",
    "        for i in np.linspace(input_set.shape[0]/5,input_set.shape[0],5):\n",
    "\n",
    "            k = int(i)\n",
    "            inp_sample = input_set[j:k]\n",
    "            tar_sample = target_set[j:k]\n",
    "\n",
    "            X_train, X_test, y_train, y_test = train_test_split(inp_sample,tar_sample, test_size=.1)\n",
    "\n",
    "            y_train = encode_output(y_train, tar_vocab_size)\n",
    "            y_test = encode_output(y_test, tar_vocab_size)\n",
    "\n",
    "            model.fit(X_train, y_train, epochs=epochs, batch_size=10, validation_data=(X_test, y_test), callbacks=[checkpoint_object,tensorboard_object], verbose=2)\n",
    "            print(j,k)\n",
    "            j=int(i)\n"
   ]
  },
  {
   "cell_type": "code",
   "execution_count": 168,
   "metadata": {},
   "outputs": [
    {
     "name": "stdout",
     "output_type": "stream",
     "text": [
      "Train on 591 samples, validate on 66 samples\n",
      "\n",
      "Epoch 00001: val_acc improved from 0.95051 to 0.97172, saving model to model_test.h5\n",
      "591/591 - 2s - loss: 0.2813 - acc: 0.9528 - val_loss: 0.1728 - val_acc: 0.9717\n",
      "0 657\n",
      "Train on 591 samples, validate on 66 samples\n",
      "\n",
      "Epoch 00001: val_acc did not improve from 0.97172\n",
      "591/591 - 2s - loss: 0.4460 - acc: 0.9374 - val_loss: 0.5401 - val_acc: 0.9283\n",
      "657 1314\n",
      "Train on 591 samples, validate on 66 samples\n",
      "\n",
      "Epoch 00001: val_acc did not improve from 0.97172\n",
      "591/591 - 2s - loss: 0.6048 - acc: 0.9200 - val_loss: 0.5833 - val_acc: 0.9162\n",
      "1314 1971\n",
      "Train on 591 samples, validate on 66 samples\n",
      "\n",
      "Epoch 00001: val_acc did not improve from 0.97172\n",
      "591/591 - 2s - loss: 0.7217 - acc: 0.8986 - val_loss: 0.7563 - val_acc: 0.8869\n",
      "1971 2628\n",
      "Train on 592 samples, validate on 66 samples\n",
      "\n",
      "Epoch 00001: val_acc did not improve from 0.97172\n",
      "592/592 - 2s - loss: 0.9549 - acc: 0.8524 - val_loss: 1.3353 - val_acc: 0.8202\n",
      "2628 3286\n",
      "Train on 591 samples, validate on 66 samples\n",
      "\n",
      "Epoch 00001: val_acc did not improve from 0.97172\n",
      "591/591 - 2s - loss: 0.2727 - acc: 0.9552 - val_loss: 0.2310 - val_acc: 0.9485\n",
      "0 657\n",
      "Train on 591 samples, validate on 66 samples\n",
      "\n",
      "Epoch 00001: val_acc did not improve from 0.97172\n",
      "591/591 - 2s - loss: 0.4648 - acc: 0.9339 - val_loss: 0.4863 - val_acc: 0.9303\n",
      "657 1314\n",
      "Train on 591 samples, validate on 66 samples\n",
      "\n",
      "Epoch 00001: val_acc did not improve from 0.97172\n",
      "591/591 - 2s - loss: 0.5995 - acc: 0.9195 - val_loss: 0.5095 - val_acc: 0.9323\n",
      "1314 1971\n",
      "Train on 591 samples, validate on 66 samples\n",
      "\n",
      "Epoch 00001: val_acc did not improve from 0.97172\n",
      "591/591 - 2s - loss: 0.7072 - acc: 0.8990 - val_loss: 0.7331 - val_acc: 0.8879\n",
      "1971 2628\n",
      "Train on 592 samples, validate on 66 samples\n",
      "\n",
      "Epoch 00001: val_acc did not improve from 0.97172\n",
      "592/592 - 2s - loss: 0.9642 - acc: 0.8559 - val_loss: 0.8297 - val_acc: 0.8667\n",
      "2628 3286\n"
     ]
    }
   ],
   "source": [
    "train_batches(input_tensor, target_tensor, kor_test_vocab_size, model1, checkpoint,tensorboard_callback,2)"
   ]
  },
  {
   "cell_type": "code",
   "execution_count": 119,
   "metadata": {},
   "outputs": [
    {
     "data": {
      "text/plain": [
       "array([ 657.2, 1314.4, 1971.6, 2628.8, 3286. ])"
      ]
     },
     "execution_count": 119,
     "metadata": {},
     "output_type": "execute_result"
    }
   ],
   "source": [
    "np.linspace(eng.shape[0]/5,eng.shape[0],5)"
   ]
  },
  {
   "cell_type": "code",
   "execution_count": null,
   "metadata": {},
   "outputs": [],
   "source": []
  }
 ],
 "metadata": {
  "kernelspec": {
   "display_name": "TensorFlow-GPU",
   "language": "python",
   "name": "tf-gpu"
  },
  "language_info": {
   "codemirror_mode": {
    "name": "ipython",
    "version": 3
   },
   "file_extension": ".py",
   "mimetype": "text/x-python",
   "name": "python",
   "nbconvert_exporter": "python",
   "pygments_lexer": "ipython3",
   "version": "3.7.6"
  }
 },
 "nbformat": 4,
 "nbformat_minor": 4
}
