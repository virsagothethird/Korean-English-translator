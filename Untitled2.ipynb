{
 "cells": [
  {
   "cell_type": "code",
   "execution_count": 1,
   "metadata": {},
   "outputs": [],
   "source": [
    "%load_ext autoreload\n",
    "%autoreload 2"
   ]
  },
  {
   "cell_type": "code",
   "execution_count": 2,
   "metadata": {},
   "outputs": [],
   "source": [
    "import pandas as pd\n",
    "import numpy as np\n",
    "from langdetect import detect\n",
    "import re\n",
    "import os\n",
    "import matplotlib.ticker as ticker\n",
    "import matplotlib.pyplot as plt\n",
    "\n",
    "\n",
    "from sklearn.model_selection import train_test_split\n",
    "\n",
    "import tensorflow as tf\n",
    "from tensorflow import keras\n",
    "from tensorflow.keras.preprocessing.text import Tokenizer\n",
    "from tensorflow.keras.preprocessing.sequence import pad_sequences\n",
    "from tensorflow.keras.models import Model, Sequential, load_model\n",
    "from tensorflow.keras.layers import Input, LSTM, Dense, GRU, Embedding, Layer, RepeatVector, TimeDistributed\n",
    "from tensorflow.keras.losses import SparseCategoricalCrossentropy, CategoricalCrossentropy\n",
    "from tensorflow.keras.optimizers import Adam\n",
    "from tensorflow.keras.utils import plot_model, to_categorical\n",
    "from tensorflow.keras.callbacks import ModelCheckpoint\n",
    "import pydot\n",
    "\n",
    "from src.helpme import clean_text,start_end_tagger,max_length,tokenize,preprocess,preprocess_sentence"
   ]
  },
  {
   "cell_type": "code",
   "execution_count": 3,
   "metadata": {},
   "outputs": [],
   "source": [
    "df_test = pd.read_csv('data/kor.txt', sep='\\t', names=['eng','kor','drop_me'])\n",
    "df_test = df_test.drop(columns='drop_me')"
   ]
  },
  {
   "cell_type": "code",
   "execution_count": 4,
   "metadata": {},
   "outputs": [],
   "source": [
    "df_all = pd.read_csv('data/final_df.txt',sep='\\t')"
   ]
  },
  {
   "cell_type": "code",
   "execution_count": 5,
   "metadata": {},
   "outputs": [],
   "source": [
    "df_all = df_all.drop(columns='Unnamed: 0')"
   ]
  },
  {
   "cell_type": "code",
   "execution_count": 6,
   "metadata": {},
   "outputs": [
    {
     "data": {
      "text/html": [
       "<div>\n",
       "<style scoped>\n",
       "    .dataframe tbody tr th:only-of-type {\n",
       "        vertical-align: middle;\n",
       "    }\n",
       "\n",
       "    .dataframe tbody tr th {\n",
       "        vertical-align: top;\n",
       "    }\n",
       "\n",
       "    .dataframe thead th {\n",
       "        text-align: right;\n",
       "    }\n",
       "</style>\n",
       "<table border=\"1\" class=\"dataframe\">\n",
       "  <thead>\n",
       "    <tr style=\"text-align: right;\">\n",
       "      <th></th>\n",
       "      <th>eng</th>\n",
       "      <th>kor</th>\n",
       "    </tr>\n",
       "  </thead>\n",
       "  <tbody>\n",
       "    <tr>\n",
       "      <th>0</th>\n",
       "      <td>Whose words should I be following?</td>\n",
       "      <td>어느 장단에 맞춰야 될지</td>\n",
       "    </tr>\n",
       "    <tr>\n",
       "      <th>1</th>\n",
       "      <td>When I take one step forward</td>\n",
       "      <td>한 발자국 떼면</td>\n",
       "    </tr>\n",
       "    <tr>\n",
       "      <th>2</th>\n",
       "      <td>My shadow grows one step bigger</td>\n",
       "      <td>한 발자국 커지는 shadow</td>\n",
       "    </tr>\n",
       "    <tr>\n",
       "      <th>3</th>\n",
       "      <td>Waking up and opening my eyes, where am I?</td>\n",
       "      <td>잠에서 눈을 뜬 여긴 또 어디</td>\n",
       "    </tr>\n",
       "    <tr>\n",
       "      <th>4</th>\n",
       "      <td>I’m getting up but my body’s swaying</td>\n",
       "      <td>일어나니 휘청이는 몸</td>\n",
       "    </tr>\n",
       "    <tr>\n",
       "      <th>...</th>\n",
       "      <td>...</td>\n",
       "      <td>...</td>\n",
       "    </tr>\n",
       "    <tr>\n",
       "      <th>98198</th>\n",
       "      <td>Tom always cried when his sister took away his...</td>\n",
       "      <td>톰은 누나가 자기 장난감을 빼앗아 갔을 때마다 울음을 터뜨렸고, 누나는 바로 그런 ...</td>\n",
       "    </tr>\n",
       "    <tr>\n",
       "      <th>98199</th>\n",
       "      <td>Science fiction has undoubtedly been the inspi...</td>\n",
       "      <td>공상 과학 소설은 의심의 여지 없이 오늘날 존재하는 많은 기술에 영감을 주었어.</td>\n",
       "    </tr>\n",
       "    <tr>\n",
       "      <th>98200</th>\n",
       "      <td>I started a new blog. I'll do my best not to b...</td>\n",
       "      <td>난 블로그를 시작했어. 블로그를 초반에만 반짝 많이 하다가 관두는 사람처럼은 되지 ...</td>\n",
       "    </tr>\n",
       "    <tr>\n",
       "      <th>98201</th>\n",
       "      <td>I think it's a shame that some foreign languag...</td>\n",
       "      <td>몇몇 외국어 선생님이 한 번도 원어민과 공부해본 적도 없으면서 대학을 나올 수 있었...</td>\n",
       "    </tr>\n",
       "    <tr>\n",
       "      <th>98202</th>\n",
       "      <td>Doubtless there exists in this world precisely...</td>\n",
       "      <td>의심의 여지 없이 세상에는 어떤 남자이든 정확히 딱 알맞는 여자와 결혼하거나 그 반...</td>\n",
       "    </tr>\n",
       "  </tbody>\n",
       "</table>\n",
       "<p>98203 rows × 2 columns</p>\n",
       "</div>"
      ],
      "text/plain": [
       "                                                     eng  \\\n",
       "0                     Whose words should I be following?   \n",
       "1                           When I take one step forward   \n",
       "2                        My shadow grows one step bigger   \n",
       "3             Waking up and opening my eyes, where am I?   \n",
       "4                   I’m getting up but my body’s swaying   \n",
       "...                                                  ...   \n",
       "98198  Tom always cried when his sister took away his...   \n",
       "98199  Science fiction has undoubtedly been the inspi...   \n",
       "98200  I started a new blog. I'll do my best not to b...   \n",
       "98201  I think it's a shame that some foreign languag...   \n",
       "98202  Doubtless there exists in this world precisely...   \n",
       "\n",
       "                                                     kor  \n",
       "0                                          어느 장단에 맞춰야 될지  \n",
       "1                                               한 발자국 떼면  \n",
       "2                                       한 발자국 커지는 shadow  \n",
       "3                                       잠에서 눈을 뜬 여긴 또 어디  \n",
       "4                                            일어나니 휘청이는 몸  \n",
       "...                                                  ...  \n",
       "98198  톰은 누나가 자기 장난감을 빼앗아 갔을 때마다 울음을 터뜨렸고, 누나는 바로 그런 ...  \n",
       "98199       공상 과학 소설은 의심의 여지 없이 오늘날 존재하는 많은 기술에 영감을 주었어.  \n",
       "98200  난 블로그를 시작했어. 블로그를 초반에만 반짝 많이 하다가 관두는 사람처럼은 되지 ...  \n",
       "98201  몇몇 외국어 선생님이 한 번도 원어민과 공부해본 적도 없으면서 대학을 나올 수 있었...  \n",
       "98202  의심의 여지 없이 세상에는 어떤 남자이든 정확히 딱 알맞는 여자와 결혼하거나 그 반...  \n",
       "\n",
       "[98203 rows x 2 columns]"
      ]
     },
     "execution_count": 6,
     "metadata": {},
     "output_type": "execute_result"
    }
   ],
   "source": [
    "df_all"
   ]
  },
  {
   "cell_type": "code",
   "execution_count": 7,
   "metadata": {},
   "outputs": [],
   "source": [
    "df_test = df_test.drop([3317,3316])"
   ]
  },
  {
   "cell_type": "code",
   "execution_count": 12,
   "metadata": {},
   "outputs": [
    {
     "data": {
      "text/plain": [
       "0                                                     Go.\n",
       "1                                                     Hi.\n",
       "2                                                    Run!\n",
       "3                                                    Run.\n",
       "4                                                    Who?\n",
       "                              ...                        \n",
       "3311    Why don't we just reformat the hard disk? You'...\n",
       "3312    I knew that Tom was just a freshman, so I was ...\n",
       "3313    Tom always cried when his sister took away his...\n",
       "3314    Science fiction has undoubtedly been the inspi...\n",
       "3315    I started a new blog. I'll do my best not to b...\n",
       "Name: eng, Length: 3316, dtype: object"
      ]
     },
     "execution_count": 12,
     "metadata": {},
     "output_type": "execute_result"
    }
   ],
   "source": [
    "df_test['eng']"
   ]
  },
  {
   "cell_type": "code",
   "execution_count": 8,
   "metadata": {},
   "outputs": [],
   "source": [
    "eng = preprocess(df_test['eng'])\n",
    "kor = preprocess(df_test['kor'])\n",
    "\n",
    "input_tensor, input_lang_tokenizer = tokenize(eng)\n",
    "target_tensor, target_lang_tokenizer = tokenize(kor)"
   ]
  },
  {
   "cell_type": "code",
   "execution_count": 9,
   "metadata": {},
   "outputs": [
    {
     "name": "stdout",
     "output_type": "stream",
     "text": [
      "English vocab size: 2338\n",
      "Korean vocab size: 5063\n",
      "Longest English Sentence: 31\n",
      "Longest Korean Sentence: 19\n"
     ]
    }
   ],
   "source": [
    "eng_vocab_size = len(input_lang_tokenizer.word_index)+1\n",
    "kor_vocab_size = len(target_lang_tokenizer.word_index)+1\n",
    "\n",
    "print(f'English vocab size: {eng_vocab_size}')\n",
    "print(f'Korean vocab size: {kor_vocab_size}')\n",
    "\n",
    "eng_max_length = len(input_tensor[0])\n",
    "kor_max_length = len(target_tensor[0])\n",
    "\n",
    "print(f'Longest English Sentence: {eng_max_length}')\n",
    "print(f'Longest Korean Sentence: {kor_max_length}')"
   ]
  },
  {
   "cell_type": "code",
   "execution_count": 10,
   "metadata": {},
   "outputs": [
    {
     "data": {
      "text/plain": [
       "0                       Whose words should I be following?\n",
       "1                             When I take one step forward\n",
       "2                          My shadow grows one step bigger\n",
       "3               Waking up and opening my eyes, where am I?\n",
       "4                     I’m getting up but my body’s swaying\n",
       "                               ...                        \n",
       "98198    Tom always cried when his sister took away his...\n",
       "98199    Science fiction has undoubtedly been the inspi...\n",
       "98200    I started a new blog. I'll do my best not to b...\n",
       "98201    I think it's a shame that some foreign languag...\n",
       "98202    Doubtless there exists in this world precisely...\n",
       "Name: eng, Length: 98203, dtype: object"
      ]
     },
     "execution_count": 10,
     "metadata": {},
     "output_type": "execute_result"
    }
   ],
   "source": [
    "df_all['eng']"
   ]
  },
  {
   "cell_type": "code",
   "execution_count": 14,
   "metadata": {},
   "outputs": [],
   "source": [
    "eng_all = df_all['eng'].apply(clean_text)"
   ]
  },
  {
   "cell_type": "code",
   "execution_count": 15,
   "metadata": {},
   "outputs": [],
   "source": [
    "eng_all = eng_all.apply(start_end_tagger)"
   ]
  },
  {
   "cell_type": "code",
   "execution_count": 16,
   "metadata": {},
   "outputs": [],
   "source": [
    "kor_all = df_all['kor'].apply(clean_text)\n",
    "kor_all = kor_all.apply(start_end_tagger)"
   ]
  },
  {
   "cell_type": "code",
   "execution_count": 17,
   "metadata": {},
   "outputs": [],
   "source": [
    "eng_tensor, eng_tokenizer = tokenize(eng_all)\n",
    "kor_tensor, kor_tokenizer = tokenize(kor_all)"
   ]
  },
  {
   "cell_type": "code",
   "execution_count": 22,
   "metadata": {},
   "outputs": [
    {
     "name": "stdout",
     "output_type": "stream",
     "text": [
      "English vocab size: 12289\n",
      "Korean vocab size: 58758\n",
      "Longest English Sentence: 31\n",
      "Longest Korean Sentence: 19\n"
     ]
    }
   ],
   "source": [
    "eng_vocab_size = len(eng_tokenizer.word_index)+1\n",
    "kor_vocab_size = len(kor_tokenizer.word_index)+1\n",
    "\n",
    "print(f'English vocab size: {eng_vocab_size}')\n",
    "print(f'Korean vocab size: {kor_vocab_size}')\n",
    "\n",
    "eng_max_length = len(input_tensor[0])\n",
    "kor_max_length = len(target_tensor[0])\n",
    "\n",
    "print(f'Longest English Sentence: {eng_max_length}')\n",
    "print(f'Longest Korean Sentence: {kor_max_length}')"
   ]
  },
  {
   "cell_type": "code",
   "execution_count": 18,
   "metadata": {},
   "outputs": [],
   "source": [
    "X_train, X_test, y_train, y_test = train_test_split(eng_tensor,kor_tensor)"
   ]
  },
  {
   "cell_type": "code",
   "execution_count": 19,
   "metadata": {},
   "outputs": [],
   "source": [
    "# X_train, X_test, y_train, y_test = train_test_split(input_tensor,target_tensor)"
   ]
  },
  {
   "cell_type": "code",
   "execution_count": 23,
   "metadata": {},
   "outputs": [],
   "source": [
    "def encode_sequences(tokenizer, length, lines):\n",
    "    # integer encode sequences\n",
    "    X = tokenizer.texts_to_sequences(lines)\n",
    "    # pad sequences with 0 values\n",
    "    X = pad_sequences(X, maxlen=length, padding='post')\n",
    "    return X"
   ]
  },
  {
   "cell_type": "code",
   "execution_count": 24,
   "metadata": {},
   "outputs": [],
   "source": [
    "def encode_output(sequences, vocab_size):\n",
    "    ylist = list()\n",
    "    for sequence in sequences:\n",
    "        encoded = to_categorical(sequence, num_classes=vocab_size)\n",
    "        ylist.append(encoded)\n",
    "    y = np.array(ylist)\n",
    "    y = y.reshape(sequences.shape[0], sequences.shape[1], vocab_size)\n",
    "    return y"
   ]
  },
  {
   "cell_type": "code",
   "execution_count": 25,
   "metadata": {},
   "outputs": [
    {
     "ename": "MemoryError",
     "evalue": "Unable to allocate 20.4 MiB for an array with shape (91, 58758) and data type float32",
     "output_type": "error",
     "traceback": [
      "\u001b[1;31m---------------------------------------------------------------------------\u001b[0m",
      "\u001b[1;31mMemoryError\u001b[0m                               Traceback (most recent call last)",
      "\u001b[1;32m<ipython-input-25-dfe197ceed37>\u001b[0m in \u001b[0;36m<module>\u001b[1;34m\u001b[0m\n\u001b[1;32m----> 1\u001b[1;33m \u001b[0my_train\u001b[0m \u001b[1;33m=\u001b[0m \u001b[0mencode_output\u001b[0m\u001b[1;33m(\u001b[0m\u001b[0my_train\u001b[0m\u001b[1;33m,\u001b[0m \u001b[0mkor_vocab_size\u001b[0m\u001b[1;33m)\u001b[0m\u001b[1;33m\u001b[0m\u001b[1;33m\u001b[0m\u001b[0m\n\u001b[0m\u001b[0;32m      2\u001b[0m \u001b[0my_test\u001b[0m \u001b[1;33m=\u001b[0m \u001b[0mencode_output\u001b[0m\u001b[1;33m(\u001b[0m\u001b[0my_test\u001b[0m\u001b[1;33m,\u001b[0m \u001b[0mkor_vocab_size\u001b[0m\u001b[1;33m)\u001b[0m\u001b[1;33m\u001b[0m\u001b[1;33m\u001b[0m\u001b[0m\n",
      "\u001b[1;32m<ipython-input-24-77a847823d13>\u001b[0m in \u001b[0;36mencode_output\u001b[1;34m(sequences, vocab_size)\u001b[0m\n\u001b[0;32m      2\u001b[0m     \u001b[0mylist\u001b[0m \u001b[1;33m=\u001b[0m \u001b[0mlist\u001b[0m\u001b[1;33m(\u001b[0m\u001b[1;33m)\u001b[0m\u001b[1;33m\u001b[0m\u001b[1;33m\u001b[0m\u001b[0m\n\u001b[0;32m      3\u001b[0m     \u001b[1;32mfor\u001b[0m \u001b[0msequence\u001b[0m \u001b[1;32min\u001b[0m \u001b[0msequences\u001b[0m\u001b[1;33m:\u001b[0m\u001b[1;33m\u001b[0m\u001b[1;33m\u001b[0m\u001b[0m\n\u001b[1;32m----> 4\u001b[1;33m         \u001b[0mencoded\u001b[0m \u001b[1;33m=\u001b[0m \u001b[0mto_categorical\u001b[0m\u001b[1;33m(\u001b[0m\u001b[0msequence\u001b[0m\u001b[1;33m,\u001b[0m \u001b[0mnum_classes\u001b[0m\u001b[1;33m=\u001b[0m\u001b[0mvocab_size\u001b[0m\u001b[1;33m)\u001b[0m\u001b[1;33m\u001b[0m\u001b[1;33m\u001b[0m\u001b[0m\n\u001b[0m\u001b[0;32m      5\u001b[0m         \u001b[0mylist\u001b[0m\u001b[1;33m.\u001b[0m\u001b[0mappend\u001b[0m\u001b[1;33m(\u001b[0m\u001b[0mencoded\u001b[0m\u001b[1;33m)\u001b[0m\u001b[1;33m\u001b[0m\u001b[1;33m\u001b[0m\u001b[0m\n\u001b[0;32m      6\u001b[0m     \u001b[0my\u001b[0m \u001b[1;33m=\u001b[0m \u001b[0mnp\u001b[0m\u001b[1;33m.\u001b[0m\u001b[0marray\u001b[0m\u001b[1;33m(\u001b[0m\u001b[0mylist\u001b[0m\u001b[1;33m)\u001b[0m\u001b[1;33m\u001b[0m\u001b[1;33m\u001b[0m\u001b[0m\n",
      "\u001b[1;32m~\\Anaconda3\\envs\\tf-gpu\\lib\\site-packages\\tensorflow_core\\python\\keras\\utils\\np_utils.py\u001b[0m in \u001b[0;36mto_categorical\u001b[1;34m(y, num_classes, dtype)\u001b[0m\n\u001b[0;32m     46\u001b[0m     \u001b[0mnum_classes\u001b[0m \u001b[1;33m=\u001b[0m \u001b[0mnp\u001b[0m\u001b[1;33m.\u001b[0m\u001b[0mmax\u001b[0m\u001b[1;33m(\u001b[0m\u001b[0my\u001b[0m\u001b[1;33m)\u001b[0m \u001b[1;33m+\u001b[0m \u001b[1;36m1\u001b[0m\u001b[1;33m\u001b[0m\u001b[1;33m\u001b[0m\u001b[0m\n\u001b[0;32m     47\u001b[0m   \u001b[0mn\u001b[0m \u001b[1;33m=\u001b[0m \u001b[0my\u001b[0m\u001b[1;33m.\u001b[0m\u001b[0mshape\u001b[0m\u001b[1;33m[\u001b[0m\u001b[1;36m0\u001b[0m\u001b[1;33m]\u001b[0m\u001b[1;33m\u001b[0m\u001b[1;33m\u001b[0m\u001b[0m\n\u001b[1;32m---> 48\u001b[1;33m   \u001b[0mcategorical\u001b[0m \u001b[1;33m=\u001b[0m \u001b[0mnp\u001b[0m\u001b[1;33m.\u001b[0m\u001b[0mzeros\u001b[0m\u001b[1;33m(\u001b[0m\u001b[1;33m(\u001b[0m\u001b[0mn\u001b[0m\u001b[1;33m,\u001b[0m \u001b[0mnum_classes\u001b[0m\u001b[1;33m)\u001b[0m\u001b[1;33m,\u001b[0m \u001b[0mdtype\u001b[0m\u001b[1;33m=\u001b[0m\u001b[0mdtype\u001b[0m\u001b[1;33m)\u001b[0m\u001b[1;33m\u001b[0m\u001b[1;33m\u001b[0m\u001b[0m\n\u001b[0m\u001b[0;32m     49\u001b[0m   \u001b[0mcategorical\u001b[0m\u001b[1;33m[\u001b[0m\u001b[0mnp\u001b[0m\u001b[1;33m.\u001b[0m\u001b[0marange\u001b[0m\u001b[1;33m(\u001b[0m\u001b[0mn\u001b[0m\u001b[1;33m)\u001b[0m\u001b[1;33m,\u001b[0m \u001b[0my\u001b[0m\u001b[1;33m]\u001b[0m \u001b[1;33m=\u001b[0m \u001b[1;36m1\u001b[0m\u001b[1;33m\u001b[0m\u001b[1;33m\u001b[0m\u001b[0m\n\u001b[0;32m     50\u001b[0m   \u001b[0moutput_shape\u001b[0m \u001b[1;33m=\u001b[0m \u001b[0minput_shape\u001b[0m \u001b[1;33m+\u001b[0m \u001b[1;33m(\u001b[0m\u001b[0mnum_classes\u001b[0m\u001b[1;33m,\u001b[0m\u001b[1;33m)\u001b[0m\u001b[1;33m\u001b[0m\u001b[1;33m\u001b[0m\u001b[0m\n",
      "\u001b[1;31mMemoryError\u001b[0m: Unable to allocate 20.4 MiB for an array with shape (91, 58758) and data type float32"
     ]
    }
   ],
   "source": [
    "y_train = encode_output(y_train, kor_vocab_size)\n",
    "y_test = encode_output(y_test, kor_vocab_size)"
   ]
  },
  {
   "cell_type": "code",
   "execution_count": null,
   "metadata": {},
   "outputs": [],
   "source": [
    "def define_model(src_vocab, tar_vocab, src_timesteps, tar_timesteps, n_units):\n",
    "    model = Sequential()\n",
    "    model.add(Embedding(src_vocab, n_units, input_length=src_timesteps, mask_zero=True))\n",
    "    model.add(LSTM(n_units))\n",
    "    model.add(RepeatVector(tar_timesteps))\n",
    "    model.add(LSTM(n_units, return_sequences=True))\n",
    "    model.add(TimeDistributed(Dense(tar_vocab, activation='softmax')))\n",
    "    return model\n",
    " "
   ]
  },
  {
   "cell_type": "code",
   "execution_count": 12,
   "metadata": {},
   "outputs": [
    {
     "name": "stdout",
     "output_type": "stream",
     "text": [
      "Model: \"sequential\"\n",
      "_________________________________________________________________\n",
      "Layer (type)                 Output Shape              Param #   \n",
      "=================================================================\n",
      "embedding (Embedding)        (None, 31, 256)           598528    \n",
      "_________________________________________________________________\n",
      "lstm (LSTM)                  (None, 256)               525312    \n",
      "_________________________________________________________________\n",
      "repeat_vector (RepeatVector) (None, 19, 256)           0         \n",
      "_________________________________________________________________\n",
      "lstm_1 (LSTM)                (None, 19, 256)           525312    \n",
      "_________________________________________________________________\n",
      "time_distributed (TimeDistri (None, 19, 5063)          1301191   \n",
      "=================================================================\n",
      "Total params: 2,950,343\n",
      "Trainable params: 2,950,343\n",
      "Non-trainable params: 0\n",
      "_________________________________________________________________\n",
      "None\n"
     ]
    },
    {
     "data": {
      "image/png": "[encoded data removed]",
      "text/plain": [
       "<IPython.core.display.Image object>"
      ]
     },
     "execution_count": 12,
     "metadata": {},
     "output_type": "execute_result"
    }
   ],
   "source": [
    "# define model\n",
    "model = define_model(eng_vocab_size, kor_vocab_size, eng_max_length, kor_max_length, 256)\n",
    "model.compile(optimizer='adam', loss='categorical_crossentropy')\n",
    "# summarize defined model\n",
    "print(model.summary())\n",
    "plot_model(model, to_file='model.png', show_shapes=True)"
   ]
  },
  {
   "cell_type": "code",
   "execution_count": 14,
   "metadata": {},
   "outputs": [
    {
     "name": "stdout",
     "output_type": "stream",
     "text": [
      "Train on 2487 samples, validate on 829 samples\n",
      "Epoch 1/30\n",
      "\n",
      "Epoch 00001: val_loss improved from inf to 2.66310, saving model to model.h5\n",
      "2487/2487 - 16s - loss: 4.2117 - val_loss: 2.6631\n",
      "Epoch 2/30\n",
      "\n",
      "Epoch 00002: val_loss improved from 2.66310 to 2.36720, saving model to model.h5\n",
      "2487/2487 - 3s - loss: 2.3396 - val_loss: 2.3672\n",
      "Epoch 3/30\n",
      "\n",
      "Epoch 00003: val_loss improved from 2.36720 to 2.29298, saving model to model.h5\n",
      "2487/2487 - 3s - loss: 2.1342 - val_loss: 2.2930\n",
      "Epoch 4/30\n",
      "\n",
      "Epoch 00004: val_loss improved from 2.29298 to 2.24362, saving model to model.h5\n",
      "2487/2487 - 3s - loss: 2.0413 - val_loss: 2.2436\n",
      "Epoch 5/30\n",
      "\n",
      "Epoch 00005: val_loss improved from 2.24362 to 2.19190, saving model to model.h5\n",
      "2487/2487 - 3s - loss: 1.9676 - val_loss: 2.1919\n",
      "Epoch 6/30\n",
      "\n",
      "Epoch 00006: val_loss improved from 2.19190 to 2.16508, saving model to model.h5\n",
      "2487/2487 - 3s - loss: 1.8977 - val_loss: 2.1651\n",
      "Epoch 7/30\n",
      "\n",
      "Epoch 00007: val_loss did not improve from 2.16508\n",
      "2487/2487 - 3s - loss: 1.8490 - val_loss: 2.1651\n",
      "Epoch 8/30\n",
      "\n",
      "Epoch 00008: val_loss improved from 2.16508 to 2.11995, saving model to model.h5\n",
      "2487/2487 - 3s - loss: 1.8052 - val_loss: 2.1200\n",
      "Epoch 9/30\n",
      "\n",
      "Epoch 00009: val_loss improved from 2.11995 to 2.10099, saving model to model.h5\n",
      "2487/2487 - 3s - loss: 1.7648 - val_loss: 2.1010\n",
      "Epoch 10/30\n",
      "\n",
      "Epoch 00010: val_loss improved from 2.10099 to 2.09861, saving model to model.h5\n",
      "2487/2487 - 3s - loss: 1.7447 - val_loss: 2.0986\n",
      "Epoch 11/30\n",
      "\n",
      "Epoch 00011: val_loss did not improve from 2.09861\n",
      "2487/2487 - 3s - loss: 1.7174 - val_loss: 2.1078\n",
      "Epoch 12/30\n",
      "\n",
      "Epoch 00012: val_loss did not improve from 2.09861\n",
      "2487/2487 - 3s - loss: 1.6986 - val_loss: 2.1066\n",
      "Epoch 13/30\n",
      "\n",
      "Epoch 00013: val_loss did not improve from 2.09861\n",
      "2487/2487 - 3s - loss: 1.6869 - val_loss: 2.1086\n",
      "Epoch 14/30\n",
      "\n",
      "Epoch 00014: val_loss did not improve from 2.09861\n",
      "2487/2487 - 3s - loss: 1.6660 - val_loss: 2.1071\n",
      "Epoch 15/30\n",
      "\n",
      "Epoch 00015: val_loss did not improve from 2.09861\n",
      "2487/2487 - 3s - loss: 1.6519 - val_loss: 2.1168\n",
      "Epoch 16/30\n",
      "\n",
      "Epoch 00016: val_loss did not improve from 2.09861\n",
      "2487/2487 - 3s - loss: 1.6406 - val_loss: 2.1140\n",
      "Epoch 17/30\n",
      "\n",
      "Epoch 00017: val_loss did not improve from 2.09861\n",
      "2487/2487 - 3s - loss: 1.6264 - val_loss: 2.1141\n",
      "Epoch 18/30\n",
      "\n",
      "Epoch 00018: val_loss did not improve from 2.09861\n",
      "2487/2487 - 3s - loss: 1.6193 - val_loss: 2.1265\n",
      "Epoch 19/30\n",
      "\n",
      "Epoch 00019: val_loss did not improve from 2.09861\n",
      "2487/2487 - 3s - loss: 1.6096 - val_loss: 2.1285\n",
      "Epoch 20/30\n",
      "\n",
      "Epoch 00020: val_loss did not improve from 2.09861\n",
      "2487/2487 - 3s - loss: 1.5990 - val_loss: 2.1297\n",
      "Epoch 21/30\n",
      "\n",
      "Epoch 00021: val_loss did not improve from 2.09861\n",
      "2487/2487 - 3s - loss: 1.5900 - val_loss: 2.1397\n",
      "Epoch 22/30\n",
      "\n",
      "Epoch 00022: val_loss did not improve from 2.09861\n",
      "2487/2487 - 3s - loss: 1.5866 - val_loss: 2.1483\n",
      "Epoch 23/30\n",
      "\n",
      "Epoch 00023: val_loss did not improve from 2.09861\n",
      "2487/2487 - 3s - loss: 1.5701 - val_loss: 2.1472\n",
      "Epoch 24/30\n",
      "\n",
      "Epoch 00024: val_loss did not improve from 2.09861\n",
      "2487/2487 - 3s - loss: 1.5570 - val_loss: 2.1634\n",
      "Epoch 25/30\n",
      "\n",
      "Epoch 00025: val_loss did not improve from 2.09861\n",
      "2487/2487 - 3s - loss: 1.5462 - val_loss: 2.1681\n",
      "Epoch 26/30\n",
      "\n",
      "Epoch 00026: val_loss did not improve from 2.09861\n",
      "2487/2487 - 3s - loss: 1.5362 - val_loss: 2.1658\n",
      "Epoch 27/30\n",
      "\n",
      "Epoch 00027: val_loss did not improve from 2.09861\n",
      "2487/2487 - 3s - loss: 1.5277 - val_loss: 2.1674\n",
      "Epoch 28/30\n",
      "\n",
      "Epoch 00028: val_loss did not improve from 2.09861\n",
      "2487/2487 - 3s - loss: 1.5234 - val_loss: 2.1781\n",
      "Epoch 29/30\n",
      "\n",
      "Epoch 00029: val_loss did not improve from 2.09861\n",
      "2487/2487 - 3s - loss: 1.5180 - val_loss: 2.1807\n",
      "Epoch 30/30\n",
      "\n",
      "Epoch 00030: val_loss did not improve from 2.09861\n",
      "2487/2487 - 3s - loss: 1.5058 - val_loss: 2.1959\n"
     ]
    },
    {
     "data": {
      "text/plain": [
       "<tensorflow.python.keras.callbacks.History at 0x1edef3cbd08>"
      ]
     },
     "execution_count": 14,
     "metadata": {},
     "output_type": "execute_result"
    }
   ],
   "source": [
    "filename = 'model.h5'\n",
    "checkpoint = ModelCheckpoint(filename, monitor='val_loss', verbose=1, save_best_only=True, mode='min')\n",
    "model.fit(X_train, y_train, epochs=30, batch_size=64, validation_data=(X_test, y_test), callbacks=[checkpoint], verbose=2)"
   ]
  },
  {
   "cell_type": "code",
   "execution_count": 17,
   "metadata": {},
   "outputs": [],
   "source": [
    "model = load_model('model.h5')"
   ]
  },
  {
   "cell_type": "code",
   "execution_count": 18,
   "metadata": {},
   "outputs": [],
   "source": [
    "def word_for_id(integer, tokenizer):\n",
    "    for word, index in tokenizer.word_index.items():\n",
    "        if index == integer:\n",
    "            return word\n",
    "    return None"
   ]
  },
  {
   "cell_type": "code",
   "execution_count": 28,
   "metadata": {},
   "outputs": [],
   "source": [
    "def predict_sequence(model, tokenizer, source):\n",
    "    source = source.reshape((1, source.shape[0]))\n",
    "    prediction = model.predict(source, verbose=0)[0]\n",
    "    integers = [np.argmax(vector) for vector in prediction]\n",
    "    target = list()\n",
    "    for i in integers:\n",
    "        word = word_for_id(i, tokenizer)\n",
    "        if word is None:\n",
    "            break\n",
    "        target.append(word)\n",
    "    return ' '.join(target)"
   ]
  },
  {
   "cell_type": "code",
   "execution_count": 29,
   "metadata": {},
   "outputs": [],
   "source": [
    "def evaluate_model(model, tokenizer, sources, raw_dataset):\n",
    "    actual, predicted = list(), list()\n",
    "    for i, source in enumerate(sources):\n",
    "        # translate encoded source text\n",
    "        source = source.reshape((1, source.shape[0]))\n",
    "        translation = predict_sequence(model, eng_tokenizer, source)\n",
    "        raw_target, raw_src = raw_dataset[i]\n",
    "        if i < 10:\n",
    "            print('src=[%s], target=[%s], predicted=[%s]' % (raw_src, raw_target, translation))\n",
    "        actual.append([raw_target.split()])\n",
    "        predicted.append(translation.split())"
   ]
  },
  {
   "cell_type": "code",
   "execution_count": 33,
   "metadata": {},
   "outputs": [
    {
     "data": {
      "text/plain": [
       "'<start> <start> 톰은 <end> <end> <end> <end> <end>'"
      ]
     },
     "execution_count": 33,
     "metadata": {},
     "output_type": "execute_result"
    }
   ],
   "source": [
    "predict_sequence(model,target_lang_tokenizer, X_test[5])"
   ]
  },
  {
   "cell_type": "code",
   "execution_count": null,
   "metadata": {},
   "outputs": [],
   "source": []
  }
 ],
 "metadata": {
  "kernelspec": {
   "display_name": "TensorFlow-GPU",
   "language": "python",
   "name": "tf-gpu"
  },
  "language_info": {
   "codemirror_mode": {
    "name": "ipython",
    "version": 3
   },
   "file_extension": ".py",
   "mimetype": "text/x-python",
   "name": "python",
   "nbconvert_exporter": "python",
   "pygments_lexer": "ipython3",
   "version": "3.7.6"
  }
 },
 "nbformat": 4,
 "nbformat_minor": 4
}
