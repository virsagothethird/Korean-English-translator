{
 "cells": [
  {
   "cell_type": "code",
   "execution_count": 45,
   "metadata": {},
   "outputs": [
    {
     "name": "stdout",
     "output_type": "stream",
     "text": [
      "The autoreload extension is already loaded. To reload it, use:\n",
      "  %reload_ext autoreload\n"
     ]
    }
   ],
   "source": [
    "%load_ext autoreload\n",
    "%autoreload 2"
   ]
  },
  {
   "cell_type": "code",
   "execution_count": 46,
   "metadata": {},
   "outputs": [],
   "source": [
    "import pandas as pd\n",
    "import numpy as np\n",
    "from langdetect import detect\n",
    "import re\n",
    "import os\n",
    "import matplotlib.ticker as ticker\n",
    "import matplotlib.pyplot as plt\n",
    "\n",
    "\n",
    "from sklearn.model_selection import train_test_split\n",
    "\n",
    "import tensorflow as tf\n",
    "from tensorflow import keras\n",
    "from tensorflow.keras.preprocessing.text import Tokenizer\n",
    "from tensorflow.keras.preprocessing.sequence import pad_sequences\n",
    "from tensorflow.keras.models import Model, Sequential, load_model\n",
    "from tensorflow.keras.layers import Input, LSTM, Dense, GRU, Embedding, Layer, RepeatVector, TimeDistributed\n",
    "from tensorflow.keras.losses import SparseCategoricalCrossentropy, CategoricalCrossentropy\n",
    "from tensorflow.keras.optimizers import Adam\n",
    "from tensorflow.keras.utils import plot_model, to_categorical\n",
    "from tensorflow.keras.callbacks import ModelCheckpoint\n",
    "import pydot\n",
    "\n",
    "from src.helpme import clean_text,start_end_tagger,max_length,tokenize,preprocess,preprocess_sentence"
   ]
  },
  {
   "cell_type": "code",
   "execution_count": 47,
   "metadata": {},
   "outputs": [],
   "source": [
    "df_test = pd.read_csv('data/kor.txt', sep='\\t', names=['eng','kor','drop_me'])\n",
    "df_test = df_test.drop(columns='drop_me')"
   ]
  },
  {
   "cell_type": "code",
   "execution_count": 48,
   "metadata": {},
   "outputs": [],
   "source": [
    "df_all = pd.read_csv('data/final_df.txt',sep='\\t')\n",
    "\n",
    "df_all = df_all.drop(columns='Unnamed: 0')"
   ]
  },
  {
   "cell_type": "code",
   "execution_count": 50,
   "metadata": {},
   "outputs": [
    {
     "data": {
      "text/html": [
       "<div>\n",
       "<style scoped>\n",
       "    .dataframe tbody tr th:only-of-type {\n",
       "        vertical-align: middle;\n",
       "    }\n",
       "\n",
       "    .dataframe tbody tr th {\n",
       "        vertical-align: top;\n",
       "    }\n",
       "\n",
       "    .dataframe thead th {\n",
       "        text-align: right;\n",
       "    }\n",
       "</style>\n",
       "<table border=\"1\" class=\"dataframe\">\n",
       "  <thead>\n",
       "    <tr style=\"text-align: right;\">\n",
       "      <th></th>\n",
       "      <th>eng</th>\n",
       "      <th>kor</th>\n",
       "    </tr>\n",
       "  </thead>\n",
       "  <tbody>\n",
       "    <tr>\n",
       "      <th>0</th>\n",
       "      <td>Whose words should I be following?</td>\n",
       "      <td>어느 장단에 맞춰야 될지</td>\n",
       "    </tr>\n",
       "    <tr>\n",
       "      <th>1</th>\n",
       "      <td>When I take one step forward</td>\n",
       "      <td>한 발자국 떼면</td>\n",
       "    </tr>\n",
       "    <tr>\n",
       "      <th>2</th>\n",
       "      <td>My shadow grows one step bigger</td>\n",
       "      <td>한 발자국 커지는 shadow</td>\n",
       "    </tr>\n",
       "    <tr>\n",
       "      <th>3</th>\n",
       "      <td>Waking up and opening my eyes, where am I?</td>\n",
       "      <td>잠에서 눈을 뜬 여긴 또 어디</td>\n",
       "    </tr>\n",
       "    <tr>\n",
       "      <th>4</th>\n",
       "      <td>I’m getting up but my body’s swaying</td>\n",
       "      <td>일어나니 휘청이는 몸</td>\n",
       "    </tr>\n",
       "    <tr>\n",
       "      <th>...</th>\n",
       "      <td>...</td>\n",
       "      <td>...</td>\n",
       "    </tr>\n",
       "    <tr>\n",
       "      <th>98198</th>\n",
       "      <td>Tom always cried when his sister took away his...</td>\n",
       "      <td>톰은 누나가 자기 장난감을 빼앗아 갔을 때마다 울음을 터뜨렸고, 누나는 바로 그런 ...</td>\n",
       "    </tr>\n",
       "    <tr>\n",
       "      <th>98199</th>\n",
       "      <td>Science fiction has undoubtedly been the inspi...</td>\n",
       "      <td>공상 과학 소설은 의심의 여지 없이 오늘날 존재하는 많은 기술에 영감을 주었어.</td>\n",
       "    </tr>\n",
       "    <tr>\n",
       "      <th>98200</th>\n",
       "      <td>I started a new blog. I'll do my best not to b...</td>\n",
       "      <td>난 블로그를 시작했어. 블로그를 초반에만 반짝 많이 하다가 관두는 사람처럼은 되지 ...</td>\n",
       "    </tr>\n",
       "    <tr>\n",
       "      <th>98201</th>\n",
       "      <td>I think it's a shame that some foreign languag...</td>\n",
       "      <td>몇몇 외국어 선생님이 한 번도 원어민과 공부해본 적도 없으면서 대학을 나올 수 있었...</td>\n",
       "    </tr>\n",
       "    <tr>\n",
       "      <th>98202</th>\n",
       "      <td>Doubtless there exists in this world precisely...</td>\n",
       "      <td>의심의 여지 없이 세상에는 어떤 남자이든 정확히 딱 알맞는 여자와 결혼하거나 그 반...</td>\n",
       "    </tr>\n",
       "  </tbody>\n",
       "</table>\n",
       "<p>98203 rows × 2 columns</p>\n",
       "</div>"
      ],
      "text/plain": [
       "                                                     eng  \\\n",
       "0                     Whose words should I be following?   \n",
       "1                           When I take one step forward   \n",
       "2                        My shadow grows one step bigger   \n",
       "3             Waking up and opening my eyes, where am I?   \n",
       "4                   I’m getting up but my body’s swaying   \n",
       "...                                                  ...   \n",
       "98198  Tom always cried when his sister took away his...   \n",
       "98199  Science fiction has undoubtedly been the inspi...   \n",
       "98200  I started a new blog. I'll do my best not to b...   \n",
       "98201  I think it's a shame that some foreign languag...   \n",
       "98202  Doubtless there exists in this world precisely...   \n",
       "\n",
       "                                                     kor  \n",
       "0                                          어느 장단에 맞춰야 될지  \n",
       "1                                               한 발자국 떼면  \n",
       "2                                       한 발자국 커지는 shadow  \n",
       "3                                       잠에서 눈을 뜬 여긴 또 어디  \n",
       "4                                            일어나니 휘청이는 몸  \n",
       "...                                                  ...  \n",
       "98198  톰은 누나가 자기 장난감을 빼앗아 갔을 때마다 울음을 터뜨렸고, 누나는 바로 그런 ...  \n",
       "98199       공상 과학 소설은 의심의 여지 없이 오늘날 존재하는 많은 기술에 영감을 주었어.  \n",
       "98200  난 블로그를 시작했어. 블로그를 초반에만 반짝 많이 하다가 관두는 사람처럼은 되지 ...  \n",
       "98201  몇몇 외국어 선생님이 한 번도 원어민과 공부해본 적도 없으면서 대학을 나올 수 있었...  \n",
       "98202  의심의 여지 없이 세상에는 어떤 남자이든 정확히 딱 알맞는 여자와 결혼하거나 그 반...  \n",
       "\n",
       "[98203 rows x 2 columns]"
      ]
     },
     "execution_count": 50,
     "metadata": {},
     "output_type": "execute_result"
    }
   ],
   "source": [
    "df_all"
   ]
  },
  {
   "cell_type": "code",
   "execution_count": 51,
   "metadata": {},
   "outputs": [],
   "source": [
    "df_test = df_test.drop([3317,3316])"
   ]
  },
  {
   "cell_type": "code",
   "execution_count": 52,
   "metadata": {},
   "outputs": [
    {
     "data": {
      "text/plain": [
       "0                                                     Go.\n",
       "1                                                     Hi.\n",
       "2                                                    Run!\n",
       "3                                                    Run.\n",
       "4                                                    Who?\n",
       "                              ...                        \n",
       "3311    Why don't we just reformat the hard disk? You'...\n",
       "3312    I knew that Tom was just a freshman, so I was ...\n",
       "3313    Tom always cried when his sister took away his...\n",
       "3314    Science fiction has undoubtedly been the inspi...\n",
       "3315    I started a new blog. I'll do my best not to b...\n",
       "Name: eng, Length: 3316, dtype: object"
      ]
     },
     "execution_count": 52,
     "metadata": {},
     "output_type": "execute_result"
    }
   ],
   "source": [
    "df_test['eng']"
   ]
  },
  {
   "cell_type": "code",
   "execution_count": 53,
   "metadata": {},
   "outputs": [],
   "source": [
    "eng = preprocess(df_test['eng'])\n",
    "kor = preprocess(df_test['kor'])\n",
    "\n",
    "input_tensor, input_lang_tokenizer = tokenize(eng)\n",
    "target_tensor, target_lang_tokenizer = tokenize(kor)"
   ]
  },
  {
   "cell_type": "code",
   "execution_count": 54,
   "metadata": {},
   "outputs": [
    {
     "name": "stdout",
     "output_type": "stream",
     "text": [
      "English vocab size: 2338\n",
      "Korean vocab size: 5063\n",
      "Longest English Sentence: 31\n",
      "Longest Korean Sentence: 19\n"
     ]
    }
   ],
   "source": [
    "eng_vocab_size = len(input_lang_tokenizer.word_index)+1\n",
    "kor_vocab_size = len(target_lang_tokenizer.word_index)+1\n",
    "\n",
    "print(f'English vocab size: {eng_vocab_size}')\n",
    "print(f'Korean vocab size: {kor_vocab_size}')\n",
    "\n",
    "eng_max_length = len(input_tensor[0])\n",
    "kor_max_length = len(target_tensor[0])\n",
    "\n",
    "print(f'Longest English Sentence: {eng_max_length}')\n",
    "print(f'Longest Korean Sentence: {kor_max_length}')"
   ]
  },
  {
   "cell_type": "code",
   "execution_count": 11,
   "metadata": {},
   "outputs": [
    {
     "data": {
      "text/plain": [
       "0                       Whose words should I be following?\n",
       "1                             When I take one step forward\n",
       "2                          My shadow grows one step bigger\n",
       "3               Waking up and opening my eyes, where am I?\n",
       "4                     I’m getting up but my body’s swaying\n",
       "                               ...                        \n",
       "98198    Tom always cried when his sister took away his...\n",
       "98199    Science fiction has undoubtedly been the inspi...\n",
       "98200    I started a new blog. I'll do my best not to b...\n",
       "98201    I think it's a shame that some foreign languag...\n",
       "98202    Doubtless there exists in this world precisely...\n",
       "Name: eng, Length: 98203, dtype: object"
      ]
     },
     "execution_count": 11,
     "metadata": {},
     "output_type": "execute_result"
    }
   ],
   "source": [
    "df_all['eng']"
   ]
  },
  {
   "cell_type": "code",
   "execution_count": 12,
   "metadata": {},
   "outputs": [],
   "source": [
    "eng_all = df_all['eng'].apply(clean_text)"
   ]
  },
  {
   "cell_type": "code",
   "execution_count": 13,
   "metadata": {},
   "outputs": [],
   "source": [
    "eng_all = eng_all.apply(start_end_tagger)"
   ]
  },
  {
   "cell_type": "code",
   "execution_count": 14,
   "metadata": {},
   "outputs": [],
   "source": [
    "kor_all = df_all['kor'].apply(clean_text)\n",
    "kor_all = kor_all.apply(start_end_tagger)"
   ]
  },
  {
   "cell_type": "code",
   "execution_count": 15,
   "metadata": {},
   "outputs": [],
   "source": [
    "eng_tensor, eng_tokenizer = tokenize(eng_all)\n",
    "kor_tensor, kor_tokenizer = tokenize(kor_all)"
   ]
  },
  {
   "cell_type": "code",
   "execution_count": 16,
   "metadata": {},
   "outputs": [
    {
     "name": "stdout",
     "output_type": "stream",
     "text": [
      "English vocab size: 12289\n",
      "Korean vocab size: 58758\n",
      "Longest English Sentence: 103\n",
      "Longest Korean Sentence: 91\n"
     ]
    }
   ],
   "source": [
    "eng_vocab_size = len(eng_tokenizer.word_index)+1\n",
    "kor_vocab_size = len(kor_tokenizer.word_index)+1\n",
    "\n",
    "print(f'English vocab size: {eng_vocab_size}')\n",
    "print(f'Korean vocab size: {kor_vocab_size}')\n",
    "\n",
    "eng_max_length = len(eng_tensor[0])\n",
    "kor_max_length = len(kor_tensor[0])\n",
    "\n",
    "print(f'Longest English Sentence: {eng_max_length}')\n",
    "print(f'Longest Korean Sentence: {kor_max_length}')"
   ]
  },
  {
   "cell_type": "code",
   "execution_count": 17,
   "metadata": {},
   "outputs": [],
   "source": [
    "X_train, X_test, y_train, y_test = train_test_split(eng_tensor,kor_tensor)"
   ]
  },
  {
   "cell_type": "code",
   "execution_count": 55,
   "metadata": {},
   "outputs": [],
   "source": [
    "X_train, X_test, y_train, y_test = train_test_split(input_tensor,target_tensor)"
   ]
  },
  {
   "cell_type": "code",
   "execution_count": 56,
   "metadata": {},
   "outputs": [],
   "source": [
    "def encode_sequences(tokenizer, length, lines):\n",
    "    # integer encode sequences\n",
    "    X = tokenizer.texts_to_sequences(lines)\n",
    "    # pad sequences with 0 values\n",
    "    X = pad_sequences(X, maxlen=length, padding='post')\n",
    "    return X"
   ]
  },
  {
   "cell_type": "code",
   "execution_count": 57,
   "metadata": {},
   "outputs": [],
   "source": [
    "def encode_output(sequences, vocab_size):\n",
    "    ylist = list()\n",
    "    for sequence in sequences:\n",
    "        encoded = to_categorical(sequence, num_classes=vocab_size)\n",
    "        ylist.append(encoded)\n",
    "    y = np.array(ylist)\n",
    "    y = y.reshape(sequences.shape[0], sequences.shape[1], vocab_size)\n",
    "    return y"
   ]
  },
  {
   "cell_type": "code",
   "execution_count": 58,
   "metadata": {},
   "outputs": [],
   "source": [
    "y_train = encode_output(y_train, kor_vocab_size)\n",
    "y_test = encode_output(y_test, kor_vocab_size)"
   ]
  },
  {
   "cell_type": "code",
   "execution_count": 59,
   "metadata": {},
   "outputs": [],
   "source": [
    "def define_model(src_vocab, tar_vocab, src_timesteps, tar_timesteps, n_units):\n",
    "    model = Sequential()\n",
    "    model.add(Embedding(src_vocab, n_units, input_length=src_timesteps, mask_zero=True))\n",
    "    model.add(LSTM(n_units))\n",
    "    model.add(RepeatVector(tar_timesteps))\n",
    "    model.add(LSTM(n_units, return_sequences=True))\n",
    "    model.add(TimeDistributed(Dense(tar_vocab, activation='softmax')))\n",
    "    return model\n",
    " "
   ]
  },
  {
   "cell_type": "code",
   "execution_count": 60,
   "metadata": {},
   "outputs": [
    {
     "name": "stdout",
     "output_type": "stream",
     "text": [
      "Model: \"sequential_2\"\n",
      "_________________________________________________________________\n",
      "Layer (type)                 Output Shape              Param #   \n",
      "=================================================================\n",
      "embedding_2 (Embedding)      (None, 31, 256)           598528    \n",
      "_________________________________________________________________\n",
      "lstm_4 (LSTM)                (None, 256)               525312    \n",
      "_________________________________________________________________\n",
      "repeat_vector_2 (RepeatVecto (None, 19, 256)           0         \n",
      "_________________________________________________________________\n",
      "lstm_5 (LSTM)                (None, 19, 256)           525312    \n",
      "_________________________________________________________________\n",
      "time_distributed_2 (TimeDist (None, 19, 5063)          1301191   \n",
      "=================================================================\n",
      "Total params: 2,950,343\n",
      "Trainable params: 2,950,343\n",
      "Non-trainable params: 0\n",
      "_________________________________________________________________\n",
      "None\n"
     ]
    },
    {
     "data": {
      "image/png": "[encoded data removed]",
      "text/plain": [
       "<IPython.core.display.Image object>"
      ]
     },
     "execution_count": 60,
     "metadata": {},
     "output_type": "execute_result"
    }
   ],
   "source": [
    "# define model\n",
    "model = define_model(eng_vocab_size, kor_vocab_size, eng_max_length, kor_max_length, 256)\n",
    "model.compile(optimizer='adam', loss='categorical_crossentropy')\n",
    "# summarize defined model\n",
    "print(model.summary())\n",
    "plot_model(model, to_file='model.png', show_shapes=True)"
   ]
  },
  {
   "cell_type": "code",
   "execution_count": 35,
   "metadata": {},
   "outputs": [
    {
     "name": "stdout",
     "output_type": "stream",
     "text": [
      "Train on 2487 samples, validate on 829 samples\n",
      "Epoch 1/30\n",
      "\n",
      "Epoch 00001: val_loss improved from inf to 2.65395, saving model to model.h5\n",
      "2487/2487 - 15s - loss: 4.2975 - val_loss: 2.6540\n",
      "Epoch 2/30\n",
      "\n",
      "Epoch 00002: val_loss improved from 2.65395 to 2.33451, saving model to model.h5\n",
      "2487/2487 - 3s - loss: 2.3556 - val_loss: 2.3345\n",
      "Epoch 3/30\n",
      "\n",
      "Epoch 00003: val_loss improved from 2.33451 to 2.25267, saving model to model.h5\n",
      "2487/2487 - 3s - loss: 2.1367 - val_loss: 2.2527\n",
      "Epoch 4/30\n",
      "\n",
      "Epoch 00004: val_loss improved from 2.25267 to 2.21740, saving model to model.h5\n",
      "2487/2487 - 3s - loss: 2.0495 - val_loss: 2.2174\n",
      "Epoch 5/30\n",
      "\n",
      "Epoch 00005: val_loss improved from 2.21740 to 2.17668, saving model to model.h5\n",
      "2487/2487 - 3s - loss: 1.9779 - val_loss: 2.1767\n",
      "Epoch 6/30\n",
      "\n",
      "Epoch 00006: val_loss improved from 2.17668 to 2.14200, saving model to model.h5\n",
      "2487/2487 - 3s - loss: 1.9155 - val_loss: 2.1420\n",
      "Epoch 7/30\n",
      "\n",
      "Epoch 00007: val_loss improved from 2.14200 to 2.10926, saving model to model.h5\n",
      "2487/2487 - 3s - loss: 1.8585 - val_loss: 2.1093\n",
      "Epoch 8/30\n",
      "\n",
      "Epoch 00008: val_loss improved from 2.10926 to 2.10005, saving model to model.h5\n",
      "2487/2487 - 3s - loss: 1.8139 - val_loss: 2.1000\n",
      "Epoch 9/30\n",
      "\n",
      "Epoch 00009: val_loss improved from 2.10005 to 2.09226, saving model to model.h5\n",
      "2487/2487 - 3s - loss: 1.7781 - val_loss: 2.0923\n",
      "Epoch 10/30\n",
      "\n",
      "Epoch 00010: val_loss improved from 2.09226 to 2.07982, saving model to model.h5\n",
      "2487/2487 - 3s - loss: 1.7535 - val_loss: 2.0798\n",
      "Epoch 11/30\n",
      "\n",
      "Epoch 00011: val_loss improved from 2.07982 to 2.07777, saving model to model.h5\n",
      "2487/2487 - 3s - loss: 1.7302 - val_loss: 2.0778\n",
      "Epoch 12/30\n",
      "\n",
      "Epoch 00012: val_loss did not improve from 2.07777\n",
      "2487/2487 - 3s - loss: 1.7059 - val_loss: 2.0780\n",
      "Epoch 13/30\n",
      "\n",
      "Epoch 00013: val_loss improved from 2.07777 to 2.07514, saving model to model.h5\n",
      "2487/2487 - 3s - loss: 1.6922 - val_loss: 2.0751\n",
      "Epoch 14/30\n",
      "\n",
      "Epoch 00014: val_loss improved from 2.07514 to 2.07363, saving model to model.h5\n",
      "2487/2487 - 3s - loss: 1.6718 - val_loss: 2.0736\n",
      "Epoch 15/30\n",
      "\n",
      "Epoch 00015: val_loss improved from 2.07363 to 2.07346, saving model to model.h5\n",
      "2487/2487 - 3s - loss: 1.6575 - val_loss: 2.0735\n",
      "Epoch 16/30\n",
      "\n",
      "Epoch 00016: val_loss did not improve from 2.07346\n",
      "2487/2487 - 3s - loss: 1.6441 - val_loss: 2.0866\n",
      "Epoch 17/30\n",
      "\n",
      "Epoch 00017: val_loss did not improve from 2.07346\n",
      "2487/2487 - 3s - loss: 1.6264 - val_loss: 2.0971\n",
      "Epoch 18/30\n",
      "\n",
      "Epoch 00018: val_loss did not improve from 2.07346\n",
      "2487/2487 - 3s - loss: 1.6238 - val_loss: 2.0898\n",
      "Epoch 19/30\n",
      "\n",
      "Epoch 00019: val_loss did not improve from 2.07346\n",
      "2487/2487 - 3s - loss: 1.6083 - val_loss: 2.0956\n",
      "Epoch 20/30\n",
      "\n",
      "Epoch 00020: val_loss did not improve from 2.07346\n",
      "2487/2487 - 3s - loss: 1.5945 - val_loss: 2.0982\n",
      "Epoch 21/30\n",
      "\n",
      "Epoch 00021: val_loss did not improve from 2.07346\n",
      "2487/2487 - 3s - loss: 1.5792 - val_loss: 2.1071\n",
      "Epoch 22/30\n",
      "\n",
      "Epoch 00022: val_loss did not improve from 2.07346\n",
      "2487/2487 - 3s - loss: 1.5669 - val_loss: 2.1047\n",
      "Epoch 23/30\n",
      "\n",
      "Epoch 00023: val_loss did not improve from 2.07346\n",
      "2487/2487 - 3s - loss: 1.5602 - val_loss: 2.1112\n",
      "Epoch 24/30\n",
      "\n",
      "Epoch 00024: val_loss did not improve from 2.07346\n",
      "2487/2487 - 3s - loss: 1.5660 - val_loss: 2.1255\n",
      "Epoch 25/30\n",
      "\n",
      "Epoch 00025: val_loss did not improve from 2.07346\n",
      "2487/2487 - 3s - loss: 1.5528 - val_loss: 2.1167\n",
      "Epoch 26/30\n",
      "\n",
      "Epoch 00026: val_loss did not improve from 2.07346\n",
      "2487/2487 - 3s - loss: 1.5373 - val_loss: 2.1237\n",
      "Epoch 27/30\n",
      "\n",
      "Epoch 00027: val_loss did not improve from 2.07346\n",
      "2487/2487 - 3s - loss: 1.5241 - val_loss: 2.1262\n",
      "Epoch 28/30\n",
      "\n",
      "Epoch 00028: val_loss did not improve from 2.07346\n",
      "2487/2487 - 3s - loss: 1.5180 - val_loss: 2.1255\n",
      "Epoch 29/30\n",
      "\n",
      "Epoch 00029: val_loss did not improve from 2.07346\n",
      "2487/2487 - 3s - loss: 1.5246 - val_loss: 2.1366\n",
      "Epoch 30/30\n",
      "\n",
      "Epoch 00030: val_loss did not improve from 2.07346\n",
      "2487/2487 - 3s - loss: 1.5095 - val_loss: 2.1489\n"
     ]
    },
    {
     "data": {
      "text/plain": [
       "<tensorflow.python.keras.callbacks.History at 0x25a1881eb88>"
      ]
     },
     "execution_count": 35,
     "metadata": {},
     "output_type": "execute_result"
    }
   ],
   "source": [
    "filename = 'model.h5'\n",
    "checkpoint = ModelCheckpoint(filename, monitor='val_loss', verbose=1, save_best_only=True, mode='min')\n",
    "model.fit(X_train, y_train, epochs=30, batch_size=64, validation_data=(X_test, y_test), callbacks=[checkpoint], verbose=2)"
   ]
  },
  {
   "cell_type": "code",
   "execution_count": 61,
   "metadata": {},
   "outputs": [],
   "source": [
    "model = load_model('model.h5')"
   ]
  },
  {
   "cell_type": "code",
   "execution_count": 62,
   "metadata": {},
   "outputs": [],
   "source": [
    "def word_for_id(integer, tokenizer):\n",
    "    for word, index in tokenizer.word_index.items():\n",
    "        if index == integer:\n",
    "            return word\n",
    "    return None"
   ]
  },
  {
   "cell_type": "code",
   "execution_count": 75,
   "metadata": {},
   "outputs": [],
   "source": [
    "def predict_sequence(model, tokenizer, source):\n",
    "    source = source.reshape((1, source.shape[0]))\n",
    "    prediction = model.predict(source, verbose=0)[0]\n",
    "    integers = [np.argmax(vector) for vector in prediction]\n",
    "    target = list()\n",
    "    for i in integers:\n",
    "        word = word_for_id(i, tokenizer)\n",
    "        if word == '<end>':\n",
    "            break\n",
    "        target.append(word)\n",
    "    return ' '.join(target)"
   ]
  },
  {
   "cell_type": "code",
   "execution_count": 76,
   "metadata": {},
   "outputs": [
    {
     "data": {
      "text/plain": [
       "array([[  1, 153, 811, ...,   0,   0,   0],\n",
       "       [  1, 165,  16, ...,   0,   0,   0],\n",
       "       [  1,   3, 112, ...,   0,   0,   0],\n",
       "       ...,\n",
       "       [  1,  86,  27, ...,   0,   0,   0],\n",
       "       [  1,   3,  13, ...,   0,   0,   0],\n",
       "       [  1, 627,   2, ...,   0,   0,   0]])"
      ]
     },
     "execution_count": 76,
     "metadata": {},
     "output_type": "execute_result"
    }
   ],
   "source": [
    "X_test"
   ]
  },
  {
   "cell_type": "code",
   "execution_count": 86,
   "metadata": {},
   "outputs": [
    {
     "data": {
      "text/plain": [
       "'<start> 톰은'"
      ]
     },
     "execution_count": 86,
     "metadata": {},
     "output_type": "execute_result"
    }
   ],
   "source": [
    "predict_sequence(model,target_lang_tokenizer, X_test[1])"
   ]
  },
  {
   "cell_type": "code",
   "execution_count": null,
   "metadata": {},
   "outputs": [],
   "source": []
  }
 ],
 "metadata": {
  "kernelspec": {
   "display_name": "TensorFlow-GPU",
   "language": "python",
   "name": "tf-gpu"
  },
  "language_info": {
   "codemirror_mode": {
    "name": "ipython",
    "version": 3
   },
   "file_extension": ".py",
   "mimetype": "text/x-python",
   "name": "python",
   "nbconvert_exporter": "python",
   "pygments_lexer": "ipython3",
   "version": "3.7.6"
  }
 },
 "nbformat": 4,
 "nbformat_minor": 4
}
