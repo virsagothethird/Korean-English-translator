{
 "cells": [
  {
   "cell_type": "code",
   "execution_count": 1,
   "metadata": {},
   "outputs": [],
   "source": [
    "%load_ext autoreload\n",
    "%autoreload 2"
   ]
  },
  {
   "cell_type": "code",
   "execution_count": 2,
   "metadata": {},
   "outputs": [],
   "source": [
    "import pandas as pd\n",
    "import numpy as np\n",
    "from langdetect import detect\n",
    "import re\n",
    "import os\n",
    "import matplotlib.ticker as ticker\n",
    "import matplotlib.pyplot as plt\n",
    "import datetime\n",
    "plt.style.use('seaborn')\n",
    "import operator\n",
    "\n",
    "\n",
    "from sklearn.model_selection import train_test_split\n",
    "\n",
    "import tensorflow as tf\n",
    "from tensorflow import keras\n",
    "from tensorflow.keras.preprocessing.text import Tokenizer\n",
    "from tensorflow.keras.preprocessing.sequence import pad_sequences\n",
    "from tensorflow.keras.models import Model, Sequential, load_model\n",
    "from tensorflow.keras.layers import Input, LSTM, Dense, GRU, Embedding, Layer, RepeatVector, TimeDistributed\n",
    "from tensorflow.keras.losses import SparseCategoricalCrossentropy, CategoricalCrossentropy\n",
    "from tensorflow.keras.optimizers import Adam\n",
    "from tensorflow.keras.utils import plot_model, to_categorical\n",
    "from tensorflow.keras.callbacks import ModelCheckpoint, TensorBoard\n",
    "import pydot\n",
    "\n",
    "from src.helpme_l2_drop import *"
   ]
  },
  {
   "cell_type": "code",
   "execution_count": 4,
   "metadata": {},
   "outputs": [
    {
     "name": "stdout",
     "output_type": "stream",
     "text": [
      "English vocab size: 2293\n",
      "Korean vocab size: 4934\n",
      "Longest English Sentence: 16\n",
      "Longest Korean Sentence: 15\n"
     ]
    }
   ],
   "source": [
    "df_test = pd.read_csv('data/kor.txt', sep='\\t', names=['eng','kor','drop_me'])\n",
    "df_test = df_test.drop(columns='drop_me')\n",
    "\n",
    "df_test = df_test.drop([3317,3316])\n",
    "\n",
    "df_test = df_test[:-30]\n",
    "\n",
    "\n",
    "\n",
    "eng = preprocess(df_test['eng'])\n",
    "kor = preprocess(df_test['kor'])\n",
    "\n",
    "input_tensor, input_lang_tokenizer = tokenize(eng)\n",
    "target_tensor, target_lang_tokenizer = tokenize(kor)\n",
    "\n",
    "eng_test_vocab_size = len(input_lang_tokenizer.word_index)+1\n",
    "kor_test_vocab_size = len(target_lang_tokenizer.word_index)+1\n",
    "\n",
    "print(f'English vocab size: {eng_test_vocab_size}')\n",
    "print(f'Korean vocab size: {kor_test_vocab_size}')\n",
    "\n",
    "eng_test_max_length = len(input_tensor[0])\n",
    "kor_test_max_length = len(target_tensor[0])\n",
    "\n",
    "print(f'Longest English Sentence: {eng_test_max_length}')\n",
    "print(f'Longest Korean Sentence: {kor_test_max_length}')"
   ]
  },
  {
   "cell_type": "code",
   "execution_count": 5,
   "metadata": {},
   "outputs": [],
   "source": [
    "eng_word_counts = input_lang_tokenizer.word_counts\n",
    "kor_word_counts = target_lang_tokenizer.word_counts\n",
    "\n",
    "sorted_eng_word_counts = sorted(eng_word_counts.items(), key=operator.itemgetter(1), reverse=True)\n",
    "sorted_kor_word_counts = sorted(kor_word_counts.items(), key=operator.itemgetter(1), reverse=True)\n",
    "\n",
    "top_20_eng_words = sorted_eng_word_counts[2:20]\n",
    "\n",
    "top_20_kor_words = sorted_kor_word_counts[2:20]"
   ]
  },
  {
   "cell_type": "code",
   "execution_count": 6,
   "metadata": {},
   "outputs": [
    {
     "data": {
      "text/plain": [
       "[('i', 986),\n",
       " ('tom', 859),\n",
       " ('is', 663),\n",
       " ('to', 615),\n",
       " ('you', 568),\n",
       " ('a', 450),\n",
       " ('the', 418),\n",
       " ('not', 407),\n",
       " ('do', 306),\n",
       " ('that', 258),\n",
       " ('have', 212),\n",
       " ('in', 199),\n",
       " ('are', 182),\n",
       " ('it', 170),\n",
       " ('am', 167),\n",
       " ('this', 161),\n",
       " ('was', 161),\n",
       " ('my', 137)]"
      ]
     },
     "execution_count": 6,
     "metadata": {},
     "output_type": "execute_result"
    }
   ],
   "source": [
    "top_20_eng_words"
   ]
  },
  {
   "cell_type": "code",
   "execution_count": 7,
   "metadata": {},
   "outputs": [
    {
     "data": {
      "text/plain": [
       "[('톰은', 491),\n",
       " ('있어', 291),\n",
       " ('난', 235),\n",
       " ('톰이', 219),\n",
       " ('나는', 168),\n",
       " ('그', 114),\n",
       " ('내가', 112),\n",
       " ('수', 100),\n",
       " ('내', 97),\n",
       " ('이', 79),\n",
       " ('것', 74),\n",
       " ('네가', 70),\n",
       " ('같아', 62),\n",
       " ('않아', 60),\n",
       " ('너', 58),\n",
       " ('없어', 57),\n",
       " ('거야', 56),\n",
       " ('더', 53)]"
      ]
     },
     "execution_count": 7,
     "metadata": {},
     "output_type": "execute_result"
    }
   ],
   "source": [
    "top_20_kor_words"
   ]
  },
  {
   "cell_type": "code",
   "execution_count": 8,
   "metadata": {},
   "outputs": [],
   "source": [
    "x, y = zip(*top_20_eng_words)"
   ]
  },
  {
   "cell_type": "code",
   "execution_count": 9,
   "metadata": {},
   "outputs": [
    {
     "data": {
      "text/plain": [
       "<BarContainer object of 18 artists>"
      ]
     },
     "execution_count": 9,
     "metadata": {},
     "output_type": "execute_result"
    },
    {
     "data": {
      "image/png": "[encoded data removed]",
      "text/plain": [
       "<Figure size 720x432 with 1 Axes>"
      ]
     },
     "metadata": {},
     "output_type": "display_data"
    }
   ],
   "source": [
    "fig,ax = plt.subplots(figsize=(10,6))\n",
    "ax.bar(x,y)\n",
    "# plt.savefig('eng_words.png')"
   ]
  },
  {
   "cell_type": "code",
   "execution_count": 10,
   "metadata": {},
   "outputs": [],
   "source": [
    "X_train, X_test, y_train, y_test = train_test_split(input_tensor,target_tensor, test_size=.15)"
   ]
  },
  {
   "cell_type": "code",
   "execution_count": 11,
   "metadata": {},
   "outputs": [],
   "source": [
    "y_train_test = encode_output(y_train, kor_test_vocab_size)\n",
    "y_test_test = encode_output(y_test, kor_test_vocab_size)"
   ]
  },
  {
   "cell_type": "code",
   "execution_count": 12,
   "metadata": {},
   "outputs": [
    {
     "name": "stdout",
     "output_type": "stream",
     "text": [
      "Model: \"sequential\"\n",
      "_________________________________________________________________\n",
      "Layer (type)                 Output Shape              Param #   \n",
      "=================================================================\n",
      "embedding (Embedding)        (None, 16, 50)            114650    \n",
      "_________________________________________________________________\n",
      "lstm (LSTM)                  (None, 50)                20200     \n",
      "_________________________________________________________________\n",
      "repeat_vector (RepeatVector) (None, 15, 50)            0         \n",
      "_________________________________________________________________\n",
      "lstm_1 (LSTM)                (None, 15, 50)            20200     \n",
      "_________________________________________________________________\n",
      "time_distributed (TimeDistri (None, 15, 4934)          251634    \n",
      "=================================================================\n",
      "Total params: 406,684\n",
      "Trainable params: 406,684\n",
      "Non-trainable params: 0\n",
      "_________________________________________________________________\n",
      "None\n"
     ]
    },
    {
     "data": {
      "image/png": "[encoded data removed]",
      "text/plain": [
       "<IPython.core.display.Image object>"
      ]
     },
     "execution_count": 12,
     "metadata": {},
     "output_type": "execute_result"
    }
   ],
   "source": [
    "# define model\n",
    "model = define_model(eng_test_vocab_size, kor_test_vocab_size, eng_test_max_length, kor_test_max_length, 50)\n",
    "model.compile(optimizer='adam', loss='categorical_crossentropy',metrics=['acc'])\n",
    "# summarize defined model\n",
    "print(model.summary())\n",
    "plot_model(model, to_file='model.png', show_shapes=True)"
   ]
  },
  {
   "cell_type": "code",
   "execution_count": 13,
   "metadata": {},
   "outputs": [],
   "source": [
    "log_dir=\"logs/fit/\"\n",
    "tensorboard_callback = TensorBoard(log_dir=log_dir, histogram_freq=1, profile_batch=1000000)"
   ]
  },
  {
   "cell_type": "code",
   "execution_count": 14,
   "metadata": {},
   "outputs": [],
   "source": [
    "filename = 'model_test.h5'\n",
    "checkpoint = ModelCheckpoint(filename, monitor='val_acc', verbose=1, save_best_only=True)\n"
   ]
  },
  {
   "cell_type": "code",
   "execution_count": 15,
   "metadata": {
    "scrolled": true
   },
   "outputs": [
    {
     "name": "stdout",
     "output_type": "stream",
     "text": [
      "Train on 2793 samples, validate on 493 samples\n",
      "Epoch 1/50\n",
      "\n",
      "Epoch 00001: val_acc improved from -inf to 0.59026, saving model to model_test.h5\n",
      "2793/2793 - 18s - loss: 5.3145 - acc: 0.5850 - val_loss: 3.2349 - val_acc: 0.5903\n",
      "Epoch 2/50\n",
      "\n",
      "Epoch 00002: val_acc improved from 0.59026 to 0.65693, saving model to model_test.h5\n",
      "2793/2793 - 3s - loss: 2.9343 - acc: 0.6041 - val_loss: 2.9032 - val_acc: 0.6569\n",
      "Epoch 3/50\n",
      "\n",
      "Epoch 00003: val_acc did not improve from 0.65693\n",
      "2793/2793 - 3s - loss: 2.6803 - acc: 0.6597 - val_loss: 2.7810 - val_acc: 0.6569\n",
      "Epoch 4/50\n",
      "\n",
      "Epoch 00004: val_acc did not improve from 0.65693\n",
      "2793/2793 - 3s - loss: 2.5379 - acc: 0.6597 - val_loss: 2.6779 - val_acc: 0.6569\n",
      "Epoch 5/50\n",
      "\n",
      "Epoch 00005: val_acc improved from 0.65693 to 0.66410, saving model to model_test.h5\n",
      "2793/2793 - 3s - loss: 2.4234 - acc: 0.6609 - val_loss: 2.6184 - val_acc: 0.6641\n",
      "Epoch 6/50\n",
      "\n",
      "Epoch 00006: val_acc did not improve from 0.66410\n",
      "2793/2793 - 3s - loss: 2.3428 - acc: 0.6666 - val_loss: 2.6014 - val_acc: 0.6626\n",
      "Epoch 7/50\n",
      "\n",
      "Epoch 00007: val_acc improved from 0.66410 to 0.67370, saving model to model_test.h5\n",
      "2793/2793 - 3s - loss: 2.2908 - acc: 0.6732 - val_loss: 2.5715 - val_acc: 0.6737\n",
      "Epoch 8/50\n",
      "\n",
      "Epoch 00008: val_acc improved from 0.67370 to 0.67789, saving model to model_test.h5\n",
      "2793/2793 - 3s - loss: 2.2532 - acc: 0.6796 - val_loss: 2.5675 - val_acc: 0.6779\n",
      "Epoch 9/50\n",
      "\n",
      "Epoch 00009: val_acc improved from 0.67789 to 0.67816, saving model to model_test.h5\n",
      "2793/2793 - 3s - loss: 2.2196 - acc: 0.6854 - val_loss: 2.5702 - val_acc: 0.6782\n",
      "Epoch 10/50\n",
      "\n",
      "Epoch 00010: val_acc improved from 0.67816 to 0.68654, saving model to model_test.h5\n",
      "2793/2793 - 3s - loss: 2.1923 - acc: 0.6918 - val_loss: 2.5661 - val_acc: 0.6865\n",
      "Epoch 11/50\n",
      "\n",
      "Epoch 00011: val_acc did not improve from 0.68654\n",
      "2793/2793 - 3s - loss: 2.1715 - acc: 0.6990 - val_loss: 2.5825 - val_acc: 0.6710\n",
      "Epoch 12/50\n",
      "\n",
      "Epoch 00012: val_acc did not improve from 0.68654\n",
      "2793/2793 - 3s - loss: 2.1514 - acc: 0.7038 - val_loss: 2.5697 - val_acc: 0.6822\n",
      "Epoch 13/50\n",
      "\n",
      "Epoch 00013: val_acc did not improve from 0.68654\n",
      "2793/2793 - 3s - loss: 2.1342 - acc: 0.7048 - val_loss: 2.5789 - val_acc: 0.6756\n",
      "Epoch 14/50\n",
      "\n",
      "Epoch 00014: val_acc did not improve from 0.68654\n",
      "2793/2793 - 3s - loss: 2.1201 - acc: 0.7064 - val_loss: 2.5823 - val_acc: 0.6852\n",
      "Epoch 15/50\n",
      "\n",
      "Epoch 00015: val_acc improved from 0.68654 to 0.68952, saving model to model_test.h5\n",
      "2793/2793 - 3s - loss: 2.0983 - acc: 0.7089 - val_loss: 2.5966 - val_acc: 0.6895\n",
      "Epoch 16/50\n",
      "\n",
      "Epoch 00016: val_acc did not improve from 0.68952\n",
      "2793/2793 - 3s - loss: 2.0833 - acc: 0.7095 - val_loss: 2.5939 - val_acc: 0.6832\n",
      "Epoch 17/50\n",
      "\n",
      "Epoch 00017: val_acc did not improve from 0.68952\n",
      "2793/2793 - 3s - loss: 2.0723 - acc: 0.7097 - val_loss: 2.5957 - val_acc: 0.6863\n",
      "Epoch 18/50\n",
      "\n",
      "Epoch 00018: val_acc improved from 0.68952 to 0.68979, saving model to model_test.h5\n",
      "2793/2793 - 3s - loss: 2.0608 - acc: 0.7116 - val_loss: 2.6053 - val_acc: 0.6898\n",
      "Epoch 19/50\n",
      "\n",
      "Epoch 00019: val_acc did not improve from 0.68979\n",
      "2793/2793 - 3s - loss: 2.0491 - acc: 0.7109 - val_loss: 2.6064 - val_acc: 0.6849\n",
      "Epoch 20/50\n",
      "\n",
      "Epoch 00020: val_acc did not improve from 0.68979\n",
      "2793/2793 - 3s - loss: 2.0347 - acc: 0.7134 - val_loss: 2.6148 - val_acc: 0.6836\n",
      "Epoch 21/50\n",
      "\n",
      "Epoch 00021: val_acc did not improve from 0.68979\n",
      "2793/2793 - 3s - loss: 2.0172 - acc: 0.7151 - val_loss: 2.6331 - val_acc: 0.6865\n",
      "Epoch 22/50\n",
      "\n",
      "Epoch 00022: val_acc did not improve from 0.68979\n",
      "2793/2793 - 3s - loss: 2.0181 - acc: 0.7124 - val_loss: 2.6257 - val_acc: 0.6857\n",
      "Epoch 23/50\n",
      "\n",
      "Epoch 00023: val_acc did not improve from 0.68979\n",
      "2793/2793 - 3s - loss: 1.9997 - acc: 0.7152 - val_loss: 2.6377 - val_acc: 0.6786\n",
      "Epoch 24/50\n",
      "\n",
      "Epoch 00024: val_acc did not improve from 0.68979\n",
      "2793/2793 - 3s - loss: 1.9958 - acc: 0.7137 - val_loss: 2.6500 - val_acc: 0.6824\n",
      "Epoch 25/50\n",
      "\n",
      "Epoch 00025: val_acc did not improve from 0.68979\n",
      "2793/2793 - 3s - loss: 1.9808 - acc: 0.7162 - val_loss: 2.6578 - val_acc: 0.6864\n",
      "Epoch 26/50\n",
      "\n",
      "Epoch 00026: val_acc did not improve from 0.68979\n",
      "2793/2793 - 3s - loss: 1.9706 - acc: 0.7164 - val_loss: 2.6557 - val_acc: 0.6802\n",
      "Epoch 27/50\n",
      "\n",
      "Epoch 00027: val_acc did not improve from 0.68979\n",
      "2793/2793 - 3s - loss: 1.9639 - acc: 0.7163 - val_loss: 2.6618 - val_acc: 0.6821\n",
      "Epoch 28/50\n",
      "\n",
      "Epoch 00028: val_acc did not improve from 0.68979\n",
      "2793/2793 - 3s - loss: 1.9552 - acc: 0.7163 - val_loss: 2.6750 - val_acc: 0.6817\n",
      "Epoch 29/50\n",
      "\n",
      "Epoch 00029: val_acc did not improve from 0.68979\n",
      "2793/2793 - 3s - loss: 1.9458 - acc: 0.7172 - val_loss: 2.6672 - val_acc: 0.6822\n",
      "Epoch 30/50\n",
      "\n",
      "Epoch 00030: val_acc did not improve from 0.68979\n",
      "2793/2793 - 3s - loss: 1.9332 - acc: 0.7188 - val_loss: 2.6779 - val_acc: 0.6784\n",
      "Epoch 31/50\n",
      "\n",
      "Epoch 00031: val_acc did not improve from 0.68979\n",
      "2793/2793 - 3s - loss: 1.9324 - acc: 0.7171 - val_loss: 2.6900 - val_acc: 0.6772\n",
      "Epoch 32/50\n",
      "\n",
      "Epoch 00032: val_acc did not improve from 0.68979\n",
      "2793/2793 - 3s - loss: 1.9193 - acc: 0.7196 - val_loss: 2.6987 - val_acc: 0.6821\n",
      "Epoch 33/50\n",
      "\n",
      "Epoch 00033: val_acc did not improve from 0.68979\n",
      "2793/2793 - 3s - loss: 1.9136 - acc: 0.7183 - val_loss: 2.7044 - val_acc: 0.6776\n",
      "Epoch 34/50\n",
      "\n",
      "Epoch 00034: val_acc did not improve from 0.68979\n",
      "2793/2793 - 3s - loss: 1.9011 - acc: 0.7214 - val_loss: 2.7090 - val_acc: 0.6811\n",
      "Epoch 35/50\n",
      "\n",
      "Epoch 00035: val_acc did not improve from 0.68979\n",
      "2793/2793 - 3s - loss: 1.8972 - acc: 0.7198 - val_loss: 2.7052 - val_acc: 0.6847\n",
      "Epoch 36/50\n",
      "\n",
      "Epoch 00036: val_acc did not improve from 0.68979\n",
      "2793/2793 - 3s - loss: 1.8890 - acc: 0.7206 - val_loss: 2.7220 - val_acc: 0.6749\n",
      "Epoch 37/50\n",
      "\n",
      "Epoch 00037: val_acc did not improve from 0.68979\n",
      "2793/2793 - 3s - loss: 1.8828 - acc: 0.7195 - val_loss: 2.7189 - val_acc: 0.6883\n",
      "Epoch 38/50\n",
      "\n",
      "Epoch 00038: val_acc did not improve from 0.68979\n",
      "2793/2793 - 3s - loss: 1.8667 - acc: 0.7218 - val_loss: 2.7258 - val_acc: 0.6845\n",
      "Epoch 39/50\n",
      "\n",
      "Epoch 00039: val_acc did not improve from 0.68979\n",
      "2793/2793 - 3s - loss: 1.8555 - acc: 0.7216 - val_loss: 2.7363 - val_acc: 0.6868\n",
      "Epoch 40/50\n",
      "\n",
      "Epoch 00040: val_acc did not improve from 0.68979\n",
      "2793/2793 - 3s - loss: 1.8475 - acc: 0.7229 - val_loss: 2.7230 - val_acc: 0.6856\n",
      "Epoch 41/50\n",
      "\n",
      "Epoch 00041: val_acc did not improve from 0.68979\n",
      "2793/2793 - 3s - loss: 1.8391 - acc: 0.7229 - val_loss: 2.7301 - val_acc: 0.6821\n",
      "Epoch 42/50\n",
      "\n",
      "Epoch 00042: val_acc did not improve from 0.68979\n",
      "2793/2793 - 3s - loss: 1.8268 - acc: 0.7255 - val_loss: 2.7310 - val_acc: 0.6853\n",
      "Epoch 43/50\n",
      "\n",
      "Epoch 00043: val_acc did not improve from 0.68979\n",
      "2793/2793 - 3s - loss: 1.8162 - acc: 0.7250 - val_loss: 2.7662 - val_acc: 0.6895\n",
      "Epoch 44/50\n",
      "\n",
      "Epoch 00044: val_acc did not improve from 0.68979\n",
      "2793/2793 - 3s - loss: 1.8150 - acc: 0.7243 - val_loss: 2.7393 - val_acc: 0.6818\n",
      "Epoch 45/50\n",
      "\n",
      "Epoch 00045: val_acc did not improve from 0.68979\n",
      "2793/2793 - 3s - loss: 1.8086 - acc: 0.7230 - val_loss: 2.7438 - val_acc: 0.6801\n",
      "Epoch 46/50\n",
      "\n",
      "Epoch 00046: val_acc did not improve from 0.68979\n",
      "2793/2793 - 3s - loss: 1.7921 - acc: 0.7261 - val_loss: 2.7448 - val_acc: 0.6851\n",
      "Epoch 47/50\n",
      "\n",
      "Epoch 00047: val_acc did not improve from 0.68979\n",
      "2793/2793 - 3s - loss: 1.7826 - acc: 0.7267 - val_loss: 2.7465 - val_acc: 0.6845\n",
      "Epoch 48/50\n",
      "\n",
      "Epoch 00048: val_acc did not improve from 0.68979\n",
      "2793/2793 - 3s - loss: 1.7726 - acc: 0.7276 - val_loss: 2.7660 - val_acc: 0.6799\n",
      "Epoch 49/50\n",
      "\n",
      "Epoch 00049: val_acc did not improve from 0.68979\n",
      "2793/2793 - 4s - loss: 1.7639 - acc: 0.7273 - val_loss: 2.7713 - val_acc: 0.6776\n",
      "Epoch 50/50\n",
      "\n",
      "Epoch 00050: val_acc did not improve from 0.68979\n",
      "2793/2793 - 4s - loss: 1.7516 - acc: 0.7288 - val_loss: 2.7489 - val_acc: 0.6849\n"
     ]
    }
   ],
   "source": [
    "history = model.fit(X_train, y_train_test, epochs=50, batch_size=20, validation_data=(X_test, y_test_test), callbacks=[checkpoint,tensorboard_callback], verbose=2)"
   ]
  },
  {
   "cell_type": "code",
   "execution_count": 24,
   "metadata": {},
   "outputs": [],
   "source": [
    "model.save('model.h5')"
   ]
  },
  {
   "cell_type": "code",
   "execution_count": 16,
   "metadata": {},
   "outputs": [
    {
     "data": {
      "text/plain": [
       "dict_keys(['loss', 'acc', 'val_loss', 'val_acc'])"
      ]
     },
     "execution_count": 16,
     "metadata": {},
     "output_type": "execute_result"
    }
   ],
   "source": [
    "history.history.keys()"
   ]
  },
  {
   "cell_type": "code",
   "execution_count": 17,
   "metadata": {},
   "outputs": [
    {
     "data": {
      "text/plain": [
       "<matplotlib.legend.Legend at 0x25479a2a248>"
      ]
     },
     "execution_count": 17,
     "metadata": {},
     "output_type": "execute_result"
    },
    {
     "data": {
      "image/png": "[encoded data removed]",
      "text/plain": [
       "<Figure size 720x432 with 1 Axes>"
      ]
     },
     "metadata": {},
     "output_type": "display_data"
    }
   ],
   "source": [
    "fig,ax = plt.subplots(figsize=(10,6))\n",
    "\n",
    "ax.plot(history.history['acc'])\n",
    "ax.plot(history.history['val_acc'])\n",
    "ax.set_title('model accuracy')\n",
    "ax.set_ylabel('accuracy')\n",
    "ax.set_xlabel('epoch')\n",
    "plt.legend(['train', 'test'], loc='upper left')\n",
    "#plt.savefig('acc_plot.png')"
   ]
  },
  {
   "cell_type": "code",
   "execution_count": 18,
   "metadata": {},
   "outputs": [
    {
     "data": {
      "image/png": "[encoded data removed]",
      "text/plain": [
       "<Figure size 720x432 with 1 Axes>"
      ]
     },
     "metadata": {},
     "output_type": "display_data"
    }
   ],
   "source": [
    "fig,ax = plt.subplots(figsize=(10,6))\n",
    "\n",
    "ax.plot(history.history['loss'])\n",
    "ax.plot(history.history['val_loss'])\n",
    "ax.set_title('Model loss')\n",
    "ax.set_ylabel('Loss')\n",
    "ax.set_xlabel('Epoch')\n",
    "plt.legend(['train', 'test'], loc='upper left')\n",
    "plt.show()\n",
    "#plt.savefig('acc_plot.png')"
   ]
  },
  {
   "cell_type": "code",
   "execution_count": 19,
   "metadata": {},
   "outputs": [
    {
     "data": {
      "text/plain": [
       "'<start> where am i supposed to sleep'"
      ]
     },
     "execution_count": 19,
     "metadata": {},
     "output_type": "execute_result"
    }
   ],
   "source": [
    "decode_input(input_tensor,2000,input_lang_tokenizer)"
   ]
  },
  {
   "cell_type": "code",
   "execution_count": 22,
   "metadata": {},
   "outputs": [
    {
     "data": {
      "text/plain": [
       "array([   1,   76,   17,    3, 1062,    6,  215,    2,    0,    0,    0,\n",
       "          0,    0,    0,    0,    0])"
      ]
     },
     "execution_count": 22,
     "metadata": {},
     "output_type": "execute_result"
    }
   ],
   "source": [
    "sentence1 = \"where am i supposed to sleep\"\n",
    "\n",
    "test_sentence = encode_sentence(sentence1, input_lang_tokenizer,eng_test_max_length)\n",
    "\n",
    "test_sentence"
   ]
  },
  {
   "cell_type": "code",
   "execution_count": 23,
   "metadata": {},
   "outputs": [
    {
     "data": {
      "text/plain": [
       "'<start> 난 내가 수 있어'"
      ]
     },
     "execution_count": 23,
     "metadata": {},
     "output_type": "execute_result"
    }
   ],
   "source": [
    "predict_sequence(model,target_lang_tokenizer,test_sentence)"
   ]
  },
  {
   "cell_type": "code",
   "execution_count": null,
   "metadata": {},
   "outputs": [],
   "source": []
  }
 ],
 "metadata": {
  "kernelspec": {
   "display_name": "TensorFlow-GPU",
   "language": "python",
   "name": "tf-gpu"
  },
  "language_info": {
   "codemirror_mode": {
    "name": "ipython",
    "version": 3
   },
   "file_extension": ".py",
   "mimetype": "text/x-python",
   "name": "python",
   "nbconvert_exporter": "python",
   "pygments_lexer": "ipython3",
   "version": "3.7.6"
  }
 },
 "nbformat": 4,
 "nbformat_minor": 4
}
