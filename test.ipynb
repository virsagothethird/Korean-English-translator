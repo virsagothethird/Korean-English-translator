{
 "cells": [
  {
   "cell_type": "code",
   "execution_count": 1,
   "metadata": {},
   "outputs": [],
   "source": [
    "import pandas as pd\n",
    "from langdetect import detect"
   ]
  },
  {
   "cell_type": "code",
   "execution_count": 2,
   "metadata": {},
   "outputs": [],
   "source": [
    "df = pd.read_csv('data/lyrics_save500.txt', sep='\\t')"
   ]
  },
  {
   "cell_type": "code",
   "execution_count": 3,
   "metadata": {},
   "outputs": [
    {
     "name": "stdout",
     "output_type": "stream",
     "text": [
      "<class 'pandas.core.frame.DataFrame'>\n",
      "RangeIndex: 49589 entries, 0 to 49588\n",
      "Data columns (total 3 columns):\n",
      " #   Column      Non-Null Count  Dtype \n",
      "---  ------      --------------  ----- \n",
      " 0   Unnamed: 0  49589 non-null  int64 \n",
      " 1   eng         49589 non-null  object\n",
      " 2   kor         49589 non-null  object\n",
      "dtypes: int64(1), object(2)\n",
      "memory usage: 1.1+ MB\n"
     ]
    }
   ],
   "source": [
    "df.info()"
   ]
  },
  {
   "cell_type": "code",
   "execution_count": 4,
   "metadata": {},
   "outputs": [],
   "source": [
    "# rows to drop = 19565, 28696, 31890\n",
    "# up to 49589 good"
   ]
  },
  {
   "cell_type": "code",
   "execution_count": 5,
   "metadata": {},
   "outputs": [],
   "source": [
    "df = df.drop([19565, 28696, 31890])"
   ]
  },
  {
   "cell_type": "code",
   "execution_count": 6,
   "metadata": {},
   "outputs": [
    {
     "name": "stdout",
     "output_type": "stream",
     "text": [
      "<class 'pandas.core.frame.DataFrame'>\n",
      "Int64Index: 49586 entries, 0 to 49588\n",
      "Data columns (total 3 columns):\n",
      " #   Column      Non-Null Count  Dtype \n",
      "---  ------      --------------  ----- \n",
      " 0   Unnamed: 0  49586 non-null  int64 \n",
      " 1   eng         49586 non-null  object\n",
      " 2   kor         49586 non-null  object\n",
      "dtypes: int64(1), object(2)\n",
      "memory usage: 1.5+ MB\n"
     ]
    }
   ],
   "source": [
    "df.info()"
   ]
  },
  {
   "cell_type": "code",
   "execution_count": 7,
   "metadata": {},
   "outputs": [],
   "source": [
    "df['lang'] = df['kor'].apply(detect)"
   ]
  },
  {
   "cell_type": "code",
   "execution_count": 8,
   "metadata": {},
   "outputs": [],
   "source": [
    "df_final = df[df['lang']=='ko']"
   ]
  },
  {
   "cell_type": "code",
   "execution_count": 9,
   "metadata": {},
   "outputs": [],
   "source": [
    "df_final = df_final.drop(columns=['Unnamed: 0','lang'])"
   ]
  },
  {
   "cell_type": "code",
   "execution_count": 10,
   "metadata": {},
   "outputs": [
    {
     "data": {
      "text/html": [
       "<div>\n",
       "<style scoped>\n",
       "    .dataframe tbody tr th:only-of-type {\n",
       "        vertical-align: middle;\n",
       "    }\n",
       "\n",
       "    .dataframe tbody tr th {\n",
       "        vertical-align: top;\n",
       "    }\n",
       "\n",
       "    .dataframe thead th {\n",
       "        text-align: right;\n",
       "    }\n",
       "</style>\n",
       "<table border=\"1\" class=\"dataframe\">\n",
       "  <thead>\n",
       "    <tr style=\"text-align: right;\">\n",
       "      <th></th>\n",
       "      <th>eng</th>\n",
       "      <th>kor</th>\n",
       "    </tr>\n",
       "  </thead>\n",
       "  <tbody>\n",
       "    <tr>\n",
       "      <th>0</th>\n",
       "      <td>Time runs</td>\n",
       "      <td>시간은 달려가</td>\n",
       "    </tr>\n",
       "    <tr>\n",
       "      <th>2</th>\n",
       "      <td>I’m carrying them on my neck</td>\n",
       "      <td>잠시 내 목마를 태워</td>\n",
       "    </tr>\n",
       "    <tr>\n",
       "      <th>3</th>\n",
       "      <td>Throwing my memories outside</td>\n",
       "      <td>나의 추억들을 밖으로 던진다</td>\n",
       "    </tr>\n",
       "    <tr>\n",
       "      <th>4</th>\n",
       "      <td>This is like a drama without a script</td>\n",
       "      <td>이건 마치 각본 없는 drama</td>\n",
       "    </tr>\n",
       "    <tr>\n",
       "      <th>5</th>\n",
       "      <td>It’s an ending you’ve never thought of</td>\n",
       "      <td>생각 못 한 결말 나와</td>\n",
       "    </tr>\n",
       "    <tr>\n",
       "      <th>...</th>\n",
       "      <td>...</td>\n",
       "      <td>...</td>\n",
       "    </tr>\n",
       "    <tr>\n",
       "      <th>49584</th>\n",
       "      <td>Today, I’m shining brightly</td>\n",
       "      <td>모르지만 오늘도 난 밝게 빛나지</td>\n",
       "    </tr>\n",
       "    <tr>\n",
       "      <th>49585</th>\n",
       "      <td>Wherever they are, I’ll be the brightest</td>\n",
       "      <td>어디서 보아도 내가 제일 눈부시게</td>\n",
       "    </tr>\n",
       "    <tr>\n",
       "      <th>49586</th>\n",
       "      <td>Even though time passes, I won’t wither away</td>\n",
       "      <td>시간이 지나도 사그라들지 않게</td>\n",
       "    </tr>\n",
       "    <tr>\n",
       "      <th>49587</th>\n",
       "      <td>Even if I run out of breath, I won’t stop and ...</td>\n",
       "      <td>숨이 차 올라도 멈추지 말고 더 크게 외쳐 oh</td>\n",
       "    </tr>\n",
       "    <tr>\n",
       "      <th>49588</th>\n",
       "      <td>Will be seen, will become clear</td>\n",
       "      <td>눈에 보이잖아 또렷해지잖아</td>\n",
       "    </tr>\n",
       "  </tbody>\n",
       "</table>\n",
       "<p>42483 rows × 2 columns</p>\n",
       "</div>"
      ],
      "text/plain": [
       "                                                     eng  \\\n",
       "0                                              Time runs   \n",
       "2                           I’m carrying them on my neck   \n",
       "3                           Throwing my memories outside   \n",
       "4                  This is like a drama without a script   \n",
       "5                 It’s an ending you’ve never thought of   \n",
       "...                                                  ...   \n",
       "49584                        Today, I’m shining brightly   \n",
       "49585           Wherever they are, I’ll be the brightest   \n",
       "49586       Even though time passes, I won’t wither away   \n",
       "49587  Even if I run out of breath, I won’t stop and ...   \n",
       "49588                    Will be seen, will become clear   \n",
       "\n",
       "                              kor  \n",
       "0                         시간은 달려가  \n",
       "2                     잠시 내 목마를 태워  \n",
       "3                 나의 추억들을 밖으로 던진다  \n",
       "4               이건 마치 각본 없는 drama  \n",
       "5                    생각 못 한 결말 나와  \n",
       "...                           ...  \n",
       "49584           모르지만 오늘도 난 밝게 빛나지  \n",
       "49585          어디서 보아도 내가 제일 눈부시게  \n",
       "49586            시간이 지나도 사그라들지 않게  \n",
       "49587  숨이 차 올라도 멈추지 말고 더 크게 외쳐 oh  \n",
       "49588              눈에 보이잖아 또렷해지잖아  \n",
       "\n",
       "[42483 rows x 2 columns]"
      ]
     },
     "execution_count": 10,
     "metadata": {},
     "output_type": "execute_result"
    }
   ],
   "source": [
    "df_final"
   ]
  },
  {
   "cell_type": "code",
   "execution_count": 15,
   "metadata": {},
   "outputs": [],
   "source": [
    "df_test = pd.read_csv('data/kor.txt', sep='\\t', names=['eng','kor','drop_me'])"
   ]
  },
  {
   "cell_type": "code",
   "execution_count": 17,
   "metadata": {},
   "outputs": [],
   "source": [
    "df_test = df_test.drop(columns='drop_me')"
   ]
  },
  {
   "cell_type": "code",
   "execution_count": 19,
   "metadata": {},
   "outputs": [
    {
     "name": "stdout",
     "output_type": "stream",
     "text": [
      "<class 'pandas.core.frame.DataFrame'>\n",
      "RangeIndex: 3318 entries, 0 to 3317\n",
      "Data columns (total 2 columns):\n",
      " #   Column  Non-Null Count  Dtype \n",
      "---  ------  --------------  ----- \n",
      " 0   eng     3318 non-null   object\n",
      " 1   kor     3318 non-null   object\n",
      "dtypes: object(2)\n",
      "memory usage: 52.0+ KB\n"
     ]
    }
   ],
   "source": [
    "df_test.info()"
   ]
  },
  {
   "cell_type": "code",
   "execution_count": null,
   "metadata": {},
   "outputs": [],
   "source": []
  }
 ],
 "metadata": {
  "kernelspec": {
   "display_name": "Python 3",
   "language": "python",
   "name": "python3"
  },
  "language_info": {
   "codemirror_mode": {
    "name": "ipython",
    "version": 3
   },
   "file_extension": ".py",
   "mimetype": "text/x-python",
   "name": "python",
   "nbconvert_exporter": "python",
   "pygments_lexer": "ipython3",
   "version": "3.7.6"
  }
 },
 "nbformat": 4,
 "nbformat_minor": 4
}
