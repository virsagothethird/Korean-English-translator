{
 "cells": [
  {
   "cell_type": "code",
   "execution_count": 1,
   "metadata": {},
   "outputs": [],
   "source": [
    "import pandas as pd\n",
    "import requests\n",
    "from bs4 import BeautifulSoup\n",
    "import numpy as np\n",
    "import time\n",
    "import random"
   ]
  },
  {
   "cell_type": "code",
   "execution_count": 57,
   "metadata": {},
   "outputs": [],
   "source": [
    "url = 'https://colorcodedlyrics.com/2020/01/zico-jiko-any-song-amunolae'\n",
    "\n",
    "url2 = 'https://colorcodedlyrics.com/2020/02/bts-bangtansonyeondan-my-time-sicha'\n",
    "\n",
    "url3 = 'https://colorcodedlyrics.com/2020/02/bts-bangtansonyeondan-filter'\n",
    "\n",
    "url4 = 'https://colorcodedlyrics.com/2020/02/bts-bangtansonyeondan-on'\n",
    "\n",
    "url5 = 'https://colorcodedlyrics.com/2020/02/kard-inferno'"
   ]
  },
  {
   "cell_type": "code",
   "execution_count": 5,
   "metadata": {},
   "outputs": [],
   "source": [
    "r = requests.get(url)\n",
    "\n",
    "r2 = requests.get(url2)\n",
    "\n",
    "r3 = requests.get(url3)\n",
    "\n",
    "r4 = requests.get(url4)\n",
    "\n",
    "r5 = requests.get(url5)"
   ]
  },
  {
   "cell_type": "code",
   "execution_count": 222,
   "metadata": {},
   "outputs": [],
   "source": [
    "soup = BeautifulSoup(r.text, 'html.parser')\n",
    "\n",
    "soup2 = BeautifulSoup(r2.text, 'html.parser')\n",
    "\n",
    "soup3 = BeautifulSoup(r3.text, 'html.parser')\n",
    "\n",
    "soup4 = BeautifulSoup(r4.text, 'html.parser')\n",
    "\n",
    "soup5 = BeautifulSoup(r5.text, 'html.parser')"
   ]
  },
  {
   "cell_type": "code",
   "execution_count": 226,
   "metadata": {},
   "outputs": [],
   "source": [
    "hmm = soup.find_all(['td','p'])"
   ]
  },
  {
   "cell_type": "code",
   "execution_count": 227,
   "metadata": {},
   "outputs": [
    {
     "data": {
      "text/plain": [
       "[<td>\n",
       " <h2 style=\"text-align: center\">아무노래</h2>\n",
       " <p style=\"text-align: center\"><em>amunorae</em><br/>\n",
       " “Any song”<br/>\n",
       " <span style=\"text-decoration: underline\">[Single] Any song</span><br/>\n",
       " 2020.01.13</p>\n",
       " </td>, <p style=\"text-align: center\"><em>amunorae</em><br/>\n",
       " “Any song”<br/>\n",
       " <span style=\"text-decoration: underline\">[Single] Any song</span><br/>\n",
       " 2020.01.13</p>, <td style=\"text-align: right\"><img alt=\"\" class=\"alignright\" data-recalc-dims=\"1\" height=\"200\" src=\"https://i1.wp.com/colorcodedlyrics.com/wp-content/uploads/2020/01/Zico-Any-song.jpg?resize=200%2C200&amp;ssl=1\" title=\"Zico - Any song\" width=\"200\"/></td>, <td style=\"text-align: center\"><span style=\"color: #b91d90\">Zico</span></td>, <td style=\"text-align: right\"><strong>Lyrics/작사</strong>: <span style=\"color: #b91d90\">지코 (ZICO)</span><br/>\n",
       " <strong>Composer/작곡</strong>: <span style=\"color: #b91d90\">지코 (ZICO)</span>, Poptime<br/>\n",
       " <strong>Arranger/편곡</strong>: <span style=\"color: #b91d90\">지코 (ZICO)</span>, Poptime</td>, <p style=\"text-align: center\">\n",
       " <div class=\"jetpack-video-wrapper\"><span class=\"embed-youtube\" style=\"text-align:center; display: block;\"><iframe allowfullscreen=\"true\" class=\"youtube-player\" height=\"360\" src=\"https://www.youtube.com/embed/UdyjeUwPz_E?version=3&amp;rel=1&amp;fs=1&amp;autohide=2&amp;showsearch=0&amp;showinfo=1&amp;iv_load_policy=1&amp;wmode=transparent\" style=\"border:0;\" type=\"text/html\" width=\"640\"></iframe></span></div>\n",
       " </p>, <p><span style=\"color: #ff00ff\"><span id=\"more-138885\"></span></span></p>, <td><span style=\"color: #b91d90\">waedeul geuri daundwaeisseo?</span><br/>\n",
       " <span style=\"color: #b91d90\">mwoga munjeya say something</span><br/>\n",
       " <span style=\"color: #b91d90\">bunwigiga geobna ssahae</span><br/>\n",
       " <span style=\"color: #b91d90\">yosaeneun ireon ge yuhaenginga</span><br/>\n",
       " <span style=\"color: #b91d90\">waedeul geuri jaemieopseo?</span><br/>\n",
       " <span style=\"color: #b91d90\">a geugeon nado machangaji</span><br/>\n",
       " <span style=\"color: #b91d90\">Tell me what I got to do</span><br/>\n",
       " <span style=\"color: #b91d90\">geubhan daero beullutuseu kyeo</span></td>, <p><span style=\"color: #b91d90\">amu noraena ildan teureo</span><br/>\n",
       " <span style=\"color: #b91d90\">amugeona shinnaneun geollo</span><br/>\n",
       " <span style=\"color: #b91d90\">amureokena chumchwo</span><br/>\n",
       " <span style=\"color: #b91d90\">amureochi ana boige</span><br/>\n",
       " <span style=\"color: #b91d90\">amu saenggak hagi shireo</span><br/>\n",
       " <span style=\"color: #b91d90\">amugaero sallae jamshi</span><br/>\n",
       " <span style=\"color: #b91d90\">I’m sick and tired of my everyday</span><br/>\n",
       " <span style=\"color: #b91d90\">Keep it up han gok deo</span></p>, <p><span style=\"color: #b91d90\">amu noraena ildan teureo</span><br/>\n",
       " <span style=\"color: #b91d90\">amuryeom eottae It’s so boring</span><br/>\n",
       " <span style=\"color: #b91d90\">amuraedo refreshga</span><br/>\n",
       " <span style=\"color: #b91d90\">shigeubhan deuthae ssahyeoga seuteureseuga</span><br/>\n",
       " <span style=\"color: #b91d90\">baekkob ppajil mankeumman poksohago shipeun nariya</span><br/>\n",
       " <span style=\"color: #b91d90\">What up my dawgs eodiya neohi</span><br/>\n",
       " <span style=\"color: #b91d90\">ol ttae byeongmaekjurang kkakka myeot gae sa wa huh</span></p>, <p><span style=\"color: #b91d90\">keulleobeun gumiga jal an danggyeo</span><br/>\n",
       " <span style=\"color: #b91d90\">uri jib geoshillo ppallang moyeo</span><br/>\n",
       " <span style=\"color: #b91d90\">webuineun yoryeongkkeot chadan shigyeo</span><br/>\n",
       " <span style=\"color: #b91d90\">bamsae suda tteol shigando mojara</span><br/>\n",
       " <span style=\"color: #b91d90\">nugun himdeureo jukgetgo nugun chukje</span><br/>\n",
       " <span style=\"color: #b91d90\">gwaenhi shingsungsaengsung I want my youth back</span><br/>\n",
       " <span style=\"color: #b91d90\">jom jeonkkaji wakjajikkeol</span><br/>\n",
       " <span style=\"color: #b91d90\">hada han myeong du myeongsshik jaril tteo</span></p>, <p><span style=\"color: #b91d90\">waedeul geuri daundwaeisseo?</span><br/>\n",
       " <span style=\"color: #b91d90\">mwoga munjeya say something</span><br/>\n",
       " <span style=\"color: #b91d90\">bunwigiga geobna ssahae</span><br/>\n",
       " <span style=\"color: #b91d90\">yosaeneun ireon ge yuhaenginga</span><br/>\n",
       " <span style=\"color: #b91d90\">waedeul geuri jaemieopseo?</span><br/>\n",
       " <span style=\"color: #b91d90\">a geugeon nado machangaji</span><br/>\n",
       " <span style=\"color: #b91d90\">Tell me what I got to do</span><br/>\n",
       " <span style=\"color: #b91d90\">geubhan daero beullutuseu kyeo</span></p>, <p><span style=\"color: #b91d90\">amu noraena ildan teureo</span><br/>\n",
       " <span style=\"color: #b91d90\">amugeona shinnaneun geollo</span><br/>\n",
       " <span style=\"color: #b91d90\">amureokena chumchwo</span><br/>\n",
       " <span style=\"color: #b91d90\">amureochi ana boige</span><br/>\n",
       " <span style=\"color: #b91d90\">amu saenggak hagi shireo</span><br/>\n",
       " <span style=\"color: #b91d90\">amugaero sallae jamshi</span><br/>\n",
       " <span style=\"color: #b91d90\">I’m sick and tired of my everyday</span><br/>\n",
       " <span style=\"color: #b91d90\">Keep it up han gok deo</span></p>, <p><span style=\"color: #b91d90\">tteonajil mothal baen</span><br/>\n",
       " <span style=\"color: #b91d90\">changbakkeun chyeodado an bwa</span><br/>\n",
       " <span style=\"color: #b91d90\">hwekkadakhaeseo chutaereul buryeodo</span><br/>\n",
       " <span style=\"color: #b91d90\">No worries at all</span><br/>\n",
       " <span style=\"color: #b91d90\">imiji wae chaenggyeo geurae bwatja urikkirinde</span></p>, <p><span style=\"color: #b91d90\">Ohh neutgi jeone makpan seupeoteu</span><br/>\n",
       " <span style=\"color: #b91d90\">ishipdaega eolma an namasseo</span><br/>\n",
       " <span style=\"color: #b91d90\">pyeonhan oseuro garaibeo</span><br/>\n",
       " <span style=\"color: #b91d90\">You look nice</span><br/>\n",
       " <span style=\"color: #b91d90\">Get’em high</span><br/>\n",
       " <span style=\"color: #b91d90\">eolpit bomyeon geunyang komidi</span><br/>\n",
       " <span style=\"color: #b91d90\">ireoke muhaehan pati cheoeumiji?</span><br/>\n",
       " <span style=\"color: #b91d90\">mangami gyochahaneun saebyeok dushigyeong</span><br/>\n",
       " <span style=\"color: #b91d90\">suljangwa gamjeongi soyongdorichyeo</span></p>, <p><span style=\"color: #b91d90\">waedeul geuri daundwaeisseo?</span><br/>\n",
       " <span style=\"color: #b91d90\">mwoga munjeya say something</span><br/>\n",
       " <span style=\"color: #b91d90\">bunwigiga geobna ssahae</span><br/>\n",
       " <span style=\"color: #b91d90\">yosaeneun ireon ge yuhaenginga</span><br/>\n",
       " <span style=\"color: #b91d90\">waedeul geuri jaemieopseo?</span><br/>\n",
       " <span style=\"color: #b91d90\">a geugeon nado machangaji</span><br/>\n",
       " <span style=\"color: #b91d90\">Tell me what I got to do</span><br/>\n",
       " <span style=\"color: #b91d90\">geubhan daero beullutuseu kyeo</span></p>, <p><span style=\"color: #b91d90\">amu noraena ildan teureo</span><br/>\n",
       " <span style=\"color: #b91d90\">amugeona shinnaneun geollo</span><br/>\n",
       " <span style=\"color: #b91d90\">amureokena chumchwo</span><br/>\n",
       " <span style=\"color: #b91d90\">amureochi ana boige</span><br/>\n",
       " <span style=\"color: #b91d90\">amu saenggak hagi shireo</span><br/>\n",
       " <span style=\"color: #b91d90\">amugaero sallae jamshi</span><br/>\n",
       " <span style=\"color: #b91d90\">I’m sick and tired of my everyday</span><br/>\n",
       " <span style=\"color: #b91d90\">Keep it up han gok deo</span><br/>\n",
       " <span style=\"color: #b91d90\">amu noraena ildan</span></p>, <p><span style=\"color: #b91d90\">amu norae amu norae amu noraena teureobwa</span><br/>\n",
       " <span style=\"color: #b91d90\">amu norae amu norae amu noraena teureobwa</span><br/>\n",
       " <span style=\"color: #b91d90\">amu norae amu norae amu noraena teureobwa</span><br/>\n",
       " <span style=\"color: #b91d90\">amu norae amu norae amu noraena KOZ</span></p>, <td><span style=\"color: #b91d90\">왜들 그리 다운돼있어?</span><br/>\n",
       " <span style=\"color: #b91d90\">뭐가 문제야 say something</span><br/>\n",
       " <span style=\"color: #b91d90\">분위기가 겁나 싸해</span><br/>\n",
       " <span style=\"color: #b91d90\">요새는 이런 게 유행인가</span><br/>\n",
       " <span style=\"color: #b91d90\">왜들 그리 재미없어?</span><br/>\n",
       " <span style=\"color: #b91d90\">아 그건 나도 마찬가지</span><br/>\n",
       " <span style=\"color: #b91d90\">Tell me what I got to do</span><br/>\n",
       " <span style=\"color: #b91d90\">급한 대로 블루투스 켜</span></td>, <p><span style=\"color: #b91d90\">아무 노래나 일단 틀어</span><br/>\n",
       " <span style=\"color: #b91d90\">아무거나 신나는 걸로</span><br/>\n",
       " <span style=\"color: #b91d90\">아무렇게나 춤춰</span><br/>\n",
       " <span style=\"color: #b91d90\">아무렇지 않아 보이게</span><br/>\n",
       " <span style=\"color: #b91d90\">아무 생각 하기 싫어</span><br/>\n",
       " <span style=\"color: #b91d90\">아무개로 살래 잠시</span><br/>\n",
       " <span style=\"color: #b91d90\">I’m sick and tired of my everyday</span><br/>\n",
       " <span style=\"color: #b91d90\">Keep it up 한 곡 더</span></p>, <p><span style=\"color: #b91d90\">아무 노래나 일단 틀어</span><br/>\n",
       " <span style=\"color: #b91d90\">아무렴 어때 It’s so boring</span><br/>\n",
       " <span style=\"color: #b91d90\">아무래도 refresh가</span><br/>\n",
       " <span style=\"color: #b91d90\">시급한 듯해 쌓여가 스트레스가</span><br/>\n",
       " <span style=\"color: #b91d90\">배꼽 빠질 만큼만 폭소하고 싶은 날이야</span><br/>\n",
       " <span style=\"color: #b91d90\">What up my dawgs 어디야 너희</span><br/>\n",
       " <span style=\"color: #b91d90\">올 때 병맥주랑 까까 몇 개 사 와 huh</span></p>, <p><span style=\"color: #b91d90\">클럽은 구미가 잘 안 당겨</span><br/>\n",
       " <span style=\"color: #b91d90\">우리 집 거실로 빨랑 모여</span><br/>\n",
       " <span style=\"color: #b91d90\">외부인은 요령껏 차단 시켜</span><br/>\n",
       " <span style=\"color: #b91d90\">밤새 수다 떨 시간도 모자라</span><br/>\n",
       " <span style=\"color: #b91d90\">누군 힘들어 죽겠고 누군 축제</span><br/>\n",
       " <span style=\"color: #b91d90\">괜히 싱숭생숭 I want my youth back</span><br/>\n",
       " <span style=\"color: #b91d90\">좀 전까지 왁자지껄</span><br/>\n",
       " <span style=\"color: #b91d90\">하다 한 명 두 명씩 자릴 떠</span></p>, <p><span style=\"color: #b91d90\">왜들 그리 다운돼있어?</span><br/>\n",
       " <span style=\"color: #b91d90\">뭐가 문제야 say something</span><br/>\n",
       " <span style=\"color: #b91d90\">분위기가 겁나 싸해</span><br/>\n",
       " <span style=\"color: #b91d90\">요새는 이런 게 유행인가</span><br/>\n",
       " <span style=\"color: #b91d90\">왜들 그리 재미없어?</span><br/>\n",
       " <span style=\"color: #b91d90\">아 그건 나도 마찬가지</span><br/>\n",
       " <span style=\"color: #b91d90\">Tell me what I got to do</span><br/>\n",
       " <span style=\"color: #b91d90\">급한 대로 블루투스 켜</span></p>, <p><span style=\"color: #b91d90\">아무 노래나 일단 틀어</span><br/>\n",
       " <span style=\"color: #b91d90\">아무거나 신나는 걸로</span><br/>\n",
       " <span style=\"color: #b91d90\">아무렇게나 춤춰</span><br/>\n",
       " <span style=\"color: #b91d90\">아무렇지 않아 보이게</span><br/>\n",
       " <span style=\"color: #b91d90\">아무 생각 하기 싫어</span><br/>\n",
       " <span style=\"color: #b91d90\">아무개로 살래 잠시</span><br/>\n",
       " <span style=\"color: #b91d90\">I’m sick and tired of my everyday</span><br/>\n",
       " <span style=\"color: #b91d90\">Keep it up 한 곡 더</span></p>, <p><span style=\"color: #b91d90\">떠나질 못할 바엔</span><br/>\n",
       " <span style=\"color: #b91d90\">창밖은 쳐다도 안 봐</span><br/>\n",
       " <span style=\"color: #b91d90\">회까닥해서 추태를 부려도</span><br/>\n",
       " <span style=\"color: #b91d90\">No worries at all</span><br/>\n",
       " <span style=\"color: #b91d90\">이미지 왜 챙겨 그래 봤자 우리끼린데</span></p>, <p><span style=\"color: #b91d90\">Ohh 늦기 전에 막판 스퍼트</span><br/>\n",
       " <span style=\"color: #b91d90\">20대가 얼마 안 남았어</span><br/>\n",
       " <span style=\"color: #b91d90\">편한 옷으로 갈아입어</span><br/>\n",
       " <span style=\"color: #b91d90\">You look nice</span><br/>\n",
       " <span style=\"color: #b91d90\">Get’em high</span><br/>\n",
       " <span style=\"color: #b91d90\">얼핏 보면 그냥 코미디</span><br/>\n",
       " <span style=\"color: #b91d90\">이렇게 무해한 파티 처음이지?</span><br/>\n",
       " <span style=\"color: #b91d90\">만감이 교차하는 새벽 2시경</span><br/>\n",
       " <span style=\"color: #b91d90\">술잔과 감정이 소용돌이쳐</span></p>, <p><span style=\"color: #b91d90\">왜들 그리 다운돼있어?</span><br/>\n",
       " <span style=\"color: #b91d90\">뭐가 문제야 say something</span><br/>\n",
       " <span style=\"color: #b91d90\">분위기가 겁나 싸해</span><br/>\n",
       " <span style=\"color: #b91d90\">요새는 이런 게 유행인가</span><br/>\n",
       " <span style=\"color: #b91d90\">왜들 그리 재미없어?</span><br/>\n",
       " <span style=\"color: #b91d90\">아 그건 나도 마찬가지</span><br/>\n",
       " <span style=\"color: #b91d90\">Tell me what I got to do</span><br/>\n",
       " <span style=\"color: #b91d90\">급한 대로 블루투스 켜</span></p>, <p><span style=\"color: #b91d90\">아무 노래나 일단 틀어</span><br/>\n",
       " <span style=\"color: #b91d90\">아무거나 신나는 걸로</span><br/>\n",
       " <span style=\"color: #b91d90\">아무렇게나 춤춰</span><br/>\n",
       " <span style=\"color: #b91d90\">아무렇지 않아 보이게</span><br/>\n",
       " <span style=\"color: #b91d90\">아무 생각 하기 싫어</span><br/>\n",
       " <span style=\"color: #b91d90\">아무개로 살래 잠시</span><br/>\n",
       " <span style=\"color: #b91d90\">I’m sick and tired of my everyday</span><br/>\n",
       " <span style=\"color: #b91d90\">Keep it up 한 곡 더</span><br/>\n",
       " <span style=\"color: #b91d90\">아무 노래나 일단</span></p>, <p><span style=\"color: #b91d90\">아무 노래 아무 노래 아무 노래나 틀어봐</span><br/>\n",
       " <span style=\"color: #b91d90\">아무 노래 아무 노래 아무 노래나 틀어봐</span><br/>\n",
       " <span style=\"color: #b91d90\">아무 노래 아무 노래 아무 노래나 틀어봐</span><br/>\n",
       " <span style=\"color: #b91d90\">아무 노래 아무 노래 아무 노래나 KOZ</span></p>, <td>Why is everyone so down?<br/>\n",
       " What’s the problem, say something<br/>\n",
       " It’s so icy here<br/>\n",
       " Is this the trend these days?<br/>\n",
       " Why is everyone so boring?<br/>\n",
       " Actually, I guess I’m the same<br/>\n",
       " Tell me what I got to do<br/>\n",
       " Hurry and turn on the bluetooth</td>, <p>Just put any song on<br/>\n",
       " Anything fun<br/>\n",
       " Just dance however you want<br/>\n",
       " As if you’re just fine<br/>\n",
       " Don’t wanna think about anything<br/>\n",
       " I just wanna live for a moment<br/>\n",
       " I’m sick and tired of my everyday<br/>\n",
       " Keep it up, one more song</p>, <p>Just put any song on<br/>\n",
       " Who cares, it’s so boring<br/>\n",
       " I think we need to refresh<br/>\n",
       " From our built up stress<br/>\n",
       " I wanna laugh till my belly button falls off today<br/>\n",
       " What up my dawgs, where are you<br/>\n",
       " Come over with some beer and chips, huh</p>, <p>Don’t really feel like clubbing<br/>\n",
       " So come over to my house<br/>\n",
       " Block any outsiders<br/>\n",
       " Not enough time to even talk all night<br/>\n",
       " Some are struggling, some are partying<br/>\n",
       " I feel so sentimental, I want my youth back<br/>\n",
       " It was so noisy and then one by one<br/>\n",
       " They all leave</p>, <p>Why is everyone so down?<br/>\n",
       " What’s the problem, say something<br/>\n",
       " It’s so icy here<br/>\n",
       " Is this the trend these days?<br/>\n",
       " Why is everyone so boring?<br/>\n",
       " Actually, I guess I’m the same<br/>\n",
       " Tell me what I got to do<br/>\n",
       " Hurry and turn on the bluetooth</p>, <p>Just put any song on<br/>\n",
       " Anything fun<br/>\n",
       " Just dance however you want<br/>\n",
       " As if you’re just fine<br/>\n",
       " Don’t wanna think about anything<br/>\n",
       " I just wanna live for a moment<br/>\n",
       " I’m sick and tired of my everyday<br/>\n",
       " Keep it up, one more song</p>, <p>If you can’t leave<br/>\n",
       " Don’t even look out the window<br/>\n",
       " Even if you get drunk and make a mess<br/>\n",
       " No worries at all<br/>\n",
       " Who cares about your image, we’re all friends here</p>, <p>Let’s get in our last spurt before it’s too late<br/>\n",
       " Not a lot of time left in our twenties<br/>\n",
       " Change into comfy clothes<br/>\n",
       " You look nice<br/>\n",
       " get’em high<br/>\n",
       " From far away, this’ll look like a comedy<br/>\n",
       " You’ve never been to such a wholesome party like this, right?<br/>\n",
       " A lot of feelings going on at 2am<br/>\n",
       " Drinks mixed with emotions into a whirlwind</p>, <p>Why is everyone so down?<br/>\n",
       " What’s the problem, say something<br/>\n",
       " It’s so icy here<br/>\n",
       " Is this the trend these days?<br/>\n",
       " Why is everyone so boring?<br/>\n",
       " Actually, I guess I’m the same<br/>\n",
       " Tell me what I got to do<br/>\n",
       " Hurry and turn on the bluetooth</p>, <p>Just put any song on<br/>\n",
       " Anything fun<br/>\n",
       " Just dance however you want<br/>\n",
       " As if you’re just fine<br/>\n",
       " Don’t wanna think about anything<br/>\n",
       " I just wanna live for a moment<br/>\n",
       " I’m sick and tired of my everyday<br/>\n",
       " Keep it up, one more song<br/>\n",
       " Just put on any</p>, <p>Just put on any song<br/>\n",
       " Just put on any song<br/>\n",
       " Just put on any song<br/>\n",
       " Just put on any song KOZ</p>, <p>Korean: music.naver<br/>\n",
       " Rom: colorcodedlyrics.com<br/>\n",
       " Eng: pop!gasa<br/>\n",
       " Info: music.naver</p>, <p class=\"must-log-in\">You must be <a href=\"https://colorcodedlyrics.com/wp-login.php?redirect_to=https%3A%2F%2Fcolorcodedlyrics.com%2F2020%2F01%2Fzico-jiko-any-song-amunolae\">logged in</a> to post a comment.</p>, <p class=\"akismet_comment_form_privacy_notice\">This site uses Akismet to reduce spam. <a href=\"https://akismet.com/privacy/\" rel=\"nofollow noopener\" target=\"_blank\">Learn how your comment data is processed</a>.</p>]"
      ]
     },
     "execution_count": 227,
     "metadata": {},
     "output_type": "execute_result"
    }
   ],
   "source": [
    "hmm"
   ]
  },
  {
   "cell_type": "code",
   "execution_count": 228,
   "metadata": {
    "scrolled": true
   },
   "outputs": [
    {
     "data": {
      "text/plain": [
       "43"
      ]
     },
     "execution_count": 228,
     "metadata": {},
     "output_type": "execute_result"
    }
   ],
   "source": [
    "len(hmm)"
   ]
  },
  {
   "cell_type": "code",
   "execution_count": 274,
   "metadata": {},
   "outputs": [
    {
     "data": {
      "text/plain": [
       "<p>Just put on any song<br/>\n",
       "Just put on any song<br/>\n",
       "Just put on any song<br/>\n",
       "Just put on any song KOZ</p>"
      ]
     },
     "execution_count": 274,
     "metadata": {},
     "output_type": "execute_result"
    }
   ],
   "source": [
    "hmm[39]"
   ]
  },
  {
   "cell_type": "code",
   "execution_count": 230,
   "metadata": {},
   "outputs": [
    {
     "data": {
      "text/plain": [
       "[<td><span style=\"color: #b91d90\">waedeul geuri daundwaeisseo?</span><br/>\n",
       " <span style=\"color: #b91d90\">mwoga munjeya say something</span><br/>\n",
       " <span style=\"color: #b91d90\">bunwigiga geobna ssahae</span><br/>\n",
       " <span style=\"color: #b91d90\">yosaeneun ireon ge yuhaenginga</span><br/>\n",
       " <span style=\"color: #b91d90\">waedeul geuri jaemieopseo?</span><br/>\n",
       " <span style=\"color: #b91d90\">a geugeon nado machangaji</span><br/>\n",
       " <span style=\"color: #b91d90\">Tell me what I got to do</span><br/>\n",
       " <span style=\"color: #b91d90\">geubhan daero beullutuseu kyeo</span></td>,\n",
       " <p><span style=\"color: #b91d90\">amu noraena ildan teureo</span><br/>\n",
       " <span style=\"color: #b91d90\">amugeona shinnaneun geollo</span><br/>\n",
       " <span style=\"color: #b91d90\">amureokena chumchwo</span><br/>\n",
       " <span style=\"color: #b91d90\">amureochi ana boige</span><br/>\n",
       " <span style=\"color: #b91d90\">amu saenggak hagi shireo</span><br/>\n",
       " <span style=\"color: #b91d90\">amugaero sallae jamshi</span><br/>\n",
       " <span style=\"color: #b91d90\">I’m sick and tired of my everyday</span><br/>\n",
       " <span style=\"color: #b91d90\">Keep it up han gok deo</span></p>,\n",
       " <p><span style=\"color: #b91d90\">amu noraena ildan teureo</span><br/>\n",
       " <span style=\"color: #b91d90\">amuryeom eottae It’s so boring</span><br/>\n",
       " <span style=\"color: #b91d90\">amuraedo refreshga</span><br/>\n",
       " <span style=\"color: #b91d90\">shigeubhan deuthae ssahyeoga seuteureseuga</span><br/>\n",
       " <span style=\"color: #b91d90\">baekkob ppajil mankeumman poksohago shipeun nariya</span><br/>\n",
       " <span style=\"color: #b91d90\">What up my dawgs eodiya neohi</span><br/>\n",
       " <span style=\"color: #b91d90\">ol ttae byeongmaekjurang kkakka myeot gae sa wa huh</span></p>,\n",
       " <p><span style=\"color: #b91d90\">keulleobeun gumiga jal an danggyeo</span><br/>\n",
       " <span style=\"color: #b91d90\">uri jib geoshillo ppallang moyeo</span><br/>\n",
       " <span style=\"color: #b91d90\">webuineun yoryeongkkeot chadan shigyeo</span><br/>\n",
       " <span style=\"color: #b91d90\">bamsae suda tteol shigando mojara</span><br/>\n",
       " <span style=\"color: #b91d90\">nugun himdeureo jukgetgo nugun chukje</span><br/>\n",
       " <span style=\"color: #b91d90\">gwaenhi shingsungsaengsung I want my youth back</span><br/>\n",
       " <span style=\"color: #b91d90\">jom jeonkkaji wakjajikkeol</span><br/>\n",
       " <span style=\"color: #b91d90\">hada han myeong du myeongsshik jaril tteo</span></p>,\n",
       " <p><span style=\"color: #b91d90\">waedeul geuri daundwaeisseo?</span><br/>\n",
       " <span style=\"color: #b91d90\">mwoga munjeya say something</span><br/>\n",
       " <span style=\"color: #b91d90\">bunwigiga geobna ssahae</span><br/>\n",
       " <span style=\"color: #b91d90\">yosaeneun ireon ge yuhaenginga</span><br/>\n",
       " <span style=\"color: #b91d90\">waedeul geuri jaemieopseo?</span><br/>\n",
       " <span style=\"color: #b91d90\">a geugeon nado machangaji</span><br/>\n",
       " <span style=\"color: #b91d90\">Tell me what I got to do</span><br/>\n",
       " <span style=\"color: #b91d90\">geubhan daero beullutuseu kyeo</span></p>,\n",
       " <p><span style=\"color: #b91d90\">amu noraena ildan teureo</span><br/>\n",
       " <span style=\"color: #b91d90\">amugeona shinnaneun geollo</span><br/>\n",
       " <span style=\"color: #b91d90\">amureokena chumchwo</span><br/>\n",
       " <span style=\"color: #b91d90\">amureochi ana boige</span><br/>\n",
       " <span style=\"color: #b91d90\">amu saenggak hagi shireo</span><br/>\n",
       " <span style=\"color: #b91d90\">amugaero sallae jamshi</span><br/>\n",
       " <span style=\"color: #b91d90\">I’m sick and tired of my everyday</span><br/>\n",
       " <span style=\"color: #b91d90\">Keep it up han gok deo</span></p>,\n",
       " <p><span style=\"color: #b91d90\">tteonajil mothal baen</span><br/>\n",
       " <span style=\"color: #b91d90\">changbakkeun chyeodado an bwa</span><br/>\n",
       " <span style=\"color: #b91d90\">hwekkadakhaeseo chutaereul buryeodo</span><br/>\n",
       " <span style=\"color: #b91d90\">No worries at all</span><br/>\n",
       " <span style=\"color: #b91d90\">imiji wae chaenggyeo geurae bwatja urikkirinde</span></p>,\n",
       " <p><span style=\"color: #b91d90\">Ohh neutgi jeone makpan seupeoteu</span><br/>\n",
       " <span style=\"color: #b91d90\">ishipdaega eolma an namasseo</span><br/>\n",
       " <span style=\"color: #b91d90\">pyeonhan oseuro garaibeo</span><br/>\n",
       " <span style=\"color: #b91d90\">You look nice</span><br/>\n",
       " <span style=\"color: #b91d90\">Get’em high</span><br/>\n",
       " <span style=\"color: #b91d90\">eolpit bomyeon geunyang komidi</span><br/>\n",
       " <span style=\"color: #b91d90\">ireoke muhaehan pati cheoeumiji?</span><br/>\n",
       " <span style=\"color: #b91d90\">mangami gyochahaneun saebyeok dushigyeong</span><br/>\n",
       " <span style=\"color: #b91d90\">suljangwa gamjeongi soyongdorichyeo</span></p>,\n",
       " <p><span style=\"color: #b91d90\">waedeul geuri daundwaeisseo?</span><br/>\n",
       " <span style=\"color: #b91d90\">mwoga munjeya say something</span><br/>\n",
       " <span style=\"color: #b91d90\">bunwigiga geobna ssahae</span><br/>\n",
       " <span style=\"color: #b91d90\">yosaeneun ireon ge yuhaenginga</span><br/>\n",
       " <span style=\"color: #b91d90\">waedeul geuri jaemieopseo?</span><br/>\n",
       " <span style=\"color: #b91d90\">a geugeon nado machangaji</span><br/>\n",
       " <span style=\"color: #b91d90\">Tell me what I got to do</span><br/>\n",
       " <span style=\"color: #b91d90\">geubhan daero beullutuseu kyeo</span></p>,\n",
       " <p><span style=\"color: #b91d90\">amu noraena ildan teureo</span><br/>\n",
       " <span style=\"color: #b91d90\">amugeona shinnaneun geollo</span><br/>\n",
       " <span style=\"color: #b91d90\">amureokena chumchwo</span><br/>\n",
       " <span style=\"color: #b91d90\">amureochi ana boige</span><br/>\n",
       " <span style=\"color: #b91d90\">amu saenggak hagi shireo</span><br/>\n",
       " <span style=\"color: #b91d90\">amugaero sallae jamshi</span><br/>\n",
       " <span style=\"color: #b91d90\">I’m sick and tired of my everyday</span><br/>\n",
       " <span style=\"color: #b91d90\">Keep it up han gok deo</span><br/>\n",
       " <span style=\"color: #b91d90\">amu noraena ildan</span></p>,\n",
       " <p><span style=\"color: #b91d90\">amu norae amu norae amu noraena teureobwa</span><br/>\n",
       " <span style=\"color: #b91d90\">amu norae amu norae amu noraena teureobwa</span><br/>\n",
       " <span style=\"color: #b91d90\">amu norae amu norae amu noraena teureobwa</span><br/>\n",
       " <span style=\"color: #b91d90\">amu norae amu norae amu noraena KOZ</span></p>]"
      ]
     },
     "execution_count": 230,
     "metadata": {},
     "output_type": "execute_result"
    }
   ],
   "source": [
    "hmm[7:18]"
   ]
  },
  {
   "cell_type": "code",
   "execution_count": 231,
   "metadata": {},
   "outputs": [
    {
     "data": {
      "text/plain": [
       "[<td><span style=\"color: #b91d90\">왜들 그리 다운돼있어?</span><br/>\n",
       " <span style=\"color: #b91d90\">뭐가 문제야 say something</span><br/>\n",
       " <span style=\"color: #b91d90\">분위기가 겁나 싸해</span><br/>\n",
       " <span style=\"color: #b91d90\">요새는 이런 게 유행인가</span><br/>\n",
       " <span style=\"color: #b91d90\">왜들 그리 재미없어?</span><br/>\n",
       " <span style=\"color: #b91d90\">아 그건 나도 마찬가지</span><br/>\n",
       " <span style=\"color: #b91d90\">Tell me what I got to do</span><br/>\n",
       " <span style=\"color: #b91d90\">급한 대로 블루투스 켜</span></td>,\n",
       " <p><span style=\"color: #b91d90\">아무 노래나 일단 틀어</span><br/>\n",
       " <span style=\"color: #b91d90\">아무거나 신나는 걸로</span><br/>\n",
       " <span style=\"color: #b91d90\">아무렇게나 춤춰</span><br/>\n",
       " <span style=\"color: #b91d90\">아무렇지 않아 보이게</span><br/>\n",
       " <span style=\"color: #b91d90\">아무 생각 하기 싫어</span><br/>\n",
       " <span style=\"color: #b91d90\">아무개로 살래 잠시</span><br/>\n",
       " <span style=\"color: #b91d90\">I’m sick and tired of my everyday</span><br/>\n",
       " <span style=\"color: #b91d90\">Keep it up 한 곡 더</span></p>,\n",
       " <p><span style=\"color: #b91d90\">아무 노래나 일단 틀어</span><br/>\n",
       " <span style=\"color: #b91d90\">아무렴 어때 It’s so boring</span><br/>\n",
       " <span style=\"color: #b91d90\">아무래도 refresh가</span><br/>\n",
       " <span style=\"color: #b91d90\">시급한 듯해 쌓여가 스트레스가</span><br/>\n",
       " <span style=\"color: #b91d90\">배꼽 빠질 만큼만 폭소하고 싶은 날이야</span><br/>\n",
       " <span style=\"color: #b91d90\">What up my dawgs 어디야 너희</span><br/>\n",
       " <span style=\"color: #b91d90\">올 때 병맥주랑 까까 몇 개 사 와 huh</span></p>,\n",
       " <p><span style=\"color: #b91d90\">클럽은 구미가 잘 안 당겨</span><br/>\n",
       " <span style=\"color: #b91d90\">우리 집 거실로 빨랑 모여</span><br/>\n",
       " <span style=\"color: #b91d90\">외부인은 요령껏 차단 시켜</span><br/>\n",
       " <span style=\"color: #b91d90\">밤새 수다 떨 시간도 모자라</span><br/>\n",
       " <span style=\"color: #b91d90\">누군 힘들어 죽겠고 누군 축제</span><br/>\n",
       " <span style=\"color: #b91d90\">괜히 싱숭생숭 I want my youth back</span><br/>\n",
       " <span style=\"color: #b91d90\">좀 전까지 왁자지껄</span><br/>\n",
       " <span style=\"color: #b91d90\">하다 한 명 두 명씩 자릴 떠</span></p>,\n",
       " <p><span style=\"color: #b91d90\">왜들 그리 다운돼있어?</span><br/>\n",
       " <span style=\"color: #b91d90\">뭐가 문제야 say something</span><br/>\n",
       " <span style=\"color: #b91d90\">분위기가 겁나 싸해</span><br/>\n",
       " <span style=\"color: #b91d90\">요새는 이런 게 유행인가</span><br/>\n",
       " <span style=\"color: #b91d90\">왜들 그리 재미없어?</span><br/>\n",
       " <span style=\"color: #b91d90\">아 그건 나도 마찬가지</span><br/>\n",
       " <span style=\"color: #b91d90\">Tell me what I got to do</span><br/>\n",
       " <span style=\"color: #b91d90\">급한 대로 블루투스 켜</span></p>,\n",
       " <p><span style=\"color: #b91d90\">아무 노래나 일단 틀어</span><br/>\n",
       " <span style=\"color: #b91d90\">아무거나 신나는 걸로</span><br/>\n",
       " <span style=\"color: #b91d90\">아무렇게나 춤춰</span><br/>\n",
       " <span style=\"color: #b91d90\">아무렇지 않아 보이게</span><br/>\n",
       " <span style=\"color: #b91d90\">아무 생각 하기 싫어</span><br/>\n",
       " <span style=\"color: #b91d90\">아무개로 살래 잠시</span><br/>\n",
       " <span style=\"color: #b91d90\">I’m sick and tired of my everyday</span><br/>\n",
       " <span style=\"color: #b91d90\">Keep it up 한 곡 더</span></p>,\n",
       " <p><span style=\"color: #b91d90\">떠나질 못할 바엔</span><br/>\n",
       " <span style=\"color: #b91d90\">창밖은 쳐다도 안 봐</span><br/>\n",
       " <span style=\"color: #b91d90\">회까닥해서 추태를 부려도</span><br/>\n",
       " <span style=\"color: #b91d90\">No worries at all</span><br/>\n",
       " <span style=\"color: #b91d90\">이미지 왜 챙겨 그래 봤자 우리끼린데</span></p>,\n",
       " <p><span style=\"color: #b91d90\">Ohh 늦기 전에 막판 스퍼트</span><br/>\n",
       " <span style=\"color: #b91d90\">20대가 얼마 안 남았어</span><br/>\n",
       " <span style=\"color: #b91d90\">편한 옷으로 갈아입어</span><br/>\n",
       " <span style=\"color: #b91d90\">You look nice</span><br/>\n",
       " <span style=\"color: #b91d90\">Get’em high</span><br/>\n",
       " <span style=\"color: #b91d90\">얼핏 보면 그냥 코미디</span><br/>\n",
       " <span style=\"color: #b91d90\">이렇게 무해한 파티 처음이지?</span><br/>\n",
       " <span style=\"color: #b91d90\">만감이 교차하는 새벽 2시경</span><br/>\n",
       " <span style=\"color: #b91d90\">술잔과 감정이 소용돌이쳐</span></p>,\n",
       " <p><span style=\"color: #b91d90\">왜들 그리 다운돼있어?</span><br/>\n",
       " <span style=\"color: #b91d90\">뭐가 문제야 say something</span><br/>\n",
       " <span style=\"color: #b91d90\">분위기가 겁나 싸해</span><br/>\n",
       " <span style=\"color: #b91d90\">요새는 이런 게 유행인가</span><br/>\n",
       " <span style=\"color: #b91d90\">왜들 그리 재미없어?</span><br/>\n",
       " <span style=\"color: #b91d90\">아 그건 나도 마찬가지</span><br/>\n",
       " <span style=\"color: #b91d90\">Tell me what I got to do</span><br/>\n",
       " <span style=\"color: #b91d90\">급한 대로 블루투스 켜</span></p>,\n",
       " <p><span style=\"color: #b91d90\">아무 노래나 일단 틀어</span><br/>\n",
       " <span style=\"color: #b91d90\">아무거나 신나는 걸로</span><br/>\n",
       " <span style=\"color: #b91d90\">아무렇게나 춤춰</span><br/>\n",
       " <span style=\"color: #b91d90\">아무렇지 않아 보이게</span><br/>\n",
       " <span style=\"color: #b91d90\">아무 생각 하기 싫어</span><br/>\n",
       " <span style=\"color: #b91d90\">아무개로 살래 잠시</span><br/>\n",
       " <span style=\"color: #b91d90\">I’m sick and tired of my everyday</span><br/>\n",
       " <span style=\"color: #b91d90\">Keep it up 한 곡 더</span><br/>\n",
       " <span style=\"color: #b91d90\">아무 노래나 일단</span></p>,\n",
       " <p><span style=\"color: #b91d90\">아무 노래 아무 노래 아무 노래나 틀어봐</span><br/>\n",
       " <span style=\"color: #b91d90\">아무 노래 아무 노래 아무 노래나 틀어봐</span><br/>\n",
       " <span style=\"color: #b91d90\">아무 노래 아무 노래 아무 노래나 틀어봐</span><br/>\n",
       " <span style=\"color: #b91d90\">아무 노래 아무 노래 아무 노래나 KOZ</span></p>]"
      ]
     },
     "execution_count": 231,
     "metadata": {},
     "output_type": "execute_result"
    }
   ],
   "source": [
    "hmm[18:29]"
   ]
  },
  {
   "cell_type": "code",
   "execution_count": 232,
   "metadata": {},
   "outputs": [
    {
     "data": {
      "text/plain": [
       "[<td>Why is everyone so down?<br/>\n",
       " What’s the problem, say something<br/>\n",
       " It’s so icy here<br/>\n",
       " Is this the trend these days?<br/>\n",
       " Why is everyone so boring?<br/>\n",
       " Actually, I guess I’m the same<br/>\n",
       " Tell me what I got to do<br/>\n",
       " Hurry and turn on the bluetooth</td>, <p>Just put any song on<br/>\n",
       " Anything fun<br/>\n",
       " Just dance however you want<br/>\n",
       " As if you’re just fine<br/>\n",
       " Don’t wanna think about anything<br/>\n",
       " I just wanna live for a moment<br/>\n",
       " I’m sick and tired of my everyday<br/>\n",
       " Keep it up, one more song</p>, <p>Just put any song on<br/>\n",
       " Who cares, it’s so boring<br/>\n",
       " I think we need to refresh<br/>\n",
       " From our built up stress<br/>\n",
       " I wanna laugh till my belly button falls off today<br/>\n",
       " What up my dawgs, where are you<br/>\n",
       " Come over with some beer and chips, huh</p>, <p>Don’t really feel like clubbing<br/>\n",
       " So come over to my house<br/>\n",
       " Block any outsiders<br/>\n",
       " Not enough time to even talk all night<br/>\n",
       " Some are struggling, some are partying<br/>\n",
       " I feel so sentimental, I want my youth back<br/>\n",
       " It was so noisy and then one by one<br/>\n",
       " They all leave</p>, <p>Why is everyone so down?<br/>\n",
       " What’s the problem, say something<br/>\n",
       " It’s so icy here<br/>\n",
       " Is this the trend these days?<br/>\n",
       " Why is everyone so boring?<br/>\n",
       " Actually, I guess I’m the same<br/>\n",
       " Tell me what I got to do<br/>\n",
       " Hurry and turn on the bluetooth</p>, <p>Just put any song on<br/>\n",
       " Anything fun<br/>\n",
       " Just dance however you want<br/>\n",
       " As if you’re just fine<br/>\n",
       " Don’t wanna think about anything<br/>\n",
       " I just wanna live for a moment<br/>\n",
       " I’m sick and tired of my everyday<br/>\n",
       " Keep it up, one more song</p>, <p>If you can’t leave<br/>\n",
       " Don’t even look out the window<br/>\n",
       " Even if you get drunk and make a mess<br/>\n",
       " No worries at all<br/>\n",
       " Who cares about your image, we’re all friends here</p>, <p>Let’s get in our last spurt before it’s too late<br/>\n",
       " Not a lot of time left in our twenties<br/>\n",
       " Change into comfy clothes<br/>\n",
       " You look nice<br/>\n",
       " get’em high<br/>\n",
       " From far away, this’ll look like a comedy<br/>\n",
       " You’ve never been to such a wholesome party like this, right?<br/>\n",
       " A lot of feelings going on at 2am<br/>\n",
       " Drinks mixed with emotions into a whirlwind</p>, <p>Why is everyone so down?<br/>\n",
       " What’s the problem, say something<br/>\n",
       " It’s so icy here<br/>\n",
       " Is this the trend these days?<br/>\n",
       " Why is everyone so boring?<br/>\n",
       " Actually, I guess I’m the same<br/>\n",
       " Tell me what I got to do<br/>\n",
       " Hurry and turn on the bluetooth</p>, <p>Just put any song on<br/>\n",
       " Anything fun<br/>\n",
       " Just dance however you want<br/>\n",
       " As if you’re just fine<br/>\n",
       " Don’t wanna think about anything<br/>\n",
       " I just wanna live for a moment<br/>\n",
       " I’m sick and tired of my everyday<br/>\n",
       " Keep it up, one more song<br/>\n",
       " Just put on any</p>, <p>Just put on any song<br/>\n",
       " Just put on any song<br/>\n",
       " Just put on any song<br/>\n",
       " Just put on any song KOZ</p>]"
      ]
     },
     "execution_count": 232,
     "metadata": {},
     "output_type": "execute_result"
    }
   ],
   "source": [
    "hmm[29:40]"
   ]
  },
  {
   "cell_type": "code",
   "execution_count": 236,
   "metadata": {},
   "outputs": [
    {
     "data": {
      "text/plain": [
       "<p>Just put on any song<br/>\n",
       "Just put on any song<br/>\n",
       "Just put on any song<br/>\n",
       "Just put on any song KOZ</p>"
      ]
     },
     "execution_count": 236,
     "metadata": {},
     "output_type": "execute_result"
    }
   ],
   "source": [
    "hmm[39]"
   ]
  },
  {
   "cell_type": "code",
   "execution_count": 234,
   "metadata": {},
   "outputs": [
    {
     "data": {
      "text/plain": [
       "'amu norae amu norae amu noraena teureobwa\\namu norae amu norae amu noraena teureobwa\\namu norae amu norae amu noraena teureobwa\\namu norae amu norae amu noraena KOZ'"
      ]
     },
     "execution_count": 234,
     "metadata": {},
     "output_type": "execute_result"
    }
   ],
   "source": [
    "hmm[17].text"
   ]
  },
  {
   "cell_type": "code",
   "execution_count": null,
   "metadata": {},
   "outputs": [],
   "source": []
  },
  {
   "cell_type": "code",
   "execution_count": 242,
   "metadata": {},
   "outputs": [],
   "source": [
    "hmm2 = soup2.find_all(['td','p'])"
   ]
  },
  {
   "cell_type": "code",
   "execution_count": 244,
   "metadata": {},
   "outputs": [
    {
     "data": {
      "text/plain": [
       "'N/A'"
      ]
     },
     "execution_count": 244,
     "metadata": {},
     "output_type": "execute_result"
    }
   ],
   "source": [
    "hmm2[-4].text"
   ]
  },
  {
   "cell_type": "code",
   "execution_count": 239,
   "metadata": {},
   "outputs": [],
   "source": [
    "hmm3 = soup3.find_all(['td','p'])"
   ]
  },
  {
   "cell_type": "code",
   "execution_count": 240,
   "metadata": {},
   "outputs": [
    {
     "data": {
      "text/plain": [
       "[<td>\n",
       " <h2 style=\"text-align: center\">Filter</h2>\n",
       " <p style=\"text-align: center\"><span style=\"text-decoration: underline\">[Album] MAP OF THE SOUL : 7</span><br/>\n",
       " 2020.02.21</p>\n",
       " </td>,\n",
       " <p style=\"text-align: center\"><span style=\"text-decoration: underline\">[Album] MAP OF THE SOUL : 7</span><br/>\n",
       " 2020.02.21</p>,\n",
       " <td style=\"text-align: right\"><img alt=\"\" class=\"alignright\" data-recalc-dims=\"1\" height=\"200\" src=\"https://i2.wp.com/colorcodedlyrics.com/wp-content/uploads/2020/02/BTS-MAP-OF-THE-SOUL-7.jpg?resize=200%2C200&amp;ssl=1\" title=\"BTS - MAP OF THE SOUL : 7\" width=\"200\"/></td>,\n",
       " <td style=\"text-align: center\"><span style=\"color: #a28be3\">Jimin</span></td>,\n",
       " <td style=\"text-align: right\"><strong>Lyrics/작사</strong>: Tom Wiklund, Hilda Stenmalm, 방시혁, 이스란, Lutra,<br/>\n",
       " danke, 정바비, 안복진, 폴린딜드 (Fallin’ Dild), 형광소년<br/>\n",
       " <strong>Composer/작곡</strong>: Tom Wiklund, Hilda Stenmalm, 방시혁, 이스란, Lutra,<br/>\n",
       " danke, 정바비, 안복진, 폴린딜드 (Fallin’ Dild), 형광소년<br/>\n",
       " <strong>Arranger/편곡</strong>: ???</td>,\n",
       " <p style=\"text-align: center\">\n",
       " <div class=\"jetpack-video-wrapper\"><span class=\"embed-youtube\" style=\"text-align:center; display: block;\"><iframe allowfullscreen=\"true\" class=\"youtube-player\" height=\"360\" src=\"https://www.youtube.com/embed/dNUnnb8F-Cw?version=3&amp;rel=1&amp;fs=1&amp;autohide=2&amp;showsearch=0&amp;showinfo=1&amp;iv_load_policy=1&amp;wmode=transparent\" style=\"border:0;\" type=\"text/html\" width=\"640\"></iframe></span></div>\n",
       " </p>,\n",
       " <p><span style=\"color: #ff00ff\"><span id=\"more-139797\"></span></span></p>,\n",
       " <td><span style=\"color: #a28be3\">neoye ttabunhan geu pyojeong jiruhan balkkeut</span><br/>\n",
       " <span style=\"color: #a28be3\">Please look at me now</span><br/>\n",
       " <span style=\"color: #a28be3\">haendeuponeun naeryeonwa gogae dollil saenggakdo ma</span><br/>\n",
       " <span style=\"color: #a28be3\">Let me know your type</span><br/>\n",
       " <span style=\"color: #a28be3\">nal golla sseumyeon dwae yeah</span></td>,\n",
       " <p><span style=\"color: #a28be3\">Oh neoye nuneul naye soneuro pogae</span><br/>\n",
       " <span style=\"color: #a28be3\">Oh dagaga bimire</span><br/>\n",
       " <span style=\"color: #a28be3\">neol deryeogalge wanjeonhi saeroun sesange</span><br/>\n",
       " <span style=\"color: #a28be3\">Yeah ne gameun nuneul tteobwa ije go!</span></p>,\n",
       " <p><span style=\"color: #a28be3\">palleteu sok saegeul seokkeo pick your filter</span><br/>\n",
       " <span style=\"color: #a28be3\">eotteon nareul wonhae</span><br/>\n",
       " <span style=\"color: #a28be3\">neoye sesangeul byeonhwashikil I’m your filter</span><br/>\n",
       " <span style=\"color: #a28be3\">ne mame sshiwojwo</span></p>,\n",
       " <p><span style=\"color: #a28be3\">(OK) eottae jogeum neukkimi wa? ajik mojara?</span><br/>\n",
       " <span style=\"color: #a28be3\">(Yes) Girl you have your chance</span><br/>\n",
       " <span style=\"color: #a28be3\">I can be your Genie</span><br/>\n",
       " <span style=\"color: #a28be3\">How ‘bout Aladdin?</span><br/>\n",
       " <span style=\"color: #a28be3\">mwodeun dwae julge</span><br/>\n",
       " <span style=\"color: #a28be3\">nal golla sseumyeon dwae yeah</span></p>,\n",
       " <p><span style=\"color: #a28be3\">Oh ne kkumcheoreom neol gamssa aneul geoya</span><br/>\n",
       " <span style=\"color: #a28be3\">Oh eunmilhan speciya</span><br/>\n",
       " <span style=\"color: #a28be3\">nan neoreul wihae maeil saeroul geoya</span><br/>\n",
       " <span style=\"color: #a28be3\">neul ttokgateun geon jaemieopjana</span></p>,\n",
       " <p><span style=\"color: #a28be3\">palleteu sok saegeul seokkeo pick your filter</span><br/>\n",
       " <span style=\"color: #a28be3\">eotteon nareul wonhae</span><br/>\n",
       " <span style=\"color: #a28be3\">neoye sesangeul byeonhwashikil I’m your filter</span><br/>\n",
       " <span style=\"color: #a28be3\">ne mame sshiwojwo</span></p>,\n",
       " <p><span style=\"color: #a28be3\">bulhyeondeut airo byeohnan nal bwa</span><br/>\n",
       " <span style=\"color: #a28be3\">bolsurok gwiyeowo michidorok</span><br/>\n",
       " <span style=\"color: #a28be3\">chwihyangdo gijundo ttwieoneomeo</span><br/>\n",
       " <span style=\"color: #a28be3\">neon ojik namaneul wonhage dwae</span><br/>\n",
       " <span style=\"color: #a28be3\">Yeah nal mandeun saram baro neonikka</span></p>,\n",
       " <p><span style=\"color: #a28be3\">nan yeotae nega bon jeok eopneun brand new filter</span><br/>\n",
       " <span style=\"color: #a28be3\">naege neol matgyeobwa</span><br/>\n",
       " <span style=\"color: #a28be3\">deo jjarithan geol bol su itge pick your filter</span><br/>\n",
       " <span style=\"color: #a28be3\">namaneul damabwa</span></p>,\n",
       " <p><span style=\"color: #a28be3\">Na na na na na na na na na</span><br/>\n",
       " <span style=\"color: #a28be3\">Pick your filter namaneul damabwa</span><br/>\n",
       " <span style=\"color: #a28be3\">Na na na na na na na na na</span><br/>\n",
       " <span style=\"color: #a28be3\">I’m your filter naege neol matgyeobwa</span></p>,\n",
       " <p><span style=\"color: #a28be3\">saeroun uriga dwel geoya</span><br/>\n",
       " <span style=\"color: #a28be3\">Ay nal ne mame sshiwojwo</span></p>,\n",
       " <td><span style=\"color: #a28be3\">너의 따분한 그 표정 지루한 발끝</span><br/>\n",
       " <span style=\"color: #a28be3\">Please look at me now</span><br/>\n",
       " <span style=\"color: #a28be3\">핸드폰은 내려놔 고개 돌릴 생각도 마</span><br/>\n",
       " <span style=\"color: #a28be3\">Let me know your type</span><br/>\n",
       " <span style=\"color: #a28be3\">날 골라 쓰면 돼 yeah</span></td>,\n",
       " <p><span style=\"color: #a28be3\">Oh 너의 눈을 나의 손으로 포개</span><br/>\n",
       " <span style=\"color: #a28be3\">Oh 다가가 비밀에</span><br/>\n",
       " <span style=\"color: #a28be3\">널 데려갈게 완전히 새로운 세상에</span><br/>\n",
       " <span style=\"color: #a28be3\">Yeah 네 감은 눈을 떠봐 이제 go!</span></p>,\n",
       " <p><span style=\"color: #a28be3\">팔레트 속 색을 섞어 pick your filter</span><br/>\n",
       " <span style=\"color: #a28be3\">어떤 나를 원해</span><br/>\n",
       " <span style=\"color: #a28be3\">너의 세상을 변화시킬 I’m your filter</span><br/>\n",
       " <span style=\"color: #a28be3\">네 맘에 씌워줘</span></p>,\n",
       " <p><span style=\"color: #a28be3\">(OK) 어때 조금 느낌이 와? 아직 모자라?</span><br/>\n",
       " <span style=\"color: #a28be3\">(Yes) Girl you have your chance</span><br/>\n",
       " <span style=\"color: #a28be3\">I can be your Genie</span><br/>\n",
       " <span style=\"color: #a28be3\">How ‘bout Aladdin?</span><br/>\n",
       " <span style=\"color: #a28be3\">뭐든 돼 줄게</span><br/>\n",
       " <span style=\"color: #a28be3\">날 골라 쓰면 돼 yeah</span></p>,\n",
       " <p><span style=\"color: #a28be3\">Oh 네 꿈처럼 널 감싸 안을 거야</span><br/>\n",
       " <span style=\"color: #a28be3\">Oh 은밀한 spec이야</span><br/>\n",
       " <span style=\"color: #a28be3\">난 너를 위해 매일 새로울 거야</span><br/>\n",
       " <span style=\"color: #a28be3\">늘 똑같은 건 재미없잖아</span></p>,\n",
       " <p><span style=\"color: #a28be3\">팔레트 속 색을 섞어 pick your filter</span><br/>\n",
       " <span style=\"color: #a28be3\">어떤 나를 원해</span><br/>\n",
       " <span style=\"color: #a28be3\">너의 세상을 변화시킬 I’m your filter</span><br/>\n",
       " <span style=\"color: #a28be3\">네 맘에 씌워줘</span></p>,\n",
       " <p><span style=\"color: #a28be3\">불현듯 아이로 변한 날 봐</span><br/>\n",
       " <span style=\"color: #a28be3\">볼수록 귀여워 미치도록</span><br/>\n",
       " <span style=\"color: #a28be3\">취향도 기준도 뛰어넘어</span><br/>\n",
       " <span style=\"color: #a28be3\">넌 오직 나만을 원하게 돼</span><br/>\n",
       " <span style=\"color: #a28be3\">Yeah 날 만든 사람 바로 너니까</span></p>,\n",
       " <p><span style=\"color: #a28be3\">난 여태 네가 본 적 없는 brand new filter</span><br/>\n",
       " <span style=\"color: #a28be3\">내게 널 맡겨봐</span><br/>\n",
       " <span style=\"color: #a28be3\">더 짜릿한 걸 볼 수 있게 pick your filter</span><br/>\n",
       " <span style=\"color: #a28be3\">나만을 담아봐</span></p>,\n",
       " <p><span style=\"color: #a28be3\">Na na na na na na na na na</span><br/>\n",
       " <span style=\"color: #a28be3\">Pick your filter 나만을 담아봐</span><br/>\n",
       " <span style=\"color: #a28be3\">Na na na na na na na na na</span><br/>\n",
       " <span style=\"color: #a28be3\">I’m your filter 내게 널 맡겨봐</span></p>,\n",
       " <p><span style=\"color: #a28be3\">새로운 우리가 될 거야</span><br/>\n",
       " <span style=\"color: #a28be3\">Ay 날 네 맘에 씌워줘</span></p>,\n",
       " <td>N/A</td>,\n",
       " <p>Korean: music.naver<br/>\n",
       " Rom: colorcodedlyrics.com<br/>\n",
       " Eng: –<br/>\n",
       " Info: music.naver</p>,\n",
       " <p class=\"must-log-in\">You must be <a href=\"https://colorcodedlyrics.com/wp-login.php?redirect_to=https%3A%2F%2Fcolorcodedlyrics.com%2F2020%2F02%2Fbts-bangtansonyeondan-filter\">logged in</a> to post a comment.</p>,\n",
       " <p class=\"akismet_comment_form_privacy_notice\">This site uses Akismet to reduce spam. <a href=\"https://akismet.com/privacy/\" rel=\"nofollow noopener\" target=\"_blank\">Learn how your comment data is processed</a>.</p>]"
      ]
     },
     "execution_count": 240,
     "metadata": {},
     "output_type": "execute_result"
    }
   ],
   "source": [
    "hmm3"
   ]
  },
  {
   "cell_type": "code",
   "execution_count": 247,
   "metadata": {},
   "outputs": [
    {
     "data": {
      "text/plain": [
       "31"
      ]
     },
     "execution_count": 247,
     "metadata": {},
     "output_type": "execute_result"
    }
   ],
   "source": [
    "len(hmm3)"
   ]
  },
  {
   "cell_type": "code",
   "execution_count": 250,
   "metadata": {},
   "outputs": [
    {
     "data": {
      "text/plain": [
       "True"
      ]
     },
     "execution_count": 250,
     "metadata": {},
     "output_type": "execute_result"
    }
   ],
   "source": [
    "hmm3[-4].text == 'N/A'"
   ]
  },
  {
   "cell_type": "code",
   "execution_count": null,
   "metadata": {},
   "outputs": [],
   "source": []
  },
  {
   "cell_type": "code",
   "execution_count": 218,
   "metadata": {},
   "outputs": [],
   "source": [
    "hmm4 = soup4.find_all(['td','p'])"
   ]
  },
  {
   "cell_type": "code",
   "execution_count": 219,
   "metadata": {},
   "outputs": [
    {
     "data": {
      "text/plain": [
       "False"
      ]
     },
     "execution_count": 219,
     "metadata": {},
     "output_type": "execute_result"
    }
   ],
   "source": [
    "hmm4[-4].text == 'N/A'"
   ]
  },
  {
   "cell_type": "code",
   "execution_count": 252,
   "metadata": {},
   "outputs": [
    {
     "data": {
      "text/plain": [
       "43"
      ]
     },
     "execution_count": 252,
     "metadata": {},
     "output_type": "execute_result"
    }
   ],
   "source": [
    "len(hmm4)"
   ]
  },
  {
   "cell_type": "code",
   "execution_count": 253,
   "metadata": {},
   "outputs": [
    {
     "data": {
      "text/plain": [
       "<td><span style=\"color: #a28be3\">I can’t understand what people are sayin’</span><br/>\n",
       "<span style=\"color: #a28be3\">eoneu jangdane matchwoya dwelji</span><br/>\n",
       "<span style=\"color: #a28be3\">han baljaguk ttemyeon<br/>\n",
       "han baljaguk keojineun shadow</span><br/>\n",
       "<span style=\"color: #b7c185\">jameseo nuneul tteun yeogin tto eodi</span><br/>\n",
       "<span style=\"color: #b7c185\">eojjeom seoul tto New York or Paris</span><br/>\n",
       "<span style=\"color: #b7c185\">ireonani hwicheongineun mom</span></td>"
      ]
     },
     "execution_count": 253,
     "metadata": {},
     "output_type": "execute_result"
    }
   ],
   "source": [
    "hmm4[7]"
   ]
  },
  {
   "cell_type": "code",
   "execution_count": 257,
   "metadata": {},
   "outputs": [],
   "source": [
    "hmm5 = soup5.find_all(['td','p'])"
   ]
  },
  {
   "cell_type": "code",
   "execution_count": 258,
   "metadata": {},
   "outputs": [
    {
     "data": {
      "text/plain": [
       "34"
      ]
     },
     "execution_count": 258,
     "metadata": {},
     "output_type": "execute_result"
    }
   ],
   "source": [
    "len(hmm5)"
   ]
  },
  {
   "cell_type": "code",
   "execution_count": 276,
   "metadata": {},
   "outputs": [
    {
     "data": {
      "text/plain": [
       "[<td><span style=\"color: #3acde0\">Yeah J Say<br/>\n",
       " deutgo shipeun daero makkwiro</span><br/>\n",
       " <span style=\"color: #3acde0\">saegangyeongen paeakjillo</span><br/>\n",
       " <span style=\"color: #3acde0\">seumuldul shigi chigi maehangajin Fair play</span><br/>\n",
       " <span style=\"color: #3acde0\">nae seonggongeul shigi? bae apeum</span><br/>\n",
       " <span style=\"color: #3acde0\">anggapeum yeomdue dul gyeoreul eopshi nae hal geo</span><br/>\n",
       " <span style=\"color: #3acde0\">byeol gamjeong eopshi gyaereul eopshinyeogyeo daehal ppun</span><br/>\n",
       " <span style=\"color: #3acde0\">geobi naneun geotteul jung, geujung han palhaljjeum</span><br/>\n",
       " <span style=\"color: #3acde0\">gajok hwesa chingu nomdeure gidaechi</span><br/>\n",
       " <span style=\"color: #3acde0\">machi shilmangiran deochi duryeo gyeyakseo an sara shihanbu</span></td>,\n",
       " <p><span style=\"color: #e843dd\">Man I go fast like nitro</span><br/>\n",
       " <span style=\"color: #e843dd\">Think I just might take flight tho</span><br/>\n",
       " <span style=\"color: #e843dd\">goppireul pureobwa eolleun wa illo</span><br/>\n",
       " <span style=\"color: #e843dd\">ireon Trap wie nan Psycho</span></p>,\n",
       " <p><span style=\"color: #3acde0\">Man I go fast like nitro</span><br/>\n",
       " <span style=\"color: #3acde0\">Think I just might take flight tho</span><br/>\n",
       " <span style=\"color: #3acde0\">goppireul pureobwa eolleun wa illo</span><br/>\n",
       " <span style=\"color: #3acde0\">ireon Trap wie nan Psycho</span></p>,\n",
       " <p><span style=\"color: #e843dd\">neoye samkkaji da (neoye samkkaji da)</span><br/>\n",
       " <span style=\"color: #e843dd\">Yeah we run it like it’s ours (Yeah we run it like it’s ours)</span><br/>\n",
       " <span style=\"color: #e843dd\">When we pull up domangga (domangga domangga Yeah)</span><br/>\n",
       " <span style=\"color: #e843dd\">taeweo da (taeweobeoryeo Yeah)</span><br/>\n",
       " <span style=\"color: #e843dd\">Light this place on fire (Light it up yeah)</span><br/>\n",
       " <span style=\"color: #e843dd\">Raging we’re raging Inferno</span></p>,\n",
       " <p><span style=\"color: #e843dd\">Main entertainment right now</span><br/>\n",
       " <span style=\"color: #e843dd\">What more do you desire right now, huh?</span><br/>\n",
       " <span style=\"color: #e843dd\">I they gon’ feel it</span><br/>\n",
       " <span style=\"color: #e843dd\">BM make it bang bang bang bang right now, huh?</span><br/>\n",
       " <span style=\"color: #e843dd\">naega seon wichiro shiseondeul ssollyeo</span><br/>\n",
       " <span style=\"color: #e843dd\">neoye gineun gugyeojeo gamyeo</span><br/>\n",
       " <span style=\"color: #e843dd\">uri gidaechi nopyeo sujundo ollyeo</span><br/>\n",
       " <span style=\"color: #e843dd\">We ain’t your average idol</span></p>,\n",
       " <p><span style=\"color: #3acde0\">Man I go fast like nitro</span><br/>\n",
       " <span style=\"color: #3acde0\">Think I just might take flight tho</span><br/>\n",
       " <span style=\"color: #3acde0\">goppireul pureobwa eolleun wa illo</span><br/>\n",
       " <span style=\"color: #3acde0\">ireon Trap wie nan Psycho</span></p>,\n",
       " <p><span style=\"color: #e843dd\">Man I go fast like nitro</span><br/>\n",
       " <span style=\"color: #e843dd\">Think I just might take flight tho</span><br/>\n",
       " <span style=\"color: #e843dd\">goppireul pureobwa eolleun wa illo</span><br/>\n",
       " <span style=\"color: #e843dd\">ireon Trap wie nan Psycho</span></p>,\n",
       " <p><span style=\"color: #3acde0\">neoye samkkaji da (neoye samkkaji da)</span><br/>\n",
       " <span style=\"color: #3acde0\">Yeah we run it like it’s ours (Yeah we run it like it’s ours)<br/>\n",
       " When we pull up domangga (domangga domangga Yeah)</span><br/>\n",
       " <span style=\"color: #3acde0\">taeweo da (taeweobeoryeo Yeah)</span><br/>\n",
       " <span style=\"color: #3acde0\">Light this place on fire (Light it up yeah)</span><br/>\n",
       " <span style=\"color: #3acde0\">Raging we’re raging Inferno</span></p>]"
      ]
     },
     "execution_count": 276,
     "metadata": {},
     "output_type": "execute_result"
    }
   ],
   "source": [
    "hmm5[7:15]"
   ]
  },
  {
   "cell_type": "code",
   "execution_count": 278,
   "metadata": {},
   "outputs": [
    {
     "data": {
      "text/plain": [
       "[<td><span style=\"color: #3acde0\">Yeah J Say<br/>\n",
       " 듣고 싶은 대로 막귀로</span><br/>\n",
       " <span style=\"color: #3acde0\">색안경엔 패악질로</span><br/>\n",
       " <span style=\"color: #3acde0\">스물둘 시기 치기 매한가진 Fair play</span><br/>\n",
       " <span style=\"color: #3acde0\">내 성공을 시기? 배 아픔</span><br/>\n",
       " <span style=\"color: #3acde0\">앙갚음 염두에 둘 겨를 없이 내 할 거</span><br/>\n",
       " <span style=\"color: #3acde0\">별 감정 없이 걔를 업신여겨 대할 뿐</span><br/>\n",
       " <span style=\"color: #3acde0\">겁이 나는 것들 중, 그중 한 8할쯤</span><br/>\n",
       " <span style=\"color: #3acde0\">가족 회사 친구 놈들의 기대치</span><br/>\n",
       " <span style=\"color: #3acde0\">마치 실망이란 덫이 두려 계약서 안 살아 시한부</span></td>,\n",
       " <p><span style=\"color: #e843dd\">Man I go fast like nitro</span><br/>\n",
       " <span style=\"color: #e843dd\">Think I just might take flight tho</span><br/>\n",
       " <span style=\"color: #e843dd\">고삐를 풀어봐 얼른 와 일로</span><br/>\n",
       " <span style=\"color: #e843dd\">이런 Trap 위에 난 Psycho</span></p>,\n",
       " <p><span style=\"color: #3acde0\">Man I go fast like nitro</span><br/>\n",
       " <span style=\"color: #3acde0\">Think I just might take flight tho</span><br/>\n",
       " <span style=\"color: #3acde0\">고삐를 풀어봐 얼른 와 일로</span><br/>\n",
       " <span style=\"color: #3acde0\">이런 Trap 위에 난 Psycho</span></p>,\n",
       " <p><span style=\"color: #e843dd\">너의 삶까지 다 (너의 삶까지 다)</span><br/>\n",
       " <span style=\"color: #e843dd\">Yeah we run it like it’s ours (Yeah we run it like it’s ours)</span><br/>\n",
       " <span style=\"color: #e843dd\">When we pull up 도망가 (도망가 도망가 Yeah)</span><br/>\n",
       " <span style=\"color: #e843dd\">태워 다 (태워버려 Yeah)</span><br/>\n",
       " <span style=\"color: #e843dd\">Light this place on fire (Light it up yeah)</span><br/>\n",
       " <span style=\"color: #e843dd\">Raging we’re raging Inferno</span></p>,\n",
       " <p><span style=\"color: #e843dd\">Main entertainment right now</span><br/>\n",
       " <span style=\"color: #e843dd\">What more do you desire right now, huh?</span><br/>\n",
       " <span style=\"color: #e843dd\">I they gon’ feel it</span><br/>\n",
       " <span style=\"color: #e843dd\">BM make it bang bang bang bang right now, huh?</span><br/>\n",
       " <span style=\"color: #e843dd\">내가 선 위치로 시선들 쏠려</span><br/>\n",
       " <span style=\"color: #e843dd\">너의 기는 구겨져 가며</span><br/>\n",
       " <span style=\"color: #e843dd\">우리 기대치 높여 수준도 올려</span><br/>\n",
       " <span style=\"color: #e843dd\">We ain’t your average idol</span></p>,\n",
       " <p><span style=\"color: #3acde0\">Man I go fast like nitro</span><br/>\n",
       " <span style=\"color: #3acde0\">Think I just might take flight tho</span><br/>\n",
       " <span style=\"color: #3acde0\">고삐를 풀어봐 얼른 와 일로</span><br/>\n",
       " <span style=\"color: #3acde0\">이런 Trap 위에 난 Psycho</span></p>,\n",
       " <p><span style=\"color: #e843dd\">Man I go fast like nitro</span><br/>\n",
       " <span style=\"color: #e843dd\">Think I just might take flight tho</span><br/>\n",
       " <span style=\"color: #e843dd\">고삐를 풀어봐 얼른 와 일로</span><br/>\n",
       " <span style=\"color: #e843dd\">이런 Trap 위에 난 Psycho</span></p>,\n",
       " <p><span style=\"color: #3acde0\">너의 삶까지 다 (너의 삶까지 다)</span><br/>\n",
       " <span style=\"color: #3acde0\">Yeah we run it like it’s ours (Yeah we run it like it’s ours)</span><br/>\n",
       " <span style=\"color: #3acde0\">When we pull up 도망가 (도망가 도망가 Yeah)</span><br/>\n",
       " <span style=\"color: #3acde0\">태워 다 (태워버려 Yeah)</span><br/>\n",
       " <span style=\"color: #3acde0\">Light this place on fire (Light it up yeah)</span><br/>\n",
       " <span style=\"color: #3acde0\">Raging we’re raging Inferno</span></p>]"
      ]
     },
     "execution_count": 278,
     "metadata": {},
     "output_type": "execute_result"
    }
   ],
   "source": [
    "hmm5[15:23]"
   ]
  },
  {
   "cell_type": "code",
   "execution_count": 487,
   "metadata": {},
   "outputs": [],
   "source": [
    "df = pd.DataFrame()\n",
    "\n",
    "for i in range(23,31):\n",
    "    lines = hmm5[i]\n",
    "    lines_series = pd.Series(lines.text.split('\\n'))\n",
    "    df = pd.concat([df, lines_series])\n",
    "    df = df[df[0]!=\"\"]\n",
    "df = df.rename(columns={0:'eng'})"
   ]
  },
  {
   "cell_type": "code",
   "execution_count": 488,
   "metadata": {},
   "outputs": [
    {
     "data": {
      "text/plain": [
       "(46, 1)"
      ]
     },
     "execution_count": 488,
     "metadata": {},
     "output_type": "execute_result"
    }
   ],
   "source": [
    "df.shape"
   ]
  },
  {
   "cell_type": "code",
   "execution_count": 489,
   "metadata": {},
   "outputs": [],
   "source": [
    "df2 = pd.DataFrame()\n",
    "\n",
    "for i in range(15,23):\n",
    "    lines = hmm5[i]\n",
    "    lines_series = pd.Series(lines.text.split('\\n'))\n",
    "    df2 = pd.concat([df2, lines_series])\n",
    "    df2 = df2[df2[0]!=\"\"]\n",
    "df2 = df2.rename(columns={0:'kor'})"
   ]
  },
  {
   "cell_type": "code",
   "execution_count": 490,
   "metadata": {},
   "outputs": [
    {
     "data": {
      "text/plain": [
       "(46, 1)"
      ]
     },
     "execution_count": 490,
     "metadata": {},
     "output_type": "execute_result"
    }
   ],
   "source": [
    "df2.shape"
   ]
  },
  {
   "cell_type": "code",
   "execution_count": 491,
   "metadata": {
    "scrolled": true
   },
   "outputs": [],
   "source": [
    "concatted = pd.concat([df,df2],axis=1)"
   ]
  },
  {
   "cell_type": "code",
   "execution_count": 492,
   "metadata": {},
   "outputs": [
    {
     "data": {
      "text/html": [
       "<div>\n",
       "<style scoped>\n",
       "    .dataframe tbody tr th:only-of-type {\n",
       "        vertical-align: middle;\n",
       "    }\n",
       "\n",
       "    .dataframe tbody tr th {\n",
       "        vertical-align: top;\n",
       "    }\n",
       "\n",
       "    .dataframe thead th {\n",
       "        text-align: right;\n",
       "    }\n",
       "</style>\n",
       "<table border=\"1\" class=\"dataframe\">\n",
       "  <thead>\n",
       "    <tr style=\"text-align: right;\">\n",
       "      <th></th>\n",
       "      <th>eng</th>\n",
       "      <th>kor</th>\n",
       "    </tr>\n",
       "  </thead>\n",
       "  <tbody>\n",
       "    <tr>\n",
       "      <th>0</th>\n",
       "      <td>Yeah J Say</td>\n",
       "      <td>Yeah J Say</td>\n",
       "    </tr>\n",
       "    <tr>\n",
       "      <th>1</th>\n",
       "      <td>Listen as I wish to hear, retaliate prejudice ...</td>\n",
       "      <td>듣고 싶은 대로 막귀로</td>\n",
       "    </tr>\n",
       "    <tr>\n",
       "      <th>2</th>\n",
       "      <td>At the age of twenty-two still childish, fair ...</td>\n",
       "      <td>색안경엔 패악질로</td>\n",
       "    </tr>\n",
       "    <tr>\n",
       "      <th>3</th>\n",
       "      <td>Jealous of my success? Turns green</td>\n",
       "      <td>스물둘 시기 치기 매한가진 Fair play</td>\n",
       "    </tr>\n",
       "    <tr>\n",
       "      <th>4</th>\n",
       "      <td>I just do my thing without having time to cons...</td>\n",
       "      <td>내 성공을 시기? 배 아픔</td>\n",
       "    </tr>\n",
       "    <tr>\n",
       "      <th>5</th>\n",
       "      <td>Just look down on them without any hard feelings</td>\n",
       "      <td>앙갚음 염두에 둘 겨를 없이 내 할 거</td>\n",
       "    </tr>\n",
       "    <tr>\n",
       "      <th>6</th>\n",
       "      <td>Things that scare me, about 80 percent of them</td>\n",
       "      <td>별 감정 없이 걔를 업신여겨 대할 뿐</td>\n",
       "    </tr>\n",
       "    <tr>\n",
       "      <th>7</th>\n",
       "      <td>Are the expectations from family, company and ...</td>\n",
       "      <td>겁이 나는 것들 중, 그중 한 8할쯤</td>\n",
       "    </tr>\n",
       "    <tr>\n",
       "      <th>8</th>\n",
       "      <td>The contract as if I’m scared of the trap call...</td>\n",
       "      <td>가족 회사 친구 놈들의 기대치</td>\n",
       "    </tr>\n",
       "    <tr>\n",
       "      <th>9</th>\n",
       "      <td>My days are not numbered</td>\n",
       "      <td>마치 실망이란 덫이 두려 계약서 안 살아 시한부</td>\n",
       "    </tr>\n",
       "    <tr>\n",
       "      <th>0</th>\n",
       "      <td>Man I go fast like nitro</td>\n",
       "      <td>Man I go fast like nitro</td>\n",
       "    </tr>\n",
       "    <tr>\n",
       "      <th>1</th>\n",
       "      <td>Think I just might take flight tho</td>\n",
       "      <td>Think I just might take flight tho</td>\n",
       "    </tr>\n",
       "    <tr>\n",
       "      <th>2</th>\n",
       "      <td>Unwind the rein, come here now</td>\n",
       "      <td>고삐를 풀어봐 얼른 와 일로</td>\n",
       "    </tr>\n",
       "    <tr>\n",
       "      <th>3</th>\n",
       "      <td>On this trap I’m psycho</td>\n",
       "      <td>이런 Trap 위에 난 Psycho</td>\n",
       "    </tr>\n",
       "    <tr>\n",
       "      <th>0</th>\n",
       "      <td>Man I go fast like nitro</td>\n",
       "      <td>Man I go fast like nitro</td>\n",
       "    </tr>\n",
       "    <tr>\n",
       "      <th>1</th>\n",
       "      <td>Think I just might take flight tho</td>\n",
       "      <td>Think I just might take flight tho</td>\n",
       "    </tr>\n",
       "    <tr>\n",
       "      <th>2</th>\n",
       "      <td>Unwind the rein, come here now</td>\n",
       "      <td>고삐를 풀어봐 얼른 와 일로</td>\n",
       "    </tr>\n",
       "    <tr>\n",
       "      <th>3</th>\n",
       "      <td>On this trap I’m psycho</td>\n",
       "      <td>이런 Trap 위에 난 Psycho</td>\n",
       "    </tr>\n",
       "    <tr>\n",
       "      <th>0</th>\n",
       "      <td>Everything including your life</td>\n",
       "      <td>너의 삶까지 다 (너의 삶까지 다)</td>\n",
       "    </tr>\n",
       "    <tr>\n",
       "      <th>1</th>\n",
       "      <td>Yeah we run it like it’s ours</td>\n",
       "      <td>Yeah we run it like it’s ours (Yeah we run it ...</td>\n",
       "    </tr>\n",
       "    <tr>\n",
       "      <th>2</th>\n",
       "      <td>When we pull up run away (Run away, run away y...</td>\n",
       "      <td>When we pull up 도망가 (도망가 도망가 Yeah)</td>\n",
       "    </tr>\n",
       "    <tr>\n",
       "      <th>3</th>\n",
       "      <td>Burn it all (Burn it all yeah)</td>\n",
       "      <td>태워 다 (태워버려 Yeah)</td>\n",
       "    </tr>\n",
       "    <tr>\n",
       "      <th>4</th>\n",
       "      <td>Light this place on fire (Light it up yeah)</td>\n",
       "      <td>Light this place on fire (Light it up yeah)</td>\n",
       "    </tr>\n",
       "    <tr>\n",
       "      <th>5</th>\n",
       "      <td>Raging we’re raging Inferno</td>\n",
       "      <td>Raging we’re raging Inferno</td>\n",
       "    </tr>\n",
       "    <tr>\n",
       "      <th>0</th>\n",
       "      <td>Main entertainment right now</td>\n",
       "      <td>Main entertainment right now</td>\n",
       "    </tr>\n",
       "    <tr>\n",
       "      <th>1</th>\n",
       "      <td>What more do you desire right now, huh?</td>\n",
       "      <td>What more do you desire right now, huh?</td>\n",
       "    </tr>\n",
       "    <tr>\n",
       "      <th>2</th>\n",
       "      <td>I they gon’ feel it</td>\n",
       "      <td>I they gon’ feel it</td>\n",
       "    </tr>\n",
       "    <tr>\n",
       "      <th>3</th>\n",
       "      <td>BM make it bang bang bang bang right now, huh?</td>\n",
       "      <td>BM make it bang bang bang bang right now, huh?</td>\n",
       "    </tr>\n",
       "    <tr>\n",
       "      <th>4</th>\n",
       "      <td>All eyes are on where I stand</td>\n",
       "      <td>내가 선 위치로 시선들 쏠려</td>\n",
       "    </tr>\n",
       "    <tr>\n",
       "      <th>5</th>\n",
       "      <td>Your spirit is lowered</td>\n",
       "      <td>너의 기는 구겨져 가며</td>\n",
       "    </tr>\n",
       "    <tr>\n",
       "      <th>6</th>\n",
       "      <td>Raise our expectation, raise our standard</td>\n",
       "      <td>우리 기대치 높여 수준도 올려</td>\n",
       "    </tr>\n",
       "    <tr>\n",
       "      <th>7</th>\n",
       "      <td>We ain’t your average idol</td>\n",
       "      <td>We ain’t your average idol</td>\n",
       "    </tr>\n",
       "    <tr>\n",
       "      <th>0</th>\n",
       "      <td>Man I go fast like nitro</td>\n",
       "      <td>Man I go fast like nitro</td>\n",
       "    </tr>\n",
       "    <tr>\n",
       "      <th>1</th>\n",
       "      <td>Think I just might take flight tho</td>\n",
       "      <td>Think I just might take flight tho</td>\n",
       "    </tr>\n",
       "    <tr>\n",
       "      <th>2</th>\n",
       "      <td>Unwind the rein, come here now</td>\n",
       "      <td>고삐를 풀어봐 얼른 와 일로</td>\n",
       "    </tr>\n",
       "    <tr>\n",
       "      <th>3</th>\n",
       "      <td>I’m Psycho on this trap</td>\n",
       "      <td>이런 Trap 위에 난 Psycho</td>\n",
       "    </tr>\n",
       "    <tr>\n",
       "      <th>0</th>\n",
       "      <td>Man I go fast like nitro</td>\n",
       "      <td>Man I go fast like nitro</td>\n",
       "    </tr>\n",
       "    <tr>\n",
       "      <th>1</th>\n",
       "      <td>Think I just might take flight tho</td>\n",
       "      <td>Think I just might take flight tho</td>\n",
       "    </tr>\n",
       "    <tr>\n",
       "      <th>2</th>\n",
       "      <td>Unwind the rein, come here now</td>\n",
       "      <td>고삐를 풀어봐 얼른 와 일로</td>\n",
       "    </tr>\n",
       "    <tr>\n",
       "      <th>3</th>\n",
       "      <td>I’m Psycho on this trap</td>\n",
       "      <td>이런 Trap 위에 난 Psycho</td>\n",
       "    </tr>\n",
       "    <tr>\n",
       "      <th>0</th>\n",
       "      <td>Everything including your life</td>\n",
       "      <td>너의 삶까지 다 (너의 삶까지 다)</td>\n",
       "    </tr>\n",
       "    <tr>\n",
       "      <th>1</th>\n",
       "      <td>Yeah we run it like it’s ours</td>\n",
       "      <td>Yeah we run it like it’s ours (Yeah we run it ...</td>\n",
       "    </tr>\n",
       "    <tr>\n",
       "      <th>2</th>\n",
       "      <td>When we pull up run away (Run away, run away y...</td>\n",
       "      <td>When we pull up 도망가 (도망가 도망가 Yeah)</td>\n",
       "    </tr>\n",
       "    <tr>\n",
       "      <th>3</th>\n",
       "      <td>Burn it all (Burn it all yeah)</td>\n",
       "      <td>태워 다 (태워버려 Yeah)</td>\n",
       "    </tr>\n",
       "    <tr>\n",
       "      <th>4</th>\n",
       "      <td>Light this place on fire (Light it up yeah)</td>\n",
       "      <td>Light this place on fire (Light it up yeah)</td>\n",
       "    </tr>\n",
       "    <tr>\n",
       "      <th>5</th>\n",
       "      <td>Raging we’re raging Inferno</td>\n",
       "      <td>Raging we’re raging Inferno</td>\n",
       "    </tr>\n",
       "  </tbody>\n",
       "</table>\n",
       "</div>"
      ],
      "text/plain": [
       "                                                 eng  \\\n",
       "0                                         Yeah J Say   \n",
       "1  Listen as I wish to hear, retaliate prejudice ...   \n",
       "2  At the age of twenty-two still childish, fair ...   \n",
       "3                 Jealous of my success? Turns green   \n",
       "4  I just do my thing without having time to cons...   \n",
       "5   Just look down on them without any hard feelings   \n",
       "6     Things that scare me, about 80 percent of them   \n",
       "7  Are the expectations from family, company and ...   \n",
       "8  The contract as if I’m scared of the trap call...   \n",
       "9                           My days are not numbered   \n",
       "0                           Man I go fast like nitro   \n",
       "1                 Think I just might take flight tho   \n",
       "2                     Unwind the rein, come here now   \n",
       "3                            On this trap I’m psycho   \n",
       "0                           Man I go fast like nitro   \n",
       "1                 Think I just might take flight tho   \n",
       "2                     Unwind the rein, come here now   \n",
       "3                            On this trap I’m psycho   \n",
       "0                     Everything including your life   \n",
       "1                      Yeah we run it like it’s ours   \n",
       "2  When we pull up run away (Run away, run away y...   \n",
       "3                     Burn it all (Burn it all yeah)   \n",
       "4        Light this place on fire (Light it up yeah)   \n",
       "5                        Raging we’re raging Inferno   \n",
       "0                       Main entertainment right now   \n",
       "1            What more do you desire right now, huh?   \n",
       "2                                I they gon’ feel it   \n",
       "3     BM make it bang bang bang bang right now, huh?   \n",
       "4                      All eyes are on where I stand   \n",
       "5                             Your spirit is lowered   \n",
       "6          Raise our expectation, raise our standard   \n",
       "7                         We ain’t your average idol   \n",
       "0                           Man I go fast like nitro   \n",
       "1                 Think I just might take flight tho   \n",
       "2                     Unwind the rein, come here now   \n",
       "3                            I’m Psycho on this trap   \n",
       "0                           Man I go fast like nitro   \n",
       "1                 Think I just might take flight tho   \n",
       "2                     Unwind the rein, come here now   \n",
       "3                            I’m Psycho on this trap   \n",
       "0                     Everything including your life   \n",
       "1                      Yeah we run it like it’s ours   \n",
       "2  When we pull up run away (Run away, run away y...   \n",
       "3                     Burn it all (Burn it all yeah)   \n",
       "4        Light this place on fire (Light it up yeah)   \n",
       "5                        Raging we’re raging Inferno   \n",
       "\n",
       "                                                 kor  \n",
       "0                                         Yeah J Say  \n",
       "1                                       듣고 싶은 대로 막귀로  \n",
       "2                                          색안경엔 패악질로  \n",
       "3                           스물둘 시기 치기 매한가진 Fair play  \n",
       "4                                     내 성공을 시기? 배 아픔  \n",
       "5                              앙갚음 염두에 둘 겨를 없이 내 할 거  \n",
       "6                               별 감정 없이 걔를 업신여겨 대할 뿐  \n",
       "7                               겁이 나는 것들 중, 그중 한 8할쯤  \n",
       "8                                   가족 회사 친구 놈들의 기대치  \n",
       "9                         마치 실망이란 덫이 두려 계약서 안 살아 시한부  \n",
       "0                           Man I go fast like nitro  \n",
       "1                 Think I just might take flight tho  \n",
       "2                                    고삐를 풀어봐 얼른 와 일로  \n",
       "3                                이런 Trap 위에 난 Psycho  \n",
       "0                           Man I go fast like nitro  \n",
       "1                 Think I just might take flight tho  \n",
       "2                                    고삐를 풀어봐 얼른 와 일로  \n",
       "3                                이런 Trap 위에 난 Psycho  \n",
       "0                                너의 삶까지 다 (너의 삶까지 다)  \n",
       "1  Yeah we run it like it’s ours (Yeah we run it ...  \n",
       "2                 When we pull up 도망가 (도망가 도망가 Yeah)  \n",
       "3                                   태워 다 (태워버려 Yeah)  \n",
       "4        Light this place on fire (Light it up yeah)  \n",
       "5                        Raging we’re raging Inferno  \n",
       "0                       Main entertainment right now  \n",
       "1            What more do you desire right now, huh?  \n",
       "2                                I they gon’ feel it  \n",
       "3     BM make it bang bang bang bang right now, huh?  \n",
       "4                                    내가 선 위치로 시선들 쏠려  \n",
       "5                                       너의 기는 구겨져 가며  \n",
       "6                                   우리 기대치 높여 수준도 올려  \n",
       "7                         We ain’t your average idol  \n",
       "0                           Man I go fast like nitro  \n",
       "1                 Think I just might take flight tho  \n",
       "2                                    고삐를 풀어봐 얼른 와 일로  \n",
       "3                                이런 Trap 위에 난 Psycho  \n",
       "0                           Man I go fast like nitro  \n",
       "1                 Think I just might take flight tho  \n",
       "2                                    고삐를 풀어봐 얼른 와 일로  \n",
       "3                                이런 Trap 위에 난 Psycho  \n",
       "0                                너의 삶까지 다 (너의 삶까지 다)  \n",
       "1  Yeah we run it like it’s ours (Yeah we run it ...  \n",
       "2                 When we pull up 도망가 (도망가 도망가 Yeah)  \n",
       "3                                   태워 다 (태워버려 Yeah)  \n",
       "4        Light this place on fire (Light it up yeah)  \n",
       "5                        Raging we’re raging Inferno  "
      ]
     },
     "execution_count": 492,
     "metadata": {},
     "output_type": "execute_result"
    }
   ],
   "source": [
    "concatted"
   ]
  },
  {
   "cell_type": "code",
   "execution_count": 496,
   "metadata": {},
   "outputs": [
    {
     "data": {
      "text/html": [
       "<div>\n",
       "<style scoped>\n",
       "    .dataframe tbody tr th:only-of-type {\n",
       "        vertical-align: middle;\n",
       "    }\n",
       "\n",
       "    .dataframe tbody tr th {\n",
       "        vertical-align: top;\n",
       "    }\n",
       "\n",
       "    .dataframe thead th {\n",
       "        text-align: right;\n",
       "    }\n",
       "</style>\n",
       "<table border=\"1\" class=\"dataframe\">\n",
       "  <thead>\n",
       "    <tr style=\"text-align: right;\">\n",
       "      <th></th>\n",
       "      <th>eng</th>\n",
       "      <th>kor</th>\n",
       "    </tr>\n",
       "  </thead>\n",
       "  <tbody>\n",
       "    <tr>\n",
       "      <th>0</th>\n",
       "      <td>Yeah J Say</td>\n",
       "      <td>Yeah J Say</td>\n",
       "    </tr>\n",
       "    <tr>\n",
       "      <th>1</th>\n",
       "      <td>Listen as I wish to hear, retaliate prejudice ...</td>\n",
       "      <td>듣고 싶은 대로 막귀로</td>\n",
       "    </tr>\n",
       "    <tr>\n",
       "      <th>2</th>\n",
       "      <td>At the age of twenty-two still childish, fair ...</td>\n",
       "      <td>색안경엔 패악질로</td>\n",
       "    </tr>\n",
       "    <tr>\n",
       "      <th>3</th>\n",
       "      <td>Jealous of my success? Turns green</td>\n",
       "      <td>스물둘 시기 치기 매한가진 Fair play</td>\n",
       "    </tr>\n",
       "    <tr>\n",
       "      <th>4</th>\n",
       "      <td>I just do my thing without having time to cons...</td>\n",
       "      <td>내 성공을 시기? 배 아픔</td>\n",
       "    </tr>\n",
       "    <tr>\n",
       "      <th>...</th>\n",
       "      <td>...</td>\n",
       "      <td>...</td>\n",
       "    </tr>\n",
       "    <tr>\n",
       "      <th>1</th>\n",
       "      <td>Yeah we run it like it’s ours</td>\n",
       "      <td>Yeah we run it like it’s ours (Yeah we run it ...</td>\n",
       "    </tr>\n",
       "    <tr>\n",
       "      <th>2</th>\n",
       "      <td>When we pull up run away (Run away, run away y...</td>\n",
       "      <td>When we pull up 도망가 (도망가 도망가 Yeah)</td>\n",
       "    </tr>\n",
       "    <tr>\n",
       "      <th>3</th>\n",
       "      <td>Burn it all (Burn it all yeah)</td>\n",
       "      <td>태워 다 (태워버려 Yeah)</td>\n",
       "    </tr>\n",
       "    <tr>\n",
       "      <th>4</th>\n",
       "      <td>Light this place on fire (Light it up yeah)</td>\n",
       "      <td>Light this place on fire (Light it up yeah)</td>\n",
       "    </tr>\n",
       "    <tr>\n",
       "      <th>5</th>\n",
       "      <td>Raging we’re raging Inferno</td>\n",
       "      <td>Raging we’re raging Inferno</td>\n",
       "    </tr>\n",
       "  </tbody>\n",
       "</table>\n",
       "<p>92 rows × 2 columns</p>\n",
       "</div>"
      ],
      "text/plain": [
       "                                                  eng  \\\n",
       "0                                          Yeah J Say   \n",
       "1   Listen as I wish to hear, retaliate prejudice ...   \n",
       "2   At the age of twenty-two still childish, fair ...   \n",
       "3                  Jealous of my success? Turns green   \n",
       "4   I just do my thing without having time to cons...   \n",
       "..                                                ...   \n",
       "1                       Yeah we run it like it’s ours   \n",
       "2   When we pull up run away (Run away, run away y...   \n",
       "3                      Burn it all (Burn it all yeah)   \n",
       "4         Light this place on fire (Light it up yeah)   \n",
       "5                         Raging we’re raging Inferno   \n",
       "\n",
       "                                                  kor  \n",
       "0                                          Yeah J Say  \n",
       "1                                        듣고 싶은 대로 막귀로  \n",
       "2                                           색안경엔 패악질로  \n",
       "3                            스물둘 시기 치기 매한가진 Fair play  \n",
       "4                                      내 성공을 시기? 배 아픔  \n",
       "..                                                ...  \n",
       "1   Yeah we run it like it’s ours (Yeah we run it ...  \n",
       "2                  When we pull up 도망가 (도망가 도망가 Yeah)  \n",
       "3                                    태워 다 (태워버려 Yeah)  \n",
       "4         Light this place on fire (Light it up yeah)  \n",
       "5                         Raging we’re raging Inferno  \n",
       "\n",
       "[92 rows x 2 columns]"
      ]
     },
     "execution_count": 496,
     "metadata": {},
     "output_type": "execute_result"
    }
   ],
   "source": [
    "pd.concat([concatted,concatted])"
   ]
  },
  {
   "cell_type": "code",
   "execution_count": 447,
   "metadata": {},
   "outputs": [
    {
     "data": {
      "text/html": [
       "<div>\n",
       "<style scoped>\n",
       "    .dataframe tbody tr th:only-of-type {\n",
       "        vertical-align: middle;\n",
       "    }\n",
       "\n",
       "    .dataframe tbody tr th {\n",
       "        vertical-align: top;\n",
       "    }\n",
       "\n",
       "    .dataframe thead th {\n",
       "        text-align: right;\n",
       "    }\n",
       "</style>\n",
       "<table border=\"1\" class=\"dataframe\">\n",
       "  <thead>\n",
       "    <tr style=\"text-align: right;\">\n",
       "      <th></th>\n",
       "      <th>eng</th>\n",
       "      <th>kor</th>\n",
       "    </tr>\n",
       "  </thead>\n",
       "  <tbody>\n",
       "    <tr>\n",
       "      <th>0</th>\n",
       "      <td>Yeah J Say</td>\n",
       "      <td>Yeah J Say</td>\n",
       "    </tr>\n",
       "    <tr>\n",
       "      <th>1</th>\n",
       "      <td>Listen as I wish to hear, retaliate prejudice ...</td>\n",
       "      <td>듣고 싶은 대로 막귀로</td>\n",
       "    </tr>\n",
       "    <tr>\n",
       "      <th>2</th>\n",
       "      <td>At the age of twenty-two still childish, fair ...</td>\n",
       "      <td>색안경엔 패악질로</td>\n",
       "    </tr>\n",
       "    <tr>\n",
       "      <th>3</th>\n",
       "      <td>Jealous of my success? Turns green</td>\n",
       "      <td>스물둘 시기 치기 매한가진 Fair play</td>\n",
       "    </tr>\n",
       "    <tr>\n",
       "      <th>4</th>\n",
       "      <td>I just do my thing without having time to cons...</td>\n",
       "      <td>내 성공을 시기? 배 아픔</td>\n",
       "    </tr>\n",
       "    <tr>\n",
       "      <th>...</th>\n",
       "      <td>...</td>\n",
       "      <td>...</td>\n",
       "    </tr>\n",
       "    <tr>\n",
       "      <th>7</th>\n",
       "      <td>a lot of feelings going on at 2am</td>\n",
       "      <td>만감이 교차하는 새벽 2시경</td>\n",
       "    </tr>\n",
       "    <tr>\n",
       "      <th>8</th>\n",
       "      <td>drinks mixed with emotions into a whirlwind</td>\n",
       "      <td>술잔과 감정이 소용돌이쳐</td>\n",
       "    </tr>\n",
       "    <tr>\n",
       "      <th>8</th>\n",
       "      <td>just put on any</td>\n",
       "      <td>아무 노래나 일단</td>\n",
       "    </tr>\n",
       "    <tr>\n",
       "      <th>0</th>\n",
       "      <td>just put on any song</td>\n",
       "      <td>아무 노래 아무 노래 아무 노래나 틀어봐</td>\n",
       "    </tr>\n",
       "    <tr>\n",
       "      <th>3</th>\n",
       "      <td>just put on any song koz</td>\n",
       "      <td>아무 노래 아무 노래 아무 노래나 koz</td>\n",
       "    </tr>\n",
       "  </tbody>\n",
       "</table>\n",
       "<p>88 rows × 2 columns</p>\n",
       "</div>"
      ],
      "text/plain": [
       "                                                  eng  \\\n",
       "0                                          Yeah J Say   \n",
       "1   Listen as I wish to hear, retaliate prejudice ...   \n",
       "2   At the age of twenty-two still childish, fair ...   \n",
       "3                  Jealous of my success? Turns green   \n",
       "4   I just do my thing without having time to cons...   \n",
       "..                                                ...   \n",
       "7                   a lot of feelings going on at 2am   \n",
       "8         drinks mixed with emotions into a whirlwind   \n",
       "8                                     just put on any   \n",
       "0                                just put on any song   \n",
       "3                            just put on any song koz   \n",
       "\n",
       "                         kor  \n",
       "0                 Yeah J Say  \n",
       "1               듣고 싶은 대로 막귀로  \n",
       "2                  색안경엔 패악질로  \n",
       "3   스물둘 시기 치기 매한가진 Fair play  \n",
       "4             내 성공을 시기? 배 아픔  \n",
       "..                       ...  \n",
       "7            만감이 교차하는 새벽 2시경  \n",
       "8              술잔과 감정이 소용돌이쳐  \n",
       "8                  아무 노래나 일단  \n",
       "0     아무 노래 아무 노래 아무 노래나 틀어봐  \n",
       "3     아무 노래 아무 노래 아무 노래나 koz  \n",
       "\n",
       "[88 rows x 2 columns]"
      ]
     },
     "execution_count": 447,
     "metadata": {},
     "output_type": "execute_result"
    }
   ],
   "source": [
    "concatted.append(concatted2)"
   ]
  },
  {
   "cell_type": "code",
   "execution_count": null,
   "metadata": {},
   "outputs": [],
   "source": []
  },
  {
   "cell_type": "code",
   "execution_count": null,
   "metadata": {},
   "outputs": [],
   "source": []
  },
  {
   "cell_type": "code",
   "execution_count": 384,
   "metadata": {},
   "outputs": [],
   "source": [
    "dftest = pd.read_csv('C:/Users/jooki/Documents/Galvanize/capstone3/kor.txt',sep=\"\t\",header=None)"
   ]
  },
  {
   "cell_type": "code",
   "execution_count": 385,
   "metadata": {},
   "outputs": [
    {
     "data": {
      "text/html": [
       "<div>\n",
       "<style scoped>\n",
       "    .dataframe tbody tr th:only-of-type {\n",
       "        vertical-align: middle;\n",
       "    }\n",
       "\n",
       "    .dataframe tbody tr th {\n",
       "        vertical-align: top;\n",
       "    }\n",
       "\n",
       "    .dataframe thead th {\n",
       "        text-align: right;\n",
       "    }\n",
       "</style>\n",
       "<table border=\"1\" class=\"dataframe\">\n",
       "  <thead>\n",
       "    <tr style=\"text-align: right;\">\n",
       "      <th></th>\n",
       "      <th>0</th>\n",
       "      <th>1</th>\n",
       "      <th>2</th>\n",
       "    </tr>\n",
       "  </thead>\n",
       "  <tbody>\n",
       "    <tr>\n",
       "      <th>0</th>\n",
       "      <td>Go.</td>\n",
       "      <td>가.</td>\n",
       "      <td>CC-BY 2.0 (France) Attribution: tatoeba.org #2...</td>\n",
       "    </tr>\n",
       "    <tr>\n",
       "      <th>1</th>\n",
       "      <td>Hi.</td>\n",
       "      <td>안녕.</td>\n",
       "      <td>CC-BY 2.0 (France) Attribution: tatoeba.org #5...</td>\n",
       "    </tr>\n",
       "    <tr>\n",
       "      <th>2</th>\n",
       "      <td>Run!</td>\n",
       "      <td>뛰어!</td>\n",
       "      <td>CC-BY 2.0 (France) Attribution: tatoeba.org #9...</td>\n",
       "    </tr>\n",
       "    <tr>\n",
       "      <th>3</th>\n",
       "      <td>Run.</td>\n",
       "      <td>뛰어.</td>\n",
       "      <td>CC-BY 2.0 (France) Attribution: tatoeba.org #4...</td>\n",
       "    </tr>\n",
       "    <tr>\n",
       "      <th>4</th>\n",
       "      <td>Who?</td>\n",
       "      <td>누구?</td>\n",
       "      <td>CC-BY 2.0 (France) Attribution: tatoeba.org #2...</td>\n",
       "    </tr>\n",
       "    <tr>\n",
       "      <th>...</th>\n",
       "      <td>...</td>\n",
       "      <td>...</td>\n",
       "      <td>...</td>\n",
       "    </tr>\n",
       "    <tr>\n",
       "      <th>3313</th>\n",
       "      <td>Tom always cried when his sister took away his...</td>\n",
       "      <td>톰은 누나가 자기 장난감을 빼앗아 갔을 때마다 울음을 터뜨렸고, 누나는 바로 그런 ...</td>\n",
       "      <td>CC-BY 2.0 (France) Attribution: tatoeba.org #8...</td>\n",
       "    </tr>\n",
       "    <tr>\n",
       "      <th>3314</th>\n",
       "      <td>Science fiction has undoubtedly been the inspi...</td>\n",
       "      <td>공상 과학 소설은 의심의 여지 없이 오늘날 존재하는 많은 기술에 영감을 주었어.</td>\n",
       "      <td>CC-BY 2.0 (France) Attribution: tatoeba.org #6...</td>\n",
       "    </tr>\n",
       "    <tr>\n",
       "      <th>3315</th>\n",
       "      <td>I started a new blog. I'll do my best not to b...</td>\n",
       "      <td>난 블로그를 시작했어. 블로그를 초반에만 반짝 많이 하다가 관두는 사람처럼은 되지 ...</td>\n",
       "      <td>CC-BY 2.0 (France) Attribution: tatoeba.org #1...</td>\n",
       "    </tr>\n",
       "    <tr>\n",
       "      <th>3316</th>\n",
       "      <td>I think it's a shame that some foreign languag...</td>\n",
       "      <td>몇몇 외국어 선생님이 한 번도 원어민과 공부해본 적도 없으면서 대학을 나올 수 있었...</td>\n",
       "      <td>CC-BY 2.0 (France) Attribution: tatoeba.org #9...</td>\n",
       "    </tr>\n",
       "    <tr>\n",
       "      <th>3317</th>\n",
       "      <td>Doubtless there exists in this world precisely...</td>\n",
       "      <td>의심의 여지 없이 세상에는 어떤 남자이든 정확히 딱 알맞는 여자와 결혼하거나 그 반...</td>\n",
       "      <td>CC-BY 2.0 (France) Attribution: tatoeba.org #7...</td>\n",
       "    </tr>\n",
       "  </tbody>\n",
       "</table>\n",
       "<p>3318 rows × 3 columns</p>\n",
       "</div>"
      ],
      "text/plain": [
       "                                                      0  \\\n",
       "0                                                   Go.   \n",
       "1                                                   Hi.   \n",
       "2                                                  Run!   \n",
       "3                                                  Run.   \n",
       "4                                                  Who?   \n",
       "...                                                 ...   \n",
       "3313  Tom always cried when his sister took away his...   \n",
       "3314  Science fiction has undoubtedly been the inspi...   \n",
       "3315  I started a new blog. I'll do my best not to b...   \n",
       "3316  I think it's a shame that some foreign languag...   \n",
       "3317  Doubtless there exists in this world precisely...   \n",
       "\n",
       "                                                      1  \\\n",
       "0                                                    가.   \n",
       "1                                                   안녕.   \n",
       "2                                                   뛰어!   \n",
       "3                                                   뛰어.   \n",
       "4                                                   누구?   \n",
       "...                                                 ...   \n",
       "3313  톰은 누나가 자기 장난감을 빼앗아 갔을 때마다 울음을 터뜨렸고, 누나는 바로 그런 ...   \n",
       "3314       공상 과학 소설은 의심의 여지 없이 오늘날 존재하는 많은 기술에 영감을 주었어.   \n",
       "3315  난 블로그를 시작했어. 블로그를 초반에만 반짝 많이 하다가 관두는 사람처럼은 되지 ...   \n",
       "3316  몇몇 외국어 선생님이 한 번도 원어민과 공부해본 적도 없으면서 대학을 나올 수 있었...   \n",
       "3317  의심의 여지 없이 세상에는 어떤 남자이든 정확히 딱 알맞는 여자와 결혼하거나 그 반...   \n",
       "\n",
       "                                                      2  \n",
       "0     CC-BY 2.0 (France) Attribution: tatoeba.org #2...  \n",
       "1     CC-BY 2.0 (France) Attribution: tatoeba.org #5...  \n",
       "2     CC-BY 2.0 (France) Attribution: tatoeba.org #9...  \n",
       "3     CC-BY 2.0 (France) Attribution: tatoeba.org #4...  \n",
       "4     CC-BY 2.0 (France) Attribution: tatoeba.org #2...  \n",
       "...                                                 ...  \n",
       "3313  CC-BY 2.0 (France) Attribution: tatoeba.org #8...  \n",
       "3314  CC-BY 2.0 (France) Attribution: tatoeba.org #6...  \n",
       "3315  CC-BY 2.0 (France) Attribution: tatoeba.org #1...  \n",
       "3316  CC-BY 2.0 (France) Attribution: tatoeba.org #9...  \n",
       "3317  CC-BY 2.0 (France) Attribution: tatoeba.org #7...  \n",
       "\n",
       "[3318 rows x 3 columns]"
      ]
     },
     "execution_count": 385,
     "metadata": {},
     "output_type": "execute_result"
    }
   ],
   "source": [
    "dftest"
   ]
  },
  {
   "cell_type": "code",
   "execution_count": null,
   "metadata": {},
   "outputs": [],
   "source": []
  },
  {
   "cell_type": "code",
   "execution_count": null,
   "metadata": {},
   "outputs": [],
   "source": []
  },
  {
   "cell_type": "code",
   "execution_count": null,
   "metadata": {},
   "outputs": [],
   "source": []
  },
  {
   "cell_type": "code",
   "execution_count": 420,
   "metadata": {},
   "outputs": [],
   "source": [
    "df3 = pd.DataFrame()\n",
    "\n",
    "for i in range(18,29):\n",
    "    lines = hmm[i]\n",
    "    lines_series = pd.Series(lines.text.lower().split('\\n'))\n",
    "    df3 = pd.concat([df3, lines_series])\n",
    "    df3 = df3[df3[0]!=\"\"]\n",
    "df3 = df3.rename(columns={0:'kor'})"
   ]
  },
  {
   "cell_type": "code",
   "execution_count": 421,
   "metadata": {},
   "outputs": [
    {
     "data": {
      "text/html": [
       "<div>\n",
       "<style scoped>\n",
       "    .dataframe tbody tr th:only-of-type {\n",
       "        vertical-align: middle;\n",
       "    }\n",
       "\n",
       "    .dataframe tbody tr th {\n",
       "        vertical-align: top;\n",
       "    }\n",
       "\n",
       "    .dataframe thead th {\n",
       "        text-align: right;\n",
       "    }\n",
       "</style>\n",
       "<table border=\"1\" class=\"dataframe\">\n",
       "  <thead>\n",
       "    <tr style=\"text-align: right;\">\n",
       "      <th></th>\n",
       "      <th>kor</th>\n",
       "    </tr>\n",
       "  </thead>\n",
       "  <tbody>\n",
       "    <tr>\n",
       "      <th>0</th>\n",
       "      <td>왜들 그리 다운돼있어?</td>\n",
       "    </tr>\n",
       "    <tr>\n",
       "      <th>1</th>\n",
       "      <td>뭐가 문제야 say something</td>\n",
       "    </tr>\n",
       "    <tr>\n",
       "      <th>2</th>\n",
       "      <td>분위기가 겁나 싸해</td>\n",
       "    </tr>\n",
       "    <tr>\n",
       "      <th>3</th>\n",
       "      <td>요새는 이런 게 유행인가</td>\n",
       "    </tr>\n",
       "    <tr>\n",
       "      <th>4</th>\n",
       "      <td>왜들 그리 재미없어?</td>\n",
       "    </tr>\n",
       "    <tr>\n",
       "      <th>...</th>\n",
       "      <td>...</td>\n",
       "    </tr>\n",
       "    <tr>\n",
       "      <th>8</th>\n",
       "      <td>아무 노래나 일단</td>\n",
       "    </tr>\n",
       "    <tr>\n",
       "      <th>0</th>\n",
       "      <td>아무 노래 아무 노래 아무 노래나 틀어봐</td>\n",
       "    </tr>\n",
       "    <tr>\n",
       "      <th>1</th>\n",
       "      <td>아무 노래 아무 노래 아무 노래나 틀어봐</td>\n",
       "    </tr>\n",
       "    <tr>\n",
       "      <th>2</th>\n",
       "      <td>아무 노래 아무 노래 아무 노래나 틀어봐</td>\n",
       "    </tr>\n",
       "    <tr>\n",
       "      <th>3</th>\n",
       "      <td>아무 노래 아무 노래 아무 노래나 koz</td>\n",
       "    </tr>\n",
       "  </tbody>\n",
       "</table>\n",
       "<p>82 rows × 1 columns</p>\n",
       "</div>"
      ],
      "text/plain": [
       "                       kor\n",
       "0             왜들 그리 다운돼있어?\n",
       "1     뭐가 문제야 say something\n",
       "2               분위기가 겁나 싸해\n",
       "3            요새는 이런 게 유행인가\n",
       "4              왜들 그리 재미없어?\n",
       "..                     ...\n",
       "8                아무 노래나 일단\n",
       "0   아무 노래 아무 노래 아무 노래나 틀어봐\n",
       "1   아무 노래 아무 노래 아무 노래나 틀어봐\n",
       "2   아무 노래 아무 노래 아무 노래나 틀어봐\n",
       "3   아무 노래 아무 노래 아무 노래나 koz\n",
       "\n",
       "[82 rows x 1 columns]"
      ]
     },
     "execution_count": 421,
     "metadata": {},
     "output_type": "execute_result"
    }
   ],
   "source": [
    "df3"
   ]
  },
  {
   "cell_type": "code",
   "execution_count": 422,
   "metadata": {},
   "outputs": [],
   "source": [
    "df4 = pd.DataFrame()\n",
    "\n",
    "for i in range(29,40):\n",
    "    lines = hmm[i]\n",
    "    lines_series = pd.Series(lines.text.lower().split('\\n'))\n",
    "    df4 = pd.concat([df4, lines_series])\n",
    "    df4 = df4[df4[0]!=\"\"]\n",
    "df4 = df4.rename(columns={0:'eng'})"
   ]
  },
  {
   "cell_type": "code",
   "execution_count": 423,
   "metadata": {},
   "outputs": [
    {
     "data": {
      "text/html": [
       "<div>\n",
       "<style scoped>\n",
       "    .dataframe tbody tr th:only-of-type {\n",
       "        vertical-align: middle;\n",
       "    }\n",
       "\n",
       "    .dataframe tbody tr th {\n",
       "        vertical-align: top;\n",
       "    }\n",
       "\n",
       "    .dataframe thead th {\n",
       "        text-align: right;\n",
       "    }\n",
       "</style>\n",
       "<table border=\"1\" class=\"dataframe\">\n",
       "  <thead>\n",
       "    <tr style=\"text-align: right;\">\n",
       "      <th></th>\n",
       "      <th>eng</th>\n",
       "    </tr>\n",
       "  </thead>\n",
       "  <tbody>\n",
       "    <tr>\n",
       "      <th>0</th>\n",
       "      <td>why is everyone so down?</td>\n",
       "    </tr>\n",
       "    <tr>\n",
       "      <th>1</th>\n",
       "      <td>what’s the problem, say something</td>\n",
       "    </tr>\n",
       "    <tr>\n",
       "      <th>2</th>\n",
       "      <td>it’s so icy here</td>\n",
       "    </tr>\n",
       "    <tr>\n",
       "      <th>3</th>\n",
       "      <td>is this the trend these days?</td>\n",
       "    </tr>\n",
       "    <tr>\n",
       "      <th>4</th>\n",
       "      <td>why is everyone so boring?</td>\n",
       "    </tr>\n",
       "    <tr>\n",
       "      <th>...</th>\n",
       "      <td>...</td>\n",
       "    </tr>\n",
       "    <tr>\n",
       "      <th>8</th>\n",
       "      <td>just put on any</td>\n",
       "    </tr>\n",
       "    <tr>\n",
       "      <th>0</th>\n",
       "      <td>just put on any song</td>\n",
       "    </tr>\n",
       "    <tr>\n",
       "      <th>1</th>\n",
       "      <td>just put on any song</td>\n",
       "    </tr>\n",
       "    <tr>\n",
       "      <th>2</th>\n",
       "      <td>just put on any song</td>\n",
       "    </tr>\n",
       "    <tr>\n",
       "      <th>3</th>\n",
       "      <td>just put on any song koz</td>\n",
       "    </tr>\n",
       "  </tbody>\n",
       "</table>\n",
       "<p>82 rows × 1 columns</p>\n",
       "</div>"
      ],
      "text/plain": [
       "                                  eng\n",
       "0            why is everyone so down?\n",
       "1   what’s the problem, say something\n",
       "2                    it’s so icy here\n",
       "3       is this the trend these days?\n",
       "4          why is everyone so boring?\n",
       "..                                ...\n",
       "8                     just put on any\n",
       "0                just put on any song\n",
       "1                just put on any song\n",
       "2                just put on any song\n",
       "3            just put on any song koz\n",
       "\n",
       "[82 rows x 1 columns]"
      ]
     },
     "execution_count": 423,
     "metadata": {},
     "output_type": "execute_result"
    }
   ],
   "source": [
    "df4"
   ]
  },
  {
   "cell_type": "code",
   "execution_count": 432,
   "metadata": {},
   "outputs": [],
   "source": [
    "concatted2 = pd.concat([df4,df3],axis=1)"
   ]
  },
  {
   "cell_type": "code",
   "execution_count": 433,
   "metadata": {
    "scrolled": false
   },
   "outputs": [],
   "source": [
    "concatted2 = concatted2.drop_duplicates()"
   ]
  },
  {
   "cell_type": "code",
   "execution_count": 435,
   "metadata": {},
   "outputs": [],
   "source": [
    "concatted2 = concatted2.query(\"eng != kor\")"
   ]
  },
  {
   "cell_type": "code",
   "execution_count": 437,
   "metadata": {},
   "outputs": [
    {
     "data": {
      "text/plain": [
       "(42, 2)"
      ]
     },
     "execution_count": 437,
     "metadata": {},
     "output_type": "execute_result"
    }
   ],
   "source": [
    "concatted2.shape"
   ]
  },
  {
   "cell_type": "code",
   "execution_count": null,
   "metadata": {},
   "outputs": [],
   "source": []
  },
  {
   "cell_type": "code",
   "execution_count": null,
   "metadata": {},
   "outputs": [],
   "source": []
  },
  {
   "cell_type": "code",
   "execution_count": null,
   "metadata": {},
   "outputs": [],
   "source": []
  },
  {
   "cell_type": "code",
   "execution_count": 468,
   "metadata": {},
   "outputs": [],
   "source": [
    "c = len(hmm) - 3\n",
    "d = c - 7\n",
    "e = int(d/3)\n",
    "a = e + 7\n",
    "b = e + a"
   ]
  },
  {
   "cell_type": "code",
   "execution_count": 469,
   "metadata": {},
   "outputs": [
    {
     "data": {
      "text/plain": [
       "40"
      ]
     },
     "execution_count": 469,
     "metadata": {},
     "output_type": "execute_result"
    }
   ],
   "source": [
    "c"
   ]
  },
  {
   "cell_type": "code",
   "execution_count": 470,
   "metadata": {},
   "outputs": [
    {
     "data": {
      "text/plain": [
       "18"
      ]
     },
     "execution_count": 470,
     "metadata": {},
     "output_type": "execute_result"
    }
   ],
   "source": [
    "a"
   ]
  },
  {
   "cell_type": "code",
   "execution_count": 471,
   "metadata": {},
   "outputs": [
    {
     "data": {
      "text/plain": [
       "29"
      ]
     },
     "execution_count": 471,
     "metadata": {},
     "output_type": "execute_result"
    }
   ],
   "source": [
    "b"
   ]
  },
  {
   "cell_type": "code",
   "execution_count": 472,
   "metadata": {},
   "outputs": [
    {
     "data": {
      "text/plain": [
       "40"
      ]
     },
     "execution_count": 472,
     "metadata": {},
     "output_type": "execute_result"
    }
   ],
   "source": [
    "c"
   ]
  },
  {
   "cell_type": "code",
   "execution_count": 473,
   "metadata": {},
   "outputs": [
    {
     "data": {
      "text/plain": [
       "33"
      ]
     },
     "execution_count": 473,
     "metadata": {},
     "output_type": "execute_result"
    }
   ],
   "source": [
    "d"
   ]
  },
  {
   "cell_type": "code",
   "execution_count": 474,
   "metadata": {},
   "outputs": [
    {
     "data": {
      "text/plain": [
       "11"
      ]
     },
     "execution_count": 474,
     "metadata": {},
     "output_type": "execute_result"
    }
   ],
   "source": [
    "e"
   ]
  },
  {
   "cell_type": "code",
   "execution_count": null,
   "metadata": {},
   "outputs": [],
   "source": []
  },
  {
   "cell_type": "code",
   "execution_count": null,
   "metadata": {},
   "outputs": [],
   "source": []
  },
  {
   "cell_type": "code",
   "execution_count": 4,
   "metadata": {},
   "outputs": [],
   "source": [
    "list_of_urls = ['https://colorcodedlyrics.com/2020/01/zico-jiko-any-song-amunolae','https://colorcodedlyrics.com/2020/02/bts-bangtansonyeondan-my-time-sicha','https://colorcodedlyrics.com/2020/02/kard-inferno']\n",
    "final_concat = pd.DataFrame(columns = ['eng','kor'])\n",
    "\n",
    "for url in list_of_urls:\n",
    "\n",
    "#     url = 'https://colorcodedlyrics.com/2020/01/zico-jiko-any-song-amunolae'\n",
    "\n",
    "\n",
    "    r = requests.get(url)\n",
    "    soup = BeautifulSoup(r.text, 'html.parser')\n",
    "    tags = soup.find_all(['td','p'])\n",
    "\n",
    "    kor = pd.DataFrame()\n",
    "    eng = pd.DataFrame()\n",
    "\n",
    "    if tags[-4].text=='N/A':\n",
    "        time.sleep(random.randint(6,9))\n",
    "        continue\n",
    "    else:\n",
    "        c = len(tags) - 3\n",
    "        d = c - 7\n",
    "        e = int(d/3)\n",
    "        a = e + 7\n",
    "        b = e + a\n",
    "\n",
    "        for i in range(a,b):\n",
    "            kor_lines = tags[i]\n",
    "            kor_lines_series = pd.Series(kor_lines.text.split('\\n'))\n",
    "            kor = pd.concat([kor, kor_lines_series])\n",
    "            kor = kor[kor[0]!=\"\"]\n",
    "        kor = kor.rename(columns={0:'kor'})\n",
    "\n",
    "        for i in range(b,c):\n",
    "            eng_lines = tags[i]\n",
    "            eng_lines_series = pd.Series(eng_lines.text.split('\\n'))\n",
    "            eng = pd.concat([eng, eng_lines_series])\n",
    "            eng = eng[eng[0]!=\"\"]\n",
    "        eng = eng.rename(columns={0:'eng'})\n",
    "\n",
    "        concatted = pd.concat([eng, kor],axis=1)\n",
    "        concatted = concatted.drop_duplicates()\n",
    "        concatted = concatted.query(\"eng != kor\")\n",
    "\n",
    "        final_concat = pd.concat([final_concat,concatted])\n",
    "\n",
    "        time.sleep(random.randint(6,9))\n",
    "\n",
    "    "
   ]
  },
  {
   "cell_type": "code",
   "execution_count": 5,
   "metadata": {},
   "outputs": [
    {
     "data": {
      "text/html": [
       "<div>\n",
       "<style scoped>\n",
       "    .dataframe tbody tr th:only-of-type {\n",
       "        vertical-align: middle;\n",
       "    }\n",
       "\n",
       "    .dataframe tbody tr th {\n",
       "        vertical-align: top;\n",
       "    }\n",
       "\n",
       "    .dataframe thead th {\n",
       "        text-align: right;\n",
       "    }\n",
       "</style>\n",
       "<table border=\"1\" class=\"dataframe\">\n",
       "  <thead>\n",
       "    <tr style=\"text-align: right;\">\n",
       "      <th></th>\n",
       "      <th>eng</th>\n",
       "      <th>kor</th>\n",
       "    </tr>\n",
       "  </thead>\n",
       "  <tbody>\n",
       "    <tr>\n",
       "      <th>0</th>\n",
       "      <td>Why is everyone so down?</td>\n",
       "      <td>왜들 그리 다운돼있어?</td>\n",
       "    </tr>\n",
       "    <tr>\n",
       "      <th>1</th>\n",
       "      <td>What’s the problem, say something</td>\n",
       "      <td>뭐가 문제야 say something</td>\n",
       "    </tr>\n",
       "    <tr>\n",
       "      <th>2</th>\n",
       "      <td>It’s so icy here</td>\n",
       "      <td>분위기가 겁나 싸해</td>\n",
       "    </tr>\n",
       "    <tr>\n",
       "      <th>3</th>\n",
       "      <td>Is this the trend these days?</td>\n",
       "      <td>요새는 이런 게 유행인가</td>\n",
       "    </tr>\n",
       "    <tr>\n",
       "      <th>4</th>\n",
       "      <td>Why is everyone so boring?</td>\n",
       "      <td>왜들 그리 재미없어?</td>\n",
       "    </tr>\n",
       "    <tr>\n",
       "      <th>...</th>\n",
       "      <td>...</td>\n",
       "      <td>...</td>\n",
       "    </tr>\n",
       "    <tr>\n",
       "      <th>1</th>\n",
       "      <td>Yeah we run it like it’s ours</td>\n",
       "      <td>Yeah we run it like it’s ours (Yeah we run it ...</td>\n",
       "    </tr>\n",
       "    <tr>\n",
       "      <th>2</th>\n",
       "      <td>When we pull up run away (Run away, run away y...</td>\n",
       "      <td>When we pull up 도망가 (도망가 도망가 Yeah)</td>\n",
       "    </tr>\n",
       "    <tr>\n",
       "      <th>3</th>\n",
       "      <td>Burn it all (Burn it all yeah)</td>\n",
       "      <td>태워 다 (태워버려 Yeah)</td>\n",
       "    </tr>\n",
       "    <tr>\n",
       "      <th>4</th>\n",
       "      <td>Light this place on fire (Light it up yeah)</td>\n",
       "      <td>Light this place on fire (Light it up yeah)</td>\n",
       "    </tr>\n",
       "    <tr>\n",
       "      <th>5</th>\n",
       "      <td>Raging we’re raging Inferno</td>\n",
       "      <td>Raging we’re raging Inferno</td>\n",
       "    </tr>\n",
       "  </tbody>\n",
       "</table>\n",
       "<p>128 rows × 2 columns</p>\n",
       "</div>"
      ],
      "text/plain": [
       "                                                  eng  \\\n",
       "0                            Why is everyone so down?   \n",
       "1                   What’s the problem, say something   \n",
       "2                                    It’s so icy here   \n",
       "3                       Is this the trend these days?   \n",
       "4                          Why is everyone so boring?   \n",
       "..                                                ...   \n",
       "1                       Yeah we run it like it’s ours   \n",
       "2   When we pull up run away (Run away, run away y...   \n",
       "3                      Burn it all (Burn it all yeah)   \n",
       "4         Light this place on fire (Light it up yeah)   \n",
       "5                         Raging we’re raging Inferno   \n",
       "\n",
       "                                                  kor  \n",
       "0                                        왜들 그리 다운돼있어?  \n",
       "1                                뭐가 문제야 say something  \n",
       "2                                          분위기가 겁나 싸해  \n",
       "3                                       요새는 이런 게 유행인가  \n",
       "4                                         왜들 그리 재미없어?  \n",
       "..                                                ...  \n",
       "1   Yeah we run it like it’s ours (Yeah we run it ...  \n",
       "2                  When we pull up 도망가 (도망가 도망가 Yeah)  \n",
       "3                                    태워 다 (태워버려 Yeah)  \n",
       "4         Light this place on fire (Light it up yeah)  \n",
       "5                         Raging we’re raging Inferno  \n",
       "\n",
       "[128 rows x 2 columns]"
      ]
     },
     "execution_count": 5,
     "metadata": {},
     "output_type": "execute_result"
    }
   ],
   "source": [
    "final_concat"
   ]
  },
  {
   "cell_type": "code",
   "execution_count": null,
   "metadata": {},
   "outputs": [],
   "source": []
  },
  {
   "cell_type": "code",
   "execution_count": null,
   "metadata": {},
   "outputs": [],
   "source": []
  },
  {
   "cell_type": "code",
   "execution_count": 14,
   "metadata": {},
   "outputs": [],
   "source": [
    "url = 'https://colorcodedlyrics.com/category/krn'\n",
    "url2 = 'https://colorcodedlyrics.com/category/krn/page/2'"
   ]
  },
  {
   "cell_type": "code",
   "execution_count": 7,
   "metadata": {},
   "outputs": [],
   "source": [
    "r = requests.get(url)"
   ]
  },
  {
   "cell_type": "code",
   "execution_count": 15,
   "metadata": {},
   "outputs": [],
   "source": [
    "r2 = requests.get(url2)"
   ]
  },
  {
   "cell_type": "code",
   "execution_count": 8,
   "metadata": {},
   "outputs": [],
   "source": [
    "soup = BeautifulSoup(r.text, 'html.parser')"
   ]
  },
  {
   "cell_type": "code",
   "execution_count": 16,
   "metadata": {},
   "outputs": [],
   "source": [
    "soup2 = BeautifulSoup(r2.text, 'html.parser')"
   ]
  },
  {
   "cell_type": "code",
   "execution_count": 32,
   "metadata": {},
   "outputs": [
    {
     "name": "stdout",
     "output_type": "stream",
     "text": [
      "<h3 class=\"entry-title\"><a href=\"https://colorcodedlyrics.com/2020/02/bts-bangtansonyeondan-inner-child\" rel=\"bookmark\">BTS (방탄소년단) – Inner Child</a></h3>\n",
      "<h3 class=\"entry-title\"><a href=\"https://colorcodedlyrics.com/2020/02/bts-bangtansonyeondan-00-00-zero-o-clock\" rel=\"bookmark\">BTS (방탄소년단) – 00:00 (Zero O’Clock)</a></h3>\n",
      "<h3 class=\"entry-title\"><a href=\"https://colorcodedlyrics.com/2020/02/bts-bangtansonyeondan-ugh-ug\" rel=\"bookmark\">BTS (방탄소년단) – UGH! (욱)</a></h3>\n",
      "<h3 class=\"entry-title\"><a href=\"https://colorcodedlyrics.com/2020/02/bts-bangtansonyeondan-louder-than-bombs\" rel=\"bookmark\">BTS (방탄소년단) – Louder than bombs</a></h3>\n",
      "<h3 class=\"entry-title\"><a href=\"https://colorcodedlyrics.com/2020/02/bts-bangtansonyeondan-my-time-sicha\" rel=\"bookmark\">BTS (방탄소년단) – My Time (시차)</a></h3>\n",
      "<h3 class=\"entry-title\"><a href=\"https://colorcodedlyrics.com/2020/02/bts-bangtansonyeondan-filter\" rel=\"bookmark\">BTS (방탄소년단) – Filter</a></h3>\n",
      "<h3 class=\"entry-title\"><a href=\"https://colorcodedlyrics.com/2020/02/bts-bangtansonyeondan-on\" rel=\"bookmark\">BTS (방탄소년단) – ON</a></h3>\n",
      "<h3 class=\"entry-title\"><a href=\"https://colorcodedlyrics.com/2020/02/loona-day-night\" rel=\"bookmark\">LOONA (이달의 소녀) – Day &amp; Night</a></h3>\n",
      "<h3 class=\"entry-title\"><a href=\"https://colorcodedlyrics.com/2020/02/super-junior-fly-to-the-moon\" rel=\"bookmark\">Super Junior – Fly to the Moon</a></h3>\n",
      "<h3 class=\"entry-title\"><a href=\"https://colorcodedlyrics.com/2020/02/kard-inferno\" rel=\"bookmark\">KARD – INFERNO</a></h3>\n",
      "<h3 class=\"entry-title\"><a href=\"https://colorcodedlyrics.com/2020/02/kard-go-baby\" rel=\"bookmark\">KARD – GO BABY</a></h3>\n",
      "<h3 class=\"entry-title\"><a href=\"https://colorcodedlyrics.com/2020/02/weki-meki-dazzle-dazzle\" rel=\"bookmark\">Weki Meki – DAZZLE DAZZLE</a></h3>\n"
     ]
    }
   ],
   "source": [
    "for a in soup.find_all('h3'):\n",
    "    print(a)"
   ]
  },
  {
   "cell_type": "code",
   "execution_count": 38,
   "metadata": {},
   "outputs": [
    {
     "data": {
      "text/plain": [
       "'https://colorcodedlyrics.com/2020/02/bts-bangtansonyeondan-inner-child'"
      ]
     },
     "execution_count": 38,
     "metadata": {},
     "output_type": "execute_result"
    }
   ],
   "source": [
    " soup.find('a', {'rel': 'bookmark'})['href']"
   ]
  },
  {
   "cell_type": "code",
   "execution_count": 39,
   "metadata": {},
   "outputs": [],
   "source": [
    "urls_list = []\n",
    "for a in soupc.find_all('a', {'rel': 'bookmark'}):\n",
    "    urls_list.append(a['href'])"
   ]
  },
  {
   "cell_type": "code",
   "execution_count": 40,
   "metadata": {},
   "outputs": [
    {
     "data": {
      "text/plain": [
       "['https://colorcodedlyrics.com/2020/02/bts-bangtansonyeondan-inner-child',\n",
       " 'https://colorcodedlyrics.com/2020/02/bts-bangtansonyeondan-00-00-zero-o-clock',\n",
       " 'https://colorcodedlyrics.com/2020/02/bts-bangtansonyeondan-ugh-ug',\n",
       " 'https://colorcodedlyrics.com/2020/02/bts-bangtansonyeondan-louder-than-bombs',\n",
       " 'https://colorcodedlyrics.com/2020/02/bts-bangtansonyeondan-my-time-sicha',\n",
       " 'https://colorcodedlyrics.com/2020/02/bts-bangtansonyeondan-filter',\n",
       " 'https://colorcodedlyrics.com/2020/02/bts-bangtansonyeondan-on',\n",
       " 'https://colorcodedlyrics.com/2020/02/loona-day-night',\n",
       " 'https://colorcodedlyrics.com/2020/02/super-junior-fly-to-the-moon',\n",
       " 'https://colorcodedlyrics.com/2020/02/kard-inferno',\n",
       " 'https://colorcodedlyrics.com/2020/02/kard-go-baby',\n",
       " 'https://colorcodedlyrics.com/2020/02/weki-meki-dazzle-dazzle']"
      ]
     },
     "execution_count": 40,
     "metadata": {},
     "output_type": "execute_result"
    }
   ],
   "source": [
    "urls_list"
   ]
  },
  {
   "cell_type": "code",
   "execution_count": 41,
   "metadata": {},
   "outputs": [],
   "source": [
    "urls_list2 = []\n",
    "for a in soup2.find_all('a', {'rel': 'bookmark'}):\n",
    "    urls_list2.append(a['href'])"
   ]
  },
  {
   "cell_type": "code",
   "execution_count": 42,
   "metadata": {},
   "outputs": [
    {
     "data": {
      "text/plain": [
       "['https://colorcodedlyrics.com/2020/02/z-one-aijeuwon-eyes',\n",
       " 'https://colorcodedlyrics.com/2020/02/rocket-punch-lokespeonchi-fireworks',\n",
       " 'https://colorcodedlyrics.com/2020/02/dreamcatcher-daybreak-saebyeog',\n",
       " 'https://colorcodedlyrics.com/2020/02/dreamcatcher-in-the-frozen',\n",
       " 'https://colorcodedlyrics.com/2020/02/dreamcatcher-sahara',\n",
       " 'https://colorcodedlyrics.com/2020/02/dreamcatcher-jazz-bar',\n",
       " 'https://colorcodedlyrics.com/2020/02/dreamcatcher-black-or-white',\n",
       " 'https://colorcodedlyrics.com/2020/02/dreamcatcher-red-sun',\n",
       " 'https://colorcodedlyrics.com/2020/02/dreamcatcher-tension',\n",
       " 'https://colorcodedlyrics.com/2020/02/dreamcatcher-scream',\n",
       " 'https://colorcodedlyrics.com/2020/02/d-crunch-are-you-ready-jakdangmoui',\n",
       " 'https://colorcodedlyrics.com/2020/02/iz-one-fiesta']"
      ]
     },
     "execution_count": 42,
     "metadata": {},
     "output_type": "execute_result"
    }
   ],
   "source": [
    "urls_list2"
   ]
  },
  {
   "cell_type": "code",
   "execution_count": 17,
   "metadata": {},
   "outputs": [
    {
     "data": {
      "text/plain": [
       "[<h3 class=\"entry-title\"><a href=\"https://colorcodedlyrics.com/2020/02/z-one-aijeuwon-eyes\" rel=\"bookmark\">IZ*ONE (아이즈원) – Eyes</a></h3>,\n",
       " <h3 class=\"entry-title\"><a href=\"https://colorcodedlyrics.com/2020/02/rocket-punch-lokespeonchi-fireworks\" rel=\"bookmark\">Rocket Punch (로켓펀치) – Fireworks</a></h3>,\n",
       " <h3 class=\"entry-title\"><a href=\"https://colorcodedlyrics.com/2020/02/dreamcatcher-daybreak-saebyeog\" rel=\"bookmark\">Dreamcatcher – Daybreak (새벽)</a></h3>,\n",
       " <h3 class=\"entry-title\"><a href=\"https://colorcodedlyrics.com/2020/02/dreamcatcher-in-the-frozen\" rel=\"bookmark\">Dreamcatcher – In The Frozen</a></h3>,\n",
       " <h3 class=\"entry-title\"><a href=\"https://colorcodedlyrics.com/2020/02/dreamcatcher-sahara\" rel=\"bookmark\">Dreamcatcher – SAHARA</a></h3>,\n",
       " <h3 class=\"entry-title\"><a href=\"https://colorcodedlyrics.com/2020/02/dreamcatcher-jazz-bar\" rel=\"bookmark\">Dreamcatcher – Jazz Bar</a></h3>,\n",
       " <h3 class=\"entry-title\"><a href=\"https://colorcodedlyrics.com/2020/02/dreamcatcher-black-or-white\" rel=\"bookmark\">Dreamcatcher – Black Or White</a></h3>,\n",
       " <h3 class=\"entry-title\"><a href=\"https://colorcodedlyrics.com/2020/02/dreamcatcher-red-sun\" rel=\"bookmark\">Dreamcatcher – Red Sun</a></h3>,\n",
       " <h3 class=\"entry-title\"><a href=\"https://colorcodedlyrics.com/2020/02/dreamcatcher-tension\" rel=\"bookmark\">Dreamcatcher – Tension</a></h3>,\n",
       " <h3 class=\"entry-title\"><a href=\"https://colorcodedlyrics.com/2020/02/dreamcatcher-scream\" rel=\"bookmark\">Dreamcatcher – Scream</a></h3>,\n",
       " <h3 class=\"entry-title\"><a href=\"https://colorcodedlyrics.com/2020/02/d-crunch-are-you-ready-jakdangmoui\" rel=\"bookmark\">D-Crunch – Are you ready? (작당모의)</a></h3>,\n",
       " <h3 class=\"entry-title\"><a href=\"https://colorcodedlyrics.com/2020/02/iz-one-fiesta\" rel=\"bookmark\">IZ*ONE – FIESTA</a></h3>]"
      ]
     },
     "execution_count": 17,
     "metadata": {},
     "output_type": "execute_result"
    }
   ],
   "source": [
    "soup2.find_all(['h3'])"
   ]
  },
  {
   "cell_type": "code",
   "execution_count": null,
   "metadata": {},
   "outputs": [],
   "source": []
  },
  {
   "cell_type": "code",
   "execution_count": null,
   "metadata": {},
   "outputs": [],
   "source": []
  },
  {
   "cell_type": "code",
   "execution_count": 60,
   "metadata": {},
   "outputs": [],
   "source": [
    "url2 = 'https://colorcodedlyrics.com/2020/02/monsta-x-she-s-the-one'\n",
    "r2 = requests.get(url2)\n",
    "soup2 = BeautifulSoup(r2.text, 'html.parser')\n",
    "tags2 = soup2.find_all(['td','p'])"
   ]
  },
  {
   "cell_type": "code",
   "execution_count": 61,
   "metadata": {},
   "outputs": [
    {
     "data": {
      "text/plain": [
       "[<td>\n",
       " <h2 style=\"text-align: center\">SHE’S THE ONE</h2>\n",
       " <p style=\"text-align: center\"><span style=\"text-decoration: underline\">[Album] ALL ABOUT LUV</span><br/>\n",
       " 2020.02.14</p>\n",
       " </td>,\n",
       " <p style=\"text-align: center\"><span style=\"text-decoration: underline\">[Album] ALL ABOUT LUV</span><br/>\n",
       " 2020.02.14</p>,\n",
       " <td style=\"text-align: right\"><img alt=\"\" class=\"alignright\" data-recalc-dims=\"1\" height=\"200\" src=\"https://i1.wp.com/colorcodedlyrics.com/wp-content/uploads/2020/02/MONSTA-X-ALL-ABOUT-LUV.jpg?resize=200%2C200&amp;ssl=1\" title=\"MONSTA X - ALL ABOUT LUV\" width=\"200\"/></td>,\n",
       " <td style=\"text-align: center\"><span style=\"color: #168ce8\">Shownu</span>, <span style=\"color: #fe0c11\">Wonho</span>, <span style=\"color: #53c11f\">Minhyuk</span>,<br/>\n",
       " <span style=\"color: #008d8a\">Kihyun</span>, <span style=\"color: #e736d6\">Hyungwon</span>, <span style=\"color: #ff7f00\">Joohoney</span>, <span style=\"color: #823ad2\">I.M</span></td>,\n",
       " <td style=\"text-align: right\"><strong>Lyrics</strong>: ???<br/>\n",
       " <strong>Composer</strong>: ???<br/>\n",
       " <strong>Arranger</strong>: ???</td>,\n",
       " <p style=\"text-align: center\">\n",
       " <div class=\"jetpack-video-wrapper\"><span class=\"embed-youtube\" style=\"text-align:center; display: block;\"><iframe allowfullscreen=\"true\" class=\"youtube-player\" height=\"360\" src=\"https://www.youtube.com/embed/Nb5XPLxKtik?version=3&amp;rel=1&amp;fs=1&amp;autohide=2&amp;showsearch=0&amp;showinfo=1&amp;iv_load_policy=1&amp;wmode=transparent\" style=\"border:0;\" type=\"text/html\" width=\"640\"></iframe></span></div>\n",
       " </p>,\n",
       " <p><span style=\"color: #ff00ff\"><span id=\"more-139637\"></span></span></p>,\n",
       " <td><span style=\"color: #168ce8\">She’s the one, got me all messed up</span><br/>\n",
       " <span style=\"color: #168ce8\">I could write a million songs, but I know it’s not enough</span></td>,\n",
       " <p><span style=\"color: #823ad2\">She’s so beautiful and I know she knows it</span><br/>\n",
       " <span style=\"color: #823ad2\">She know how to think, yeah, she always owns it</span><br/>\n",
       " <span style=\"color: #823ad2\">But I just haven’t told her yet, no, I just haven’t told her</span><br/>\n",
       " <span style=\"color: #e736d6\">I’ma buy a rose, a dozen roses</span><br/>\n",
       " <span style=\"color: #e736d6\">Fly her on a one day trip to Paris</span><br/>\n",
       " <span style=\"color: #fe0c11\">But I just haven’t told her yet, no, I just haven’t told her</span></p>,\n",
       " <p><span style=\"color: #ff7f00\">She makes my knees feel weak</span><br/>\n",
       " <span style=\"color: #ff7f00\">She makes my drink feel stronger</span>, <span style=\"color: #53c11f\">ayy</span><br/>\n",
       " <span style=\"color: #53c11f\">Can’t eat, can’t sleep, can’t dream</span><br/>\n",
       " <span style=\"color: #53c11f\">Can’t wait any longer, any longer now</span></p>,\n",
       " <p><span style=\"color: #168ce8\">She’s the one, got me all messed up</span><br/>\n",
       " <span style=\"color: #168ce8\">I could write a million songs, but I know it’s not enough</span><br/>\n",
       " <span style=\"color: #168ce8\">‘Cause</span> <span style=\"color: #008d8a\">she’s the one I get feelings from</span><br/>\n",
       " <span style=\"color: #008d8a\">I could write a million songs, but I know it’s not enough</span><br/>\n",
       " <span style=\"color: #008d8a\">‘Cause she probably doesn’t even know this song’s about her</span></p>,\n",
       " <p><span style=\"color: #823ad2\">Think about her face every time I wake up</span><br/>\n",
       " <span style=\"color: #823ad2\">At night, I wanna ask about how her day was</span><br/>\n",
       " <span style=\"color: #823ad2\">But I just haven’t told her yet, no, I just haven’t told her</span><br/>\n",
       " <span style=\"color: #e736d6\">Not the type of guy who gonna make you a promise</span><br/>\n",
       " <span style=\"color: #e736d6\">Rolling down my sleeve and you’ll see my heart on it</span><br/>\n",
       " <span style=\"color: #fe0c11\">She could cut my words, when usually got it, she wants it, mmm-mmm</span></p>,\n",
       " <p><span style=\"color: #ff7f00\">She makes my knees feel weak</span><br/>\n",
       " <span style=\"color: #ff7f00\">She makes my drink feel stronger</span>, <span style=\"color: #53c11f\">ayy</span><br/>\n",
       " <span style=\"color: #53c11f\">Can’t eat, can’t sleep, can’t dream</span><br/>\n",
       " <span style=\"color: #53c11f\">Can’t wait any longer, any longer now</span></p>,\n",
       " <p><span style=\"color: #168ce8\">She’s the one, got me all messed up</span> <span style=\"color: #53c11f\">(Got me all messed up)</span><br/>\n",
       " <span style=\"color: #168ce8\">I could write a million songs, but I know it’s not enough</span> <span style=\"color: #ff7f00\">(Not enough, oh)</span><br/>\n",
       " <span style=\"color: #168ce8\">‘Cause</span> <span style=\"color: #008d8a\">she’s the one I get feelings from</span><br/>\n",
       " <span style=\"color: #008d8a\">I could write a million songs, but I know it’s not enough</span><br/>\n",
       " <span style=\"color: #008d8a\">‘Cause she probably doesn’t even know this song’s about her</span></p>,\n",
       " <p>Oh, oh, oh, oh, oh, oh<br/>\n",
       " Oh, oh, oh, oh, oh, oh<br/>\n",
       " Oh, oh, oh, oh, oh, oh, oh, oh<br/>\n",
       " Oh, oh, oh, oh, oh, oh<br/>\n",
       " Oh, oh, oh, oh, oh<br/>\n",
       " Oh, oh, oh, oh, oh, oh, oh, oh</p>,\n",
       " <p><span style=\"color: #ff7f00\">She makes my knees feel weak</span><br/>\n",
       " <span style=\"color: #ff7f00\">She makes my drink feel stronger</span> <span style=\"color: #008d8a\">(Yeah)</span><br/>\n",
       " <span style=\"color: #53c11f\">Can’t eat, can’t sleep, can’t dream</span><br/>\n",
       " <span style=\"color: #53c11f\">Can’t wait any longer</span> <span style=\"color: #008d8a\">(Longer)</span><br/>\n",
       " <span style=\"color: #008d8a\">She’s the one</span></p>,\n",
       " <p><span style=\"color: #168ce8\">She’s the one, got me all messed up</span><br/>\n",
       " <span style=\"color: #168ce8\">I could write a million songs</span> <span style=\"color: #008d8a\">(Oh, oh, she’s the one)</span>, <span style=\"color: #168ce8\">but I know it’s not enough</span> <span style=\"color: #008d8a\">(Oh, oh, she’s the one)</span><br/>\n",
       " <span style=\"color: #168ce8\">‘Cause</span> <span style=\"color: #fe0c11\">she’s the one I get feelings for</span> <span style=\"color: #008d8a\">(Ooh)</span><br/>\n",
       " <span style=\"color: #fe0c11\">I could write a million songs</span> <span style=\"color: #008d8a\">(Ooh)</span>, <span style=\"color: #fe0c11\">but I know it’s not enough</span><br/>\n",
       " <span style=\"color: #008d8a\">‘Cause she probably doesn’t even know this song’s about her</span></p>,\n",
       " <p>Eng: melon<br/>\n",
       " Info: –</p>,\n",
       " <p class=\"must-log-in\">You must be <a href=\"https://colorcodedlyrics.com/wp-login.php?redirect_to=https%3A%2F%2Fcolorcodedlyrics.com%2F2020%2F02%2Fmonsta-x-she-s-the-one\">logged in</a> to post a comment.</p>,\n",
       " <p class=\"akismet_comment_form_privacy_notice\">This site uses Akismet to reduce spam. <a href=\"https://akismet.com/privacy/\" rel=\"nofollow noopener\" target=\"_blank\">Learn how your comment data is processed</a>.</p>]"
      ]
     },
     "execution_count": 61,
     "metadata": {},
     "output_type": "execute_result"
    }
   ],
   "source": [
    "tags2"
   ]
  },
  {
   "cell_type": "code",
   "execution_count": 56,
   "metadata": {},
   "outputs": [],
   "source": [
    "\n",
    "url = 'https://colorcodedlyrics.com/2020/02/dreamcatcher-tension'\n",
    "r = requests.get(url)\n",
    "soup = BeautifulSoup(r.text, 'html.parser')\n",
    "tags = soup.find_all(['td','p'])"
   ]
  },
  {
   "cell_type": "code",
   "execution_count": 67,
   "metadata": {},
   "outputs": [
    {
     "data": {
      "text/plain": [
       "<td>N/A</td>"
      ]
     },
     "execution_count": 67,
     "metadata": {},
     "output_type": "execute_result"
    }
   ],
   "source": [
    "tags[-6]"
   ]
  },
  {
   "cell_type": "code",
   "execution_count": 92,
   "metadata": {},
   "outputs": [],
   "source": [
    "\n",
    "url = 'https://colorcodedlyrics.com/2020/02/dreamcatcher-scream'\n",
    "r = requests.get(url)\n",
    "soup = BeautifulSoup(r.text, 'html.parser')\n",
    "tags = soup.find_all(['td'])"
   ]
  },
  {
   "cell_type": "code",
   "execution_count": 74,
   "metadata": {},
   "outputs": [],
   "source": [
    "c = len(tags) - 3\n",
    "d = c - 7\n",
    "e = int(d/3)\n",
    "a = e + 7\n",
    "b = e + a"
   ]
  },
  {
   "cell_type": "code",
   "execution_count": 93,
   "metadata": {},
   "outputs": [
    {
     "data": {
      "text/plain": [
       "[<td>\n",
       " <h2 style=\"text-align: center\">Scream</h2>\n",
       " <p style=\"text-align: center\"><span style=\"text-decoration: underline\">Dystopia : The Tree of Language</span><br/>\n",
       " 2020.02.18</p>\n",
       " </td>,\n",
       " <td style=\"text-align: right\"><img alt=\"\" class=\"alignright\" data-recalc-dims=\"1\" height=\"200\" src=\"https://i1.wp.com/colorcodedlyrics.com/wp-content/uploads/2020/02/Dreamcatcher-Dystopia-The-Tree-of-Language.jpg?resize=200%2C200&amp;ssl=1\" title=\"Dreamcatcher - Dystopia : The Tree of Language\" width=\"200\"/></td>,\n",
       " <td style=\"text-align: center\"><span style=\"color: #d82740\">JiU</span>, <span style=\"color: #b57ff9\">SuA</span>, <span style=\"color: #ff7f00\">Siyeon</span>,<br/>\n",
       " <span style=\"color: #50c878\">Yoohyeon</span>, <span style=\"color: #2ebfd4\">Dami</span>, <span style=\"color: #ff55e9\">Gahyeon</span></td>,\n",
       " <td style=\"text-align: right\"><strong>Lyrics/작사</strong>: LEEZ, Ollounder, 김보은 (Jam factory)<br/>\n",
       " <strong>Composer/작곡</strong>: LEEZ, Ollounder<br/>\n",
       " <strong>Arranger/편곡</strong>: LEEZ, Ollounder</td>,\n",
       " <td><span style=\"color: #d82740\">garyeojin nunapi</span><br/>\n",
       " <span style=\"color: #d82740\">piro muldeuryeojine</span><br/>\n",
       " <span style=\"color: #50c878\">Tell me why</span><br/>\n",
       " <span style=\"color: #50c878\">I don’t lie</span></td>,\n",
       " <td><span style=\"color: #d82740\">가려진 눈앞이</span><br/>\n",
       " <span style=\"color: #d82740\">피로 물들여지네</span><br/>\n",
       " <span style=\"color: #50c878\">Tell me why</span><br/>\n",
       " <span style=\"color: #50c878\">I don’t lie</span></td>,\n",
       " <td>My eyes are covered<br/>\n",
       " Colored with blood<br/>\n",
       " Tell me why<br/>\n",
       " I don’t lie</td>]"
      ]
     },
     "execution_count": 93,
     "metadata": {},
     "output_type": "execute_result"
    }
   ],
   "source": [
    "tags"
   ]
  },
  {
   "cell_type": "code",
   "execution_count": 78,
   "metadata": {},
   "outputs": [
    {
     "data": {
      "text/plain": [
       "16"
      ]
     },
     "execution_count": 78,
     "metadata": {},
     "output_type": "execute_result"
    }
   ],
   "source": [
    "len(tags[b:c])"
   ]
  },
  {
   "cell_type": "code",
   "execution_count": 89,
   "metadata": {},
   "outputs": [],
   "source": [
    "\n",
    "url = 'https://colorcodedlyrics.com/2020/02/z-one-aijeuwon-eyes'\n",
    "r = requests.get(url)\n",
    "soup = BeautifulSoup(r.text, 'html.parser')\n",
    "tags = soup.find_all(['td'])"
   ]
  },
  {
   "cell_type": "code",
   "execution_count": 80,
   "metadata": {},
   "outputs": [],
   "source": [
    "c = len(tags) - 3\n",
    "d = c - 7\n",
    "e = int(d/3)\n",
    "a = e + 7\n",
    "b = e + a"
   ]
  },
  {
   "cell_type": "code",
   "execution_count": 91,
   "metadata": {},
   "outputs": [
    {
     "data": {
      "text/plain": [
       "<td>N/A</td>"
      ]
     },
     "execution_count": 91,
     "metadata": {},
     "output_type": "execute_result"
    }
   ],
   "source": [
    "tags[-1]"
   ]
  },
  {
   "cell_type": "code",
   "execution_count": 111,
   "metadata": {},
   "outputs": [],
   "source": [
    "\n",
    "url_com1 = 'https://colorcodedlyrics.com/2020/02/kard-go-baby'\n",
    "r_com1 = requests.get(url_com1)\n",
    "soup_com1 = BeautifulSoup(r_com1.text, 'html.parser')\n",
    "tags_com1 = soup_com1.find_all(['td','p'])\n",
    "\n",
    "p_tags_com1 = soup_com1.find_all(['p'])"
   ]
  },
  {
   "cell_type": "code",
   "execution_count": 113,
   "metadata": {},
   "outputs": [
    {
     "data": {
      "text/plain": [
       "<p>Korean: music.naver<br/>\n",
       "Rom: colorcodedlyrics.com<br/>\n",
       "Eng: KosmoSub@ZF<br/>\n",
       "Info: music.naver</p>"
      ]
     },
     "execution_count": 113,
     "metadata": {},
     "output_type": "execute_result"
    }
   ],
   "source": [
    "p_tags_com1[-4]"
   ]
  },
  {
   "cell_type": "code",
   "execution_count": 114,
   "metadata": {},
   "outputs": [],
   "source": [
    "url_nocom = 'https://colorcodedlyrics.com/2020/02/weki-meki-dazzle-dazzle'\n",
    "r_nocom = requests.get(url_nocom)\n",
    "soup_nocom = BeautifulSoup(r_nocom.text, 'html.parser')\n",
    "tags_nocom = soup_nocom.find_all(['td','p'])\n",
    "\n",
    "p_tags_nocom = soup_nocom.find_all(['p'])"
   ]
  },
  {
   "cell_type": "code",
   "execution_count": 119,
   "metadata": {},
   "outputs": [
    {
     "data": {
      "text/plain": [
       "'Korean'"
      ]
     },
     "execution_count": 119,
     "metadata": {},
     "output_type": "execute_result"
    }
   ],
   "source": [
    "p_tags_nocom[-3].text[0:6]"
   ]
  },
  {
   "cell_type": "code",
   "execution_count": 120,
   "metadata": {},
   "outputs": [
    {
     "data": {
      "text/html": [
       "<div>\n",
       "<style scoped>\n",
       "    .dataframe tbody tr th:only-of-type {\n",
       "        vertical-align: middle;\n",
       "    }\n",
       "\n",
       "    .dataframe tbody tr th {\n",
       "        vertical-align: top;\n",
       "    }\n",
       "\n",
       "    .dataframe thead th {\n",
       "        text-align: right;\n",
       "    }\n",
       "</style>\n",
       "<table border=\"1\" class=\"dataframe\">\n",
       "  <thead>\n",
       "    <tr style=\"text-align: right;\">\n",
       "      <th></th>\n",
       "      <th>Unnamed: 0</th>\n",
       "      <th>eng</th>\n",
       "      <th>kor</th>\n",
       "    </tr>\n",
       "  </thead>\n",
       "  <tbody>\n",
       "    <tr>\n",
       "      <th>0</th>\n",
       "      <td>1</td>\n",
       "      <td>Whose words should I be following?</td>\n",
       "      <td>어느 장단에 맞춰야 될지</td>\n",
       "    </tr>\n",
       "    <tr>\n",
       "      <th>1</th>\n",
       "      <td>2</td>\n",
       "      <td>When I take one step forward</td>\n",
       "      <td>한 발자국 떼면</td>\n",
       "    </tr>\n",
       "    <tr>\n",
       "      <th>2</th>\n",
       "      <td>3</td>\n",
       "      <td>My shadow grows one step bigger</td>\n",
       "      <td>한 발자국 커지는 shadow</td>\n",
       "    </tr>\n",
       "    <tr>\n",
       "      <th>3</th>\n",
       "      <td>4</td>\n",
       "      <td>Waking up and opening my eyes, where am I?</td>\n",
       "      <td>잠에서 눈을 뜬 여긴 또 어디</td>\n",
       "    </tr>\n",
       "    <tr>\n",
       "      <th>4</th>\n",
       "      <td>5</td>\n",
       "      <td>Maybe Seoul or New York or Paris</td>\n",
       "      <td>어쩜 서울 또 New York or Paris</td>\n",
       "    </tr>\n",
       "    <tr>\n",
       "      <th>...</th>\n",
       "      <td>...</td>\n",
       "      <td>...</td>\n",
       "      <td>...</td>\n",
       "    </tr>\n",
       "    <tr>\n",
       "      <th>334</th>\n",
       "      <td>3</td>\n",
       "      <td>How I feel, dressed up like this oh yeah</td>\n",
       "      <td>쫙 빼입은 채 기분은 Oh yeah</td>\n",
       "    </tr>\n",
       "    <tr>\n",
       "      <th>335</th>\n",
       "      <td>4</td>\n",
       "      <td>1, 2, 3, I’ll show some courage</td>\n",
       "      <td>1 2 3 용기 내볼게</td>\n",
       "    </tr>\n",
       "    <tr>\n",
       "      <th>336</th>\n",
       "      <td>5</td>\n",
       "      <td>Honestly, you’ve fallen for me</td>\n",
       "      <td>솔직히 빠졌는걸</td>\n",
       "    </tr>\n",
       "    <tr>\n",
       "      <th>337</th>\n",
       "      <td>6</td>\n",
       "      <td>1, 2, 3, I’m walking towards you</td>\n",
       "      <td>1 2 3 너에게 걸어</td>\n",
       "    </tr>\n",
       "    <tr>\n",
       "      <th>338</th>\n",
       "      <td>7</td>\n",
       "      <td>Please say something</td>\n",
       "      <td>뭐라고 말 좀 해줘</td>\n",
       "    </tr>\n",
       "  </tbody>\n",
       "</table>\n",
       "<p>339 rows × 3 columns</p>\n",
       "</div>"
      ],
      "text/plain": [
       "     Unnamed: 0                                         eng  \\\n",
       "0             1          Whose words should I be following?   \n",
       "1             2                When I take one step forward   \n",
       "2             3             My shadow grows one step bigger   \n",
       "3             4  Waking up and opening my eyes, where am I?   \n",
       "4             5            Maybe Seoul or New York or Paris   \n",
       "..          ...                                         ...   \n",
       "334           3    How I feel, dressed up like this oh yeah   \n",
       "335           4             1, 2, 3, I’ll show some courage   \n",
       "336           5              Honestly, you’ve fallen for me   \n",
       "337           6            1, 2, 3, I’m walking towards you   \n",
       "338           7                        Please say something   \n",
       "\n",
       "                           kor  \n",
       "0                어느 장단에 맞춰야 될지  \n",
       "1                     한 발자국 떼면  \n",
       "2             한 발자국 커지는 shadow  \n",
       "3             잠에서 눈을 뜬 여긴 또 어디  \n",
       "4    어쩜 서울 또 New York or Paris  \n",
       "..                         ...  \n",
       "334        쫙 빼입은 채 기분은 Oh yeah  \n",
       "335               1 2 3 용기 내볼게  \n",
       "336                   솔직히 빠졌는걸  \n",
       "337               1 2 3 너에게 걸어  \n",
       "338                 뭐라고 말 좀 해줘  \n",
       "\n",
       "[339 rows x 3 columns]"
      ]
     },
     "execution_count": 120,
     "metadata": {},
     "output_type": "execute_result"
    }
   ],
   "source": [
    "pd.read_csv('lyrics.csv')"
   ]
  },
  {
   "cell_type": "code",
   "execution_count": null,
   "metadata": {},
   "outputs": [],
   "source": []
  }
 ],
 "metadata": {
  "kernelspec": {
   "display_name": "Python 3",
   "language": "python",
   "name": "python3"
  },
  "language_info": {
   "codemirror_mode": {
    "name": "ipython",
    "version": 3
   },
   "file_extension": ".py",
   "mimetype": "text/x-python",
   "name": "python",
   "nbconvert_exporter": "python",
   "pygments_lexer": "ipython3",
   "version": "3.7.6"
  }
 },
 "nbformat": 4,
 "nbformat_minor": 4
}
