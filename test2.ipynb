{
 "cells": [
  {
   "cell_type": "code",
   "execution_count": 36,
   "metadata": {},
   "outputs": [
    {
     "name": "stdout",
     "output_type": "stream",
     "text": [
      "The autoreload extension is already loaded. To reload it, use:\n",
      "  %reload_ext autoreload\n"
     ]
    }
   ],
   "source": [
    "%load_ext autoreload\n",
    "%autoreload 2"
   ]
  },
  {
   "cell_type": "code",
   "execution_count": 68,
   "metadata": {},
   "outputs": [],
   "source": [
    "import pandas as pd\n",
    "from langdetect import detect\n",
    "import re\n",
    "\n",
    "from sklearn.model_selection import train_test_split\n",
    "\n",
    "\n",
    "import tensorflow as tf\n",
    "from tensorflow import keras\n",
    "from tensorflow.keras.preprocessing.text import Tokenizer\n",
    "from tensorflow.keras.preprocessing.sequence import pad_sequences\n",
    "from tensorflow.keras.models import Model\n",
    "from tensorflow.keras.layers import Input, LSTM, Dense, GRU\n",
    "from tensorflow.keras.losses import SparseCategoricalCrossentropy, CategoricalCrossentropy\n",
    "from tensorflow.keras.optimizers import Adam\n"
   ]
  },
  {
   "cell_type": "code",
   "execution_count": 3,
   "metadata": {},
   "outputs": [],
   "source": [
    "df_500 = pd.read_csv('data/lyrics_save500.txt', sep='\\t')\n",
    "df_test = pd.read_csv('data/kor.txt', sep='\\t', names=['eng','kor','drop_me'])"
   ]
  },
  {
   "cell_type": "code",
   "execution_count": 4,
   "metadata": {},
   "outputs": [],
   "source": [
    "df_500 = df_500.drop([19565, 28696, 31890])\n",
    "df_500['lang'] = df_500['kor'].apply(detect)"
   ]
  },
  {
   "cell_type": "code",
   "execution_count": null,
   "metadata": {},
   "outputs": [],
   "source": [
    "df_final = df_500[df_500['lang']=='ko'].drop(columns=['Unnamed: 0','lang'])\n",
    "\n",
    "df_test = df_test.drop(columns='drop_me')"
   ]
  },
  {
   "cell_type": "code",
   "execution_count": 8,
   "metadata": {},
   "outputs": [],
   "source": [
    "def clean_text(text):\n",
    "    '''Clean text by removing unnecessary characters and altering the format of words.'''\n",
    "\n",
    "    text = text.lower()\n",
    "    \n",
    "    text = re.sub(r\"’\", \"'\", text)\n",
    "    text = re.sub(r\"i'm\", \"i am\", text)\n",
    "    text = re.sub(r\"he's\", \"he is\", text)\n",
    "    text = re.sub(r\"she's\", \"she is\", text)\n",
    "    text = re.sub(r\"it's\", \"it is\", text)\n",
    "    text = re.sub(r\"that's\", \"that is\", text)\n",
    "    text = re.sub(r\"what's\", \"that is\", text)\n",
    "    text = re.sub(r\"where's\", \"where is\", text)\n",
    "    text = re.sub(r\"how's\", \"how is\", text)\n",
    "    text = re.sub(r\"\\'ll\", \" will\", text)\n",
    "    text = re.sub(r\"\\'ve\", \" have\", text)\n",
    "    text = re.sub(r\"\\'re\", \" are\", text)\n",
    "    text = re.sub(r\"\\'d\", \" would\", text)\n",
    "    text = re.sub(r\"\\'re\", \" are\", text)\n",
    "    text = re.sub(r\"won't\", \"will not\", text)\n",
    "    text = re.sub(r\"can't\", \"cannot\", text)\n",
    "    text = re.sub(r\"n't\", \" not\", text)\n",
    "    text = re.sub(r\"n'\", \"ng\", text)\n",
    "    text = re.sub(r\"'bout\", \"about\", text)\n",
    "    text = re.sub(r\"'til\", \"until\", text)\n",
    "    text = re.sub(r\"[-()\\\"#/@;:<>{}`+=~|.!?,]\", \"\", text)\n",
    "    \n",
    "    return text"
   ]
  },
  {
   "cell_type": "code",
   "execution_count": 15,
   "metadata": {},
   "outputs": [],
   "source": [
    "def start_end_tagger(decoder_input_sentence):\n",
    "    start_tag = \"<start> \"\n",
    "    end_tag = \" <end>\"\n",
    "    final_target = start_tag + decoder_input_sentence + end_tag\n",
    "    return final_target"
   ]
  },
  {
   "cell_type": "code",
   "execution_count": 21,
   "metadata": {},
   "outputs": [],
   "source": [
    "def max_length(tensor):\n",
    "    return max(len(t) for t in tensor)"
   ]
  },
  {
   "cell_type": "code",
   "execution_count": 25,
   "metadata": {},
   "outputs": [],
   "source": [
    "def tokenize(lang):\n",
    "    lang_tokenizer = Tokenizer(filters='')\n",
    "    lang_tokenizer.fit_on_texts(lang)\n",
    "\n",
    "    tensor = lang_tokenizer.texts_to_sequences(lang)\n",
    "\n",
    "    tensor = pad_sequences(tensor, padding='post')\n",
    "\n",
    "    return tensor, lang_tokenizer"
   ]
  },
  {
   "cell_type": "code",
   "execution_count": 47,
   "metadata": {},
   "outputs": [],
   "source": [
    "def load_dataset(input_lang, target_lang):\n",
    "    input_tensor, inp_lang_tokenizer = tokenize(input_lang)\n",
    "    target_tensor, targ_lang_tokenizer = tokenize(target_lang)\n",
    "\n",
    "    return input_tensor, target_tensor, inp_lang_tokenizer, targ_lang_tokenizer"
   ]
  },
  {
   "cell_type": "code",
   "execution_count": 12,
   "metadata": {},
   "outputs": [],
   "source": [
    "df_test['eng'] = df_test['eng'].apply(clean_text)\n",
    "df_test['kor'] = df_test['kor'].apply(clean_text)\n",
    "\n",
    "df_final['eng'] = df_final['eng'].apply(clean_text)\n",
    "df_final['kor'] = df_final['kor'].apply(clean_text)"
   ]
  },
  {
   "cell_type": "code",
   "execution_count": 13,
   "metadata": {},
   "outputs": [
    {
     "data": {
      "text/html": [
       "<div>\n",
       "<style scoped>\n",
       "    .dataframe tbody tr th:only-of-type {\n",
       "        vertical-align: middle;\n",
       "    }\n",
       "\n",
       "    .dataframe tbody tr th {\n",
       "        vertical-align: top;\n",
       "    }\n",
       "\n",
       "    .dataframe thead th {\n",
       "        text-align: right;\n",
       "    }\n",
       "</style>\n",
       "<table border=\"1\" class=\"dataframe\">\n",
       "  <thead>\n",
       "    <tr style=\"text-align: right;\">\n",
       "      <th></th>\n",
       "      <th>eng</th>\n",
       "      <th>kor</th>\n",
       "    </tr>\n",
       "  </thead>\n",
       "  <tbody>\n",
       "    <tr>\n",
       "      <th>0</th>\n",
       "      <td>go</td>\n",
       "      <td>가</td>\n",
       "    </tr>\n",
       "    <tr>\n",
       "      <th>1</th>\n",
       "      <td>hi</td>\n",
       "      <td>안녕</td>\n",
       "    </tr>\n",
       "    <tr>\n",
       "      <th>2</th>\n",
       "      <td>run</td>\n",
       "      <td>뛰어</td>\n",
       "    </tr>\n",
       "    <tr>\n",
       "      <th>3</th>\n",
       "      <td>run</td>\n",
       "      <td>뛰어</td>\n",
       "    </tr>\n",
       "    <tr>\n",
       "      <th>4</th>\n",
       "      <td>who</td>\n",
       "      <td>누구</td>\n",
       "    </tr>\n",
       "    <tr>\n",
       "      <th>...</th>\n",
       "      <td>...</td>\n",
       "      <td>...</td>\n",
       "    </tr>\n",
       "    <tr>\n",
       "      <th>3313</th>\n",
       "      <td>tom always cried when his sister took away his...</td>\n",
       "      <td>톰은 누나가 자기 장난감을 빼앗아 갔을 때마다 울음을 터뜨렸고 누나는 바로 그런 이...</td>\n",
       "    </tr>\n",
       "    <tr>\n",
       "      <th>3314</th>\n",
       "      <td>science fiction has undoubtedly been the inspi...</td>\n",
       "      <td>공상 과학 소설은 의심의 여지 없이 오늘날 존재하는 많은 기술에 영감을 주었어</td>\n",
       "    </tr>\n",
       "    <tr>\n",
       "      <th>3315</th>\n",
       "      <td>i started a new blog i will do my best not to ...</td>\n",
       "      <td>난 블로그를 시작했어 블로그를 초반에만 반짝 많이 하다가 관두는 사람처럼은 되지 않...</td>\n",
       "    </tr>\n",
       "    <tr>\n",
       "      <th>3316</th>\n",
       "      <td>i think it is a shame that some foreign langua...</td>\n",
       "      <td>몇몇 외국어 선생님이 한 번도 원어민과 공부해본 적도 없으면서 대학을 나올 수 있었...</td>\n",
       "    </tr>\n",
       "    <tr>\n",
       "      <th>3317</th>\n",
       "      <td>doubtless there exists in this world precisely...</td>\n",
       "      <td>의심의 여지 없이 세상에는 어떤 남자이든 정확히 딱 알맞는 여자와 결혼하거나 그 반...</td>\n",
       "    </tr>\n",
       "  </tbody>\n",
       "</table>\n",
       "<p>3318 rows × 2 columns</p>\n",
       "</div>"
      ],
      "text/plain": [
       "                                                    eng  \\\n",
       "0                                                    go   \n",
       "1                                                    hi   \n",
       "2                                                   run   \n",
       "3                                                   run   \n",
       "4                                                   who   \n",
       "...                                                 ...   \n",
       "3313  tom always cried when his sister took away his...   \n",
       "3314  science fiction has undoubtedly been the inspi...   \n",
       "3315  i started a new blog i will do my best not to ...   \n",
       "3316  i think it is a shame that some foreign langua...   \n",
       "3317  doubtless there exists in this world precisely...   \n",
       "\n",
       "                                                    kor  \n",
       "0                                                     가  \n",
       "1                                                    안녕  \n",
       "2                                                    뛰어  \n",
       "3                                                    뛰어  \n",
       "4                                                    누구  \n",
       "...                                                 ...  \n",
       "3313  톰은 누나가 자기 장난감을 빼앗아 갔을 때마다 울음을 터뜨렸고 누나는 바로 그런 이...  \n",
       "3314        공상 과학 소설은 의심의 여지 없이 오늘날 존재하는 많은 기술에 영감을 주었어  \n",
       "3315  난 블로그를 시작했어 블로그를 초반에만 반짝 많이 하다가 관두는 사람처럼은 되지 않...  \n",
       "3316  몇몇 외국어 선생님이 한 번도 원어민과 공부해본 적도 없으면서 대학을 나올 수 있었...  \n",
       "3317  의심의 여지 없이 세상에는 어떤 남자이든 정확히 딱 알맞는 여자와 결혼하거나 그 반...  \n",
       "\n",
       "[3318 rows x 2 columns]"
      ]
     },
     "execution_count": 13,
     "metadata": {},
     "output_type": "execute_result"
    }
   ],
   "source": [
    "df_test"
   ]
  },
  {
   "cell_type": "code",
   "execution_count": 14,
   "metadata": {},
   "outputs": [
    {
     "data": {
      "text/html": [
       "<div>\n",
       "<style scoped>\n",
       "    .dataframe tbody tr th:only-of-type {\n",
       "        vertical-align: middle;\n",
       "    }\n",
       "\n",
       "    .dataframe tbody tr th {\n",
       "        vertical-align: top;\n",
       "    }\n",
       "\n",
       "    .dataframe thead th {\n",
       "        text-align: right;\n",
       "    }\n",
       "</style>\n",
       "<table border=\"1\" class=\"dataframe\">\n",
       "  <thead>\n",
       "    <tr style=\"text-align: right;\">\n",
       "      <th></th>\n",
       "      <th>eng</th>\n",
       "      <th>kor</th>\n",
       "    </tr>\n",
       "  </thead>\n",
       "  <tbody>\n",
       "    <tr>\n",
       "      <th>0</th>\n",
       "      <td>time runs</td>\n",
       "      <td>시간은 달려가</td>\n",
       "    </tr>\n",
       "    <tr>\n",
       "      <th>2</th>\n",
       "      <td>i am carrying them on my neck</td>\n",
       "      <td>잠시 내 목마를 태워</td>\n",
       "    </tr>\n",
       "    <tr>\n",
       "      <th>3</th>\n",
       "      <td>throwing my memories outside</td>\n",
       "      <td>나의 추억들을 밖으로 던진다</td>\n",
       "    </tr>\n",
       "    <tr>\n",
       "      <th>4</th>\n",
       "      <td>this is like a drama without a script</td>\n",
       "      <td>이건 마치 각본 없는 drama</td>\n",
       "    </tr>\n",
       "    <tr>\n",
       "      <th>5</th>\n",
       "      <td>it is an ending you have never thought of</td>\n",
       "      <td>생각 못 한 결말 나와</td>\n",
       "    </tr>\n",
       "    <tr>\n",
       "      <th>...</th>\n",
       "      <td>...</td>\n",
       "      <td>...</td>\n",
       "    </tr>\n",
       "    <tr>\n",
       "      <th>49584</th>\n",
       "      <td>today i am shining brightly</td>\n",
       "      <td>모르지만 오늘도 난 밝게 빛나지</td>\n",
       "    </tr>\n",
       "    <tr>\n",
       "      <th>49585</th>\n",
       "      <td>wherever they are i will be the brightest</td>\n",
       "      <td>어디서 보아도 내가 제일 눈부시게</td>\n",
       "    </tr>\n",
       "    <tr>\n",
       "      <th>49586</th>\n",
       "      <td>even though time passes i will not wither away</td>\n",
       "      <td>시간이 지나도 사그라들지 않게</td>\n",
       "    </tr>\n",
       "    <tr>\n",
       "      <th>49587</th>\n",
       "      <td>even if i run out of breath i will not stop an...</td>\n",
       "      <td>숨이 차 올라도 멈추지 말고 더 크게 외쳐 oh</td>\n",
       "    </tr>\n",
       "    <tr>\n",
       "      <th>49588</th>\n",
       "      <td>will be seen will become clear</td>\n",
       "      <td>눈에 보이잖아 또렷해지잖아</td>\n",
       "    </tr>\n",
       "  </tbody>\n",
       "</table>\n",
       "<p>42491 rows × 2 columns</p>\n",
       "</div>"
      ],
      "text/plain": [
       "                                                     eng  \\\n",
       "0                                              time runs   \n",
       "2                          i am carrying them on my neck   \n",
       "3                           throwing my memories outside   \n",
       "4                  this is like a drama without a script   \n",
       "5              it is an ending you have never thought of   \n",
       "...                                                  ...   \n",
       "49584                        today i am shining brightly   \n",
       "49585          wherever they are i will be the brightest   \n",
       "49586     even though time passes i will not wither away   \n",
       "49587  even if i run out of breath i will not stop an...   \n",
       "49588                     will be seen will become clear   \n",
       "\n",
       "                              kor  \n",
       "0                         시간은 달려가  \n",
       "2                     잠시 내 목마를 태워  \n",
       "3                 나의 추억들을 밖으로 던진다  \n",
       "4               이건 마치 각본 없는 drama  \n",
       "5                    생각 못 한 결말 나와  \n",
       "...                           ...  \n",
       "49584           모르지만 오늘도 난 밝게 빛나지  \n",
       "49585          어디서 보아도 내가 제일 눈부시게  \n",
       "49586            시간이 지나도 사그라들지 않게  \n",
       "49587  숨이 차 올라도 멈추지 말고 더 크게 외쳐 oh  \n",
       "49588              눈에 보이잖아 또렷해지잖아  \n",
       "\n",
       "[42491 rows x 2 columns]"
      ]
     },
     "execution_count": 14,
     "metadata": {},
     "output_type": "execute_result"
    }
   ],
   "source": [
    "df_final"
   ]
  },
  {
   "cell_type": "code",
   "execution_count": 16,
   "metadata": {},
   "outputs": [],
   "source": [
    "df_test['eng'] = df_test['eng'].apply(start_end_tagger)\n",
    "df_test['kor'] = df_test['kor'].apply(start_end_tagger)"
   ]
  },
  {
   "cell_type": "code",
   "execution_count": 18,
   "metadata": {},
   "outputs": [],
   "source": [
    "df_final['kor'] = df_final['kor'].apply(start_end_tagger)\n",
    "df_final['eng'] = df_final['eng'].apply(start_end_tagger)"
   ]
  },
  {
   "cell_type": "code",
   "execution_count": 17,
   "metadata": {},
   "outputs": [
    {
     "data": {
      "text/html": [
       "<div>\n",
       "<style scoped>\n",
       "    .dataframe tbody tr th:only-of-type {\n",
       "        vertical-align: middle;\n",
       "    }\n",
       "\n",
       "    .dataframe tbody tr th {\n",
       "        vertical-align: top;\n",
       "    }\n",
       "\n",
       "    .dataframe thead th {\n",
       "        text-align: right;\n",
       "    }\n",
       "</style>\n",
       "<table border=\"1\" class=\"dataframe\">\n",
       "  <thead>\n",
       "    <tr style=\"text-align: right;\">\n",
       "      <th></th>\n",
       "      <th>eng</th>\n",
       "      <th>kor</th>\n",
       "    </tr>\n",
       "  </thead>\n",
       "  <tbody>\n",
       "    <tr>\n",
       "      <th>0</th>\n",
       "      <td>&lt;start&gt; go &lt;end&gt;</td>\n",
       "      <td>&lt;start&gt; 가 &lt;end&gt;</td>\n",
       "    </tr>\n",
       "    <tr>\n",
       "      <th>1</th>\n",
       "      <td>&lt;start&gt; hi &lt;end&gt;</td>\n",
       "      <td>&lt;start&gt; 안녕 &lt;end&gt;</td>\n",
       "    </tr>\n",
       "    <tr>\n",
       "      <th>2</th>\n",
       "      <td>&lt;start&gt; run &lt;end&gt;</td>\n",
       "      <td>&lt;start&gt; 뛰어 &lt;end&gt;</td>\n",
       "    </tr>\n",
       "    <tr>\n",
       "      <th>3</th>\n",
       "      <td>&lt;start&gt; run &lt;end&gt;</td>\n",
       "      <td>&lt;start&gt; 뛰어 &lt;end&gt;</td>\n",
       "    </tr>\n",
       "    <tr>\n",
       "      <th>4</th>\n",
       "      <td>&lt;start&gt; who &lt;end&gt;</td>\n",
       "      <td>&lt;start&gt; 누구 &lt;end&gt;</td>\n",
       "    </tr>\n",
       "    <tr>\n",
       "      <th>...</th>\n",
       "      <td>...</td>\n",
       "      <td>...</td>\n",
       "    </tr>\n",
       "    <tr>\n",
       "      <th>3313</th>\n",
       "      <td>&lt;start&gt; tom always cried when his sister took ...</td>\n",
       "      <td>&lt;start&gt; 톰은 누나가 자기 장난감을 빼앗아 갔을 때마다 울음을 터뜨렸고 누나는...</td>\n",
       "    </tr>\n",
       "    <tr>\n",
       "      <th>3314</th>\n",
       "      <td>&lt;start&gt; science fiction has undoubtedly been t...</td>\n",
       "      <td>&lt;start&gt; 공상 과학 소설은 의심의 여지 없이 오늘날 존재하는 많은 기술에 영감...</td>\n",
       "    </tr>\n",
       "    <tr>\n",
       "      <th>3315</th>\n",
       "      <td>&lt;start&gt; i started a new blog i will do my best...</td>\n",
       "      <td>&lt;start&gt; 난 블로그를 시작했어 블로그를 초반에만 반짝 많이 하다가 관두는 사람...</td>\n",
       "    </tr>\n",
       "    <tr>\n",
       "      <th>3316</th>\n",
       "      <td>&lt;start&gt; i think it is a shame that some foreig...</td>\n",
       "      <td>&lt;start&gt; 몇몇 외국어 선생님이 한 번도 원어민과 공부해본 적도 없으면서 대학을...</td>\n",
       "    </tr>\n",
       "    <tr>\n",
       "      <th>3317</th>\n",
       "      <td>&lt;start&gt; doubtless there exists in this world p...</td>\n",
       "      <td>&lt;start&gt; 의심의 여지 없이 세상에는 어떤 남자이든 정확히 딱 알맞는 여자와 결...</td>\n",
       "    </tr>\n",
       "  </tbody>\n",
       "</table>\n",
       "<p>3318 rows × 2 columns</p>\n",
       "</div>"
      ],
      "text/plain": [
       "                                                    eng  \\\n",
       "0                                      <start> go <end>   \n",
       "1                                      <start> hi <end>   \n",
       "2                                     <start> run <end>   \n",
       "3                                     <start> run <end>   \n",
       "4                                     <start> who <end>   \n",
       "...                                                 ...   \n",
       "3313  <start> tom always cried when his sister took ...   \n",
       "3314  <start> science fiction has undoubtedly been t...   \n",
       "3315  <start> i started a new blog i will do my best...   \n",
       "3316  <start> i think it is a shame that some foreig...   \n",
       "3317  <start> doubtless there exists in this world p...   \n",
       "\n",
       "                                                    kor  \n",
       "0                                       <start> 가 <end>  \n",
       "1                                      <start> 안녕 <end>  \n",
       "2                                      <start> 뛰어 <end>  \n",
       "3                                      <start> 뛰어 <end>  \n",
       "4                                      <start> 누구 <end>  \n",
       "...                                                 ...  \n",
       "3313  <start> 톰은 누나가 자기 장난감을 빼앗아 갔을 때마다 울음을 터뜨렸고 누나는...  \n",
       "3314  <start> 공상 과학 소설은 의심의 여지 없이 오늘날 존재하는 많은 기술에 영감...  \n",
       "3315  <start> 난 블로그를 시작했어 블로그를 초반에만 반짝 많이 하다가 관두는 사람...  \n",
       "3316  <start> 몇몇 외국어 선생님이 한 번도 원어민과 공부해본 적도 없으면서 대학을...  \n",
       "3317  <start> 의심의 여지 없이 세상에는 어떤 남자이든 정확히 딱 알맞는 여자와 결...  \n",
       "\n",
       "[3318 rows x 2 columns]"
      ]
     },
     "execution_count": 17,
     "metadata": {},
     "output_type": "execute_result"
    }
   ],
   "source": [
    "df_test"
   ]
  },
  {
   "cell_type": "code",
   "execution_count": 19,
   "metadata": {
    "scrolled": false
   },
   "outputs": [
    {
     "data": {
      "text/html": [
       "<div>\n",
       "<style scoped>\n",
       "    .dataframe tbody tr th:only-of-type {\n",
       "        vertical-align: middle;\n",
       "    }\n",
       "\n",
       "    .dataframe tbody tr th {\n",
       "        vertical-align: top;\n",
       "    }\n",
       "\n",
       "    .dataframe thead th {\n",
       "        text-align: right;\n",
       "    }\n",
       "</style>\n",
       "<table border=\"1\" class=\"dataframe\">\n",
       "  <thead>\n",
       "    <tr style=\"text-align: right;\">\n",
       "      <th></th>\n",
       "      <th>eng</th>\n",
       "      <th>kor</th>\n",
       "    </tr>\n",
       "  </thead>\n",
       "  <tbody>\n",
       "    <tr>\n",
       "      <th>0</th>\n",
       "      <td>&lt;start&gt; time runs &lt;end&gt;</td>\n",
       "      <td>&lt;start&gt; 시간은 달려가 &lt;end&gt;</td>\n",
       "    </tr>\n",
       "    <tr>\n",
       "      <th>2</th>\n",
       "      <td>&lt;start&gt; i am carrying them on my neck &lt;end&gt;</td>\n",
       "      <td>&lt;start&gt; 잠시 내 목마를 태워 &lt;end&gt;</td>\n",
       "    </tr>\n",
       "    <tr>\n",
       "      <th>3</th>\n",
       "      <td>&lt;start&gt; throwing my memories outside &lt;end&gt;</td>\n",
       "      <td>&lt;start&gt; 나의 추억들을 밖으로 던진다 &lt;end&gt;</td>\n",
       "    </tr>\n",
       "    <tr>\n",
       "      <th>4</th>\n",
       "      <td>&lt;start&gt; this is like a drama without a script ...</td>\n",
       "      <td>&lt;start&gt; 이건 마치 각본 없는 drama &lt;end&gt;</td>\n",
       "    </tr>\n",
       "    <tr>\n",
       "      <th>5</th>\n",
       "      <td>&lt;start&gt; it is an ending you have never thought...</td>\n",
       "      <td>&lt;start&gt; 생각 못 한 결말 나와 &lt;end&gt;</td>\n",
       "    </tr>\n",
       "    <tr>\n",
       "      <th>...</th>\n",
       "      <td>...</td>\n",
       "      <td>...</td>\n",
       "    </tr>\n",
       "    <tr>\n",
       "      <th>49584</th>\n",
       "      <td>&lt;start&gt; today i am shining brightly &lt;end&gt;</td>\n",
       "      <td>&lt;start&gt; 모르지만 오늘도 난 밝게 빛나지 &lt;end&gt;</td>\n",
       "    </tr>\n",
       "    <tr>\n",
       "      <th>49585</th>\n",
       "      <td>&lt;start&gt; wherever they are i will be the bright...</td>\n",
       "      <td>&lt;start&gt; 어디서 보아도 내가 제일 눈부시게 &lt;end&gt;</td>\n",
       "    </tr>\n",
       "    <tr>\n",
       "      <th>49586</th>\n",
       "      <td>&lt;start&gt; even though time passes i will not wit...</td>\n",
       "      <td>&lt;start&gt; 시간이 지나도 사그라들지 않게 &lt;end&gt;</td>\n",
       "    </tr>\n",
       "    <tr>\n",
       "      <th>49587</th>\n",
       "      <td>&lt;start&gt; even if i run out of breath i will not...</td>\n",
       "      <td>&lt;start&gt; 숨이 차 올라도 멈추지 말고 더 크게 외쳐 oh &lt;end&gt;</td>\n",
       "    </tr>\n",
       "    <tr>\n",
       "      <th>49588</th>\n",
       "      <td>&lt;start&gt; will be seen will become clear &lt;end&gt;</td>\n",
       "      <td>&lt;start&gt; 눈에 보이잖아 또렷해지잖아 &lt;end&gt;</td>\n",
       "    </tr>\n",
       "  </tbody>\n",
       "</table>\n",
       "<p>42491 rows × 2 columns</p>\n",
       "</div>"
      ],
      "text/plain": [
       "                                                     eng  \\\n",
       "0                                <start> time runs <end>   \n",
       "2            <start> i am carrying them on my neck <end>   \n",
       "3             <start> throwing my memories outside <end>   \n",
       "4      <start> this is like a drama without a script ...   \n",
       "5      <start> it is an ending you have never thought...   \n",
       "...                                                  ...   \n",
       "49584          <start> today i am shining brightly <end>   \n",
       "49585  <start> wherever they are i will be the bright...   \n",
       "49586  <start> even though time passes i will not wit...   \n",
       "49587  <start> even if i run out of breath i will not...   \n",
       "49588       <start> will be seen will become clear <end>   \n",
       "\n",
       "                                            kor  \n",
       "0                         <start> 시간은 달려가 <end>  \n",
       "2                     <start> 잠시 내 목마를 태워 <end>  \n",
       "3                 <start> 나의 추억들을 밖으로 던진다 <end>  \n",
       "4               <start> 이건 마치 각본 없는 drama <end>  \n",
       "5                    <start> 생각 못 한 결말 나와 <end>  \n",
       "...                                         ...  \n",
       "49584           <start> 모르지만 오늘도 난 밝게 빛나지 <end>  \n",
       "49585          <start> 어디서 보아도 내가 제일 눈부시게 <end>  \n",
       "49586            <start> 시간이 지나도 사그라들지 않게 <end>  \n",
       "49587  <start> 숨이 차 올라도 멈추지 말고 더 크게 외쳐 oh <end>  \n",
       "49588              <start> 눈에 보이잖아 또렷해지잖아 <end>  \n",
       "\n",
       "[42491 rows x 2 columns]"
      ]
     },
     "execution_count": 19,
     "metadata": {},
     "output_type": "execute_result"
    }
   ],
   "source": [
    "df_final"
   ]
  },
  {
   "cell_type": "code",
   "execution_count": 30,
   "metadata": {},
   "outputs": [],
   "source": [
    "eng_tens, eng_lang_tok = tokenize(df_test['eng'])\n",
    "kor_tens, kor_lang_tok = tokenize(df_test['kor'])"
   ]
  },
  {
   "cell_type": "code",
   "execution_count": 34,
   "metadata": {},
   "outputs": [
    {
     "data": {
      "text/plain": [
       "array([[   1,  121,    2, ...,    0,    0,    0],\n",
       "       [   1,  463,    2, ...,    0,    0,    0],\n",
       "       [   1,  464,    2, ...,    0,    0,    0],\n",
       "       ...,\n",
       "       [   1,    5, 1542, ...,    0,    0,    0],\n",
       "       [   1,  524, 5066, ...,    0,    0,    0],\n",
       "       [   1, 1540, 1541, ...,   72,   17,    2]])"
      ]
     },
     "execution_count": 34,
     "metadata": {},
     "output_type": "execute_result"
    }
   ],
   "source": [
    "kor_tens"
   ]
  },
  {
   "cell_type": "code",
   "execution_count": 32,
   "metadata": {},
   "outputs": [
    {
     "data": {
      "text/plain": [
       "103"
      ]
     },
     "execution_count": 32,
     "metadata": {},
     "output_type": "execute_result"
    }
   ],
   "source": [
    "max_length(eng_tens)"
   ]
  },
  {
   "cell_type": "code",
   "execution_count": 33,
   "metadata": {},
   "outputs": [
    {
     "data": {
      "text/plain": [
       "91"
      ]
     },
     "execution_count": 33,
     "metadata": {},
     "output_type": "execute_result"
    }
   ],
   "source": [
    "max_length(kor_tens)"
   ]
  },
  {
   "cell_type": "code",
   "execution_count": 41,
   "metadata": {},
   "outputs": [
    {
     "data": {
      "text/plain": [
       "2354"
      ]
     },
     "execution_count": 41,
     "metadata": {},
     "output_type": "execute_result"
    }
   ],
   "source": [
    "len(eng_lang_tok.word_index)"
   ]
  },
  {
   "cell_type": "code",
   "execution_count": 43,
   "metadata": {},
   "outputs": [
    {
     "data": {
      "text/plain": [
       "5103"
      ]
     },
     "execution_count": 43,
     "metadata": {},
     "output_type": "execute_result"
    }
   ],
   "source": [
    "len(kor_lang_tok.word_index)"
   ]
  },
  {
   "cell_type": "code",
   "execution_count": 49,
   "metadata": {},
   "outputs": [],
   "source": [
    "input_tensor, target_tensor, inp_lang_tokenizer, targ_lang_tokenizer = load_dataset(df_test['eng'], df_test['kor'])"
   ]
  },
  {
   "cell_type": "code",
   "execution_count": 50,
   "metadata": {},
   "outputs": [],
   "source": [
    "max_length_inp, max_length_targ = max_length(input_tensor), max_length(target_tensor)"
   ]
  },
  {
   "cell_type": "code",
   "execution_count": 62,
   "metadata": {},
   "outputs": [],
   "source": [
    "def create_tf_dataset(input_tensor, target_tensor, input_tokenizer, target_tokenizer):\n",
    "    buffer_size = len(input_tensor)\n",
    "    batch_size = 64\n",
    "    steps_per_epoch = len(input_tensor)//batch_size\n",
    "    embedding_dim = 256\n",
    "    units = 1024\n",
    "    vocab_inp_size = len(input_tokenizer.word_index)+1\n",
    "    vocab_tar_size = len(target_tokenizer.word_index)+1\n",
    "    \n",
    "    dataset = tf.data.Dataset.from_tensor_slices((input_tensor, target_tensor)).shuffle(buffer_size)\n",
    "    dataset = dataset.batch(batch_size, drop_remainder=True)\n",
    "    return dataset"
   ]
  },
  {
   "cell_type": "code",
   "execution_count": 63,
   "metadata": {},
   "outputs": [],
   "source": [
    "df = create_tf_dataset(input_tensor, target_tensor, inp_lang_tokenizer, targ_lang_tokenizer)"
   ]
  },
  {
   "cell_type": "code",
   "execution_count": 77,
   "metadata": {},
   "outputs": [
    {
     "data": {
      "text/plain": [
       "<BatchDataset shapes: ((64, 103), (64, 91)), types: (tf.int32, tf.int32)>"
      ]
     },
     "execution_count": 77,
     "metadata": {},
     "output_type": "execute_result"
    }
   ],
   "source": [
    "df"
   ]
  },
  {
   "cell_type": "code",
   "execution_count": 67,
   "metadata": {},
   "outputs": [
    {
     "data": {
      "text/plain": [
       "<TakeDataset shapes: ((64, 103), (64, 91)), types: (tf.int32, tf.int32)>"
      ]
     },
     "execution_count": 67,
     "metadata": {},
     "output_type": "execute_result"
    }
   ],
   "source": [
    "df.take(len(input_tensor)//64)"
   ]
  },
  {
   "cell_type": "code",
   "execution_count": 69,
   "metadata": {},
   "outputs": [],
   "source": [
    "encoder_inputs = Input(shape=(None, 20))\n",
    "encoder = GRU(100, return_state=True)\n",
    "encoder_outputs, state_h = encoder(encoder_inputs)"
   ]
  },
  {
   "cell_type": "code",
   "execution_count": 70,
   "metadata": {},
   "outputs": [],
   "source": [
    "decoder_inputs = Input(shape=(None, 20))\n",
    "decoder_gru = GRU(100, return_sequences=True)\n",
    "decoder_outputs = decoder_gru(decoder_inputs, initial_state=state_h)\n",
    "decoder_dense = Dense(20, activation='softmax')\n",
    "decoder_outputs = decoder_dense(decoder_outputs)"
   ]
  },
  {
   "cell_type": "code",
   "execution_count": 71,
   "metadata": {},
   "outputs": [],
   "source": [
    "model = Model([encoder_inputs, decoder_inputs], decoder_outputs)"
   ]
  },
  {
   "cell_type": "code",
   "execution_count": 73,
   "metadata": {},
   "outputs": [
    {
     "name": "stdout",
     "output_type": "stream",
     "text": [
      "Model: \"model\"\n",
      "__________________________________________________________________________________________________\n",
      "Layer (type)                    Output Shape         Param #     Connected to                     \n",
      "==================================================================================================\n",
      "input_1 (InputLayer)            [(None, None, 20)]   0                                            \n",
      "__________________________________________________________________________________________________\n",
      "input_2 (InputLayer)            [(None, None, 20)]   0                                            \n",
      "__________________________________________________________________________________________________\n",
      "gru (GRU)                       [(None, 100), (None, 36600       input_1[0][0]                    \n",
      "__________________________________________________________________________________________________\n",
      "gru_1 (GRU)                     (None, None, 100)    36600       input_2[0][0]                    \n",
      "                                                                 gru[0][1]                        \n",
      "__________________________________________________________________________________________________\n",
      "dense (Dense)                   (None, None, 20)     2020        gru_1[0][0]                      \n",
      "==================================================================================================\n",
      "Total params: 75,220\n",
      "Trainable params: 75,220\n",
      "Non-trainable params: 0\n",
      "__________________________________________________________________________________________________\n"
     ]
    }
   ],
   "source": [
    "model.summary()"
   ]
  },
  {
   "cell_type": "code",
   "execution_count": 75,
   "metadata": {},
   "outputs": [],
   "source": [
    "model.compile(optimizer=Adam(), loss=SparseCategoricalCrossentropy())"
   ]
  },
  {
   "cell_type": "code",
   "execution_count": null,
   "metadata": {},
   "outputs": [],
   "source": [
    "model.fit()"
   ]
  }
 ],
 "metadata": {
  "kernelspec": {
   "display_name": "TensorFlow-GPU",
   "language": "python",
   "name": "tf-gpu"
  },
  "language_info": {
   "codemirror_mode": {
    "name": "ipython",
    "version": 3
   },
   "file_extension": ".py",
   "mimetype": "text/x-python",
   "name": "python",
   "nbconvert_exporter": "python",
   "pygments_lexer": "ipython3",
   "version": "3.7.6"
  }
 },
 "nbformat": 4,
 "nbformat_minor": 4
}
